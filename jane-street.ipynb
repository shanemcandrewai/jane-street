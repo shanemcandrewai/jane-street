{
 "cells": [
  {
   "cell_type": "markdown",
   "id": "valid-convention",
   "metadata": {},
   "source": [
    "# Jane Street Market Prediction - data exploration\n",
    "[Kaggle Jane Street Market Prediction](https://www.kaggle.com/c/jane-street-market-prediction/overview)\n"
   ]
  },
  {
   "cell_type": "markdown",
   "id": "bacterial-minister",
   "metadata": {},
   "source": [
    "## Calculate utility score of training set where `action` = 1 for all `resp` > 0\n",
    "[training set](https://www.kaggle.com/c/jane-street-market-prediction/data?select=train.csv)"
   ]
  },
  {
   "cell_type": "code",
   "execution_count": 1,
   "id": "acute-thumb",
   "metadata": {},
   "outputs": [
    {
     "data": {
      "text/html": [
       "<style type='text/css'>\n",
       ".datatable table.frame { margin-bottom: 0; }\n",
       ".datatable table.frame thead { border-bottom: none; }\n",
       ".datatable table.frame tr.coltypes td {  color: #FFFFFF;  line-height: 6px;  padding: 0 0.5em;}\n",
       ".datatable .bool    { background: #DDDD99; }\n",
       ".datatable .object  { background: #565656; }\n",
       ".datatable .int     { background: #5D9E5D; }\n",
       ".datatable .float   { background: #4040CC; }\n",
       ".datatable .str     { background: #CC4040; }\n",
       ".datatable .row_index {  background: var(--jp-border-color3);  border-right: 1px solid var(--jp-border-color0);  color: var(--jp-ui-font-color3);  font-size: 9px;}\n",
       ".datatable .frame tr.coltypes .row_index {  background: var(--jp-border-color0);}\n",
       ".datatable th:nth-child(2) { padding-left: 12px; }\n",
       ".datatable .hellipsis {  color: var(--jp-cell-editor-border-color);}\n",
       ".datatable .vellipsis {  background: var(--jp-layout-color0);  color: var(--jp-cell-editor-border-color);}\n",
       ".datatable .na {  color: var(--jp-cell-editor-border-color);  font-size: 80%;}\n",
       ".datatable .footer { font-size: 9px; }\n",
       ".datatable .frame_dimensions {  background: var(--jp-border-color3);  border-top: 1px solid var(--jp-border-color0);  color: var(--jp-ui-font-color3);  display: inline-block;  opacity: 0.6;  padding: 1px 10px 1px 5px;}\n",
       "</style>\n"
      ],
      "text/plain": [
       "<IPython.core.display.HTML object>"
      ]
     },
     "metadata": {},
     "output_type": "display_data"
    }
   ],
   "source": [
    "import pandas as pd\n",
    "import numpy as np\n",
    "import datatable as dt\n",
    "X = dt.fread('jane-street-market-prediction/train.csv').to_pandas()"
   ]
  },
  {
   "cell_type": "code",
   "execution_count": 2,
   "id": "romance-rally",
   "metadata": {},
   "outputs": [
    {
     "name": "stdout",
     "output_type": "stream",
     "text": [
      "224162.2681796676\n"
     ]
    }
   ],
   "source": [
    "X['pj'] = X.weight * np.where((X.resp > 0), X.resp, 0)\n",
    "pi = X.groupby(['date']).pj.sum()\n",
    "t = pi.sum()/((pi**2).sum()**0.5) * (250/pi.count())**0.5\n",
    "u = min(max(t, 0), 6) * pi.sum()\n",
    "X.drop('pj', 1)\n",
    "print(u)"
   ]
  },
  {
   "cell_type": "markdown",
   "id": "horizontal-platform",
   "metadata": {},
   "source": [
    "## Calculate utility score of the mock test set where `action` = 1 for all *predicted* `resp` > 0\n",
    "[mock test set](https://www.kaggle.com/c/jane-street-market-prediction/data?select=example_test.csv)"
   ]
  },
  {
   "cell_type": "code",
   "execution_count": 3,
   "id": "posted-salvation",
   "metadata": {},
   "outputs": [],
   "source": [
    "y = np.where((X.resp > 0), 1, 0)\n",
    "X.drop(['date', 'resp_1', 'resp_2', 'resp_3', 'resp_4', 'resp', 'ts_id'], axis=1, inplace=True)"
   ]
  },
  {
   "cell_type": "code",
   "execution_count": 4,
   "id": "protecting-hearts",
   "metadata": {},
   "outputs": [
    {
     "name": "stdout",
     "output_type": "stream",
     "text": [
      "Binning 2.272 GB of training data: 42.850 s\n",
      "Binning 0.252 GB of validation data: 1.759 s\n",
      "Fitting gradient boosted rounds:\n",
      "[1/100] 1 tree, 31 leaves, max depth = 11, train loss: 0.61420, val loss: 0.61429, in 1.928s\n",
      "[2/100] 1 tree, 31 leaves, max depth = 12, train loss: 0.54952, val loss: 0.54970, in 1.823s\n",
      "[3/100] 1 tree, 31 leaves, max depth = 11, train loss: 0.49559, val loss: 0.49583, in 1.766s\n",
      "[4/100] 1 tree, 31 leaves, max depth = 11, train loss: 0.45003, val loss: 0.45034, in 1.783s\n",
      "[5/100] 1 tree, 31 leaves, max depth = 13, train loss: 0.41107, val loss: 0.41143, in 1.699s\n",
      "[6/100] 1 tree, 31 leaves, max depth = 12, train loss: 0.37752, val loss: 0.37793, in 1.795s\n",
      "[7/100] 1 tree, 31 leaves, max depth = 11, train loss: 0.34841, val loss: 0.34886, in 1.842s\n",
      "[8/100] 1 tree, 31 leaves, max depth = 14, train loss: 0.32301, val loss: 0.32351, in 1.774s\n",
      "[9/100] 1 tree, 31 leaves, max depth = 11, train loss: 0.30073, val loss: 0.30127, in 1.817s\n",
      "[10/100] 1 tree, 31 leaves, max depth = 11, train loss: 0.28116, val loss: 0.28171, in 1.802s\n",
      "[11/100] 1 tree, 31 leaves, max depth = 11, train loss: 0.26386, val loss: 0.26445, in 1.745s\n",
      "[12/100] 1 tree, 31 leaves, max depth = 15, train loss: 0.24852, val loss: 0.24913, in 1.791s\n",
      "[13/100] 1 tree, 31 leaves, max depth = 14, train loss: 0.23489, val loss: 0.23553, in 1.808s\n",
      "[14/100] 1 tree, 31 leaves, max depth = 13, train loss: 0.22278, val loss: 0.22345, in 1.707s\n",
      "[15/100] 1 tree, 31 leaves, max depth = 10, train loss: 0.21200, val loss: 0.21268, in 1.798s\n",
      "[16/100] 1 tree, 31 leaves, max depth = 13, train loss: 0.20236, val loss: 0.20306, in 1.501s\n",
      "[17/100] 1 tree, 31 leaves, max depth = 14, train loss: 0.19374, val loss: 0.19445, in 1.676s\n",
      "[18/100] 1 tree, 31 leaves, max depth = 9, train loss: 0.18602, val loss: 0.18677, in 1.781s\n",
      "[19/100] 1 tree, 31 leaves, max depth = 13, train loss: 0.17910, val loss: 0.17986, in 1.617s\n",
      "[20/100] 1 tree, 31 leaves, max depth = 14, train loss: 0.17288, val loss: 0.17365, in 1.682s\n",
      "[21/100] 1 tree, 31 leaves, max depth = 11, train loss: 0.16729, val loss: 0.16808, in 1.617s\n",
      "[22/100] 1 tree, 31 leaves, max depth = 13, train loss: 0.16224, val loss: 0.16304, in 1.687s\n",
      "[23/100] 1 tree, 31 leaves, max depth = 11, train loss: 0.15773, val loss: 0.15855, in 1.656s\n",
      "[24/100] 1 tree, 31 leaves, max depth = 16, train loss: 0.15365, val loss: 0.15448, in 1.604s\n",
      "[25/100] 1 tree, 31 leaves, max depth = 11, train loss: 0.14998, val loss: 0.15083, in 1.647s\n",
      "[26/100] 1 tree, 31 leaves, max depth = 16, train loss: 0.14668, val loss: 0.14755, in 1.754s\n",
      "[27/100] 1 tree, 31 leaves, max depth = 13, train loss: 0.14370, val loss: 0.14459, in 1.575s\n",
      "[28/100] 1 tree, 31 leaves, max depth = 10, train loss: 0.14100, val loss: 0.14191, in 1.655s\n",
      "[29/100] 1 tree, 31 leaves, max depth = 16, train loss: 0.13857, val loss: 0.13950, in 1.680s\n",
      "[30/100] 1 tree, 31 leaves, max depth = 11, train loss: 0.13637, val loss: 0.13730, in 1.688s\n",
      "[31/100] 1 tree, 31 leaves, max depth = 15, train loss: 0.13439, val loss: 0.13533, in 1.920s\n",
      "[32/100] 1 tree, 31 leaves, max depth = 12, train loss: 0.13260, val loss: 0.13356, in 1.610s\n",
      "[33/100] 1 tree, 31 leaves, max depth = 14, train loss: 0.13098, val loss: 0.13196, in 1.587s\n",
      "[34/100] 1 tree, 31 leaves, max depth = 11, train loss: 0.12952, val loss: 0.13051, in 1.650s\n",
      "[35/100] 1 tree, 31 leaves, max depth = 15, train loss: 0.12819, val loss: 0.12919, in 1.683s\n",
      "[36/100] 1 tree, 31 leaves, max depth = 14, train loss: 0.12698, val loss: 0.12800, in 1.711s\n",
      "[37/100] 1 tree, 31 leaves, max depth = 12, train loss: 0.12587, val loss: 0.12690, in 1.773s\n",
      "[38/100] 1 tree, 31 leaves, max depth = 15, train loss: 0.12488, val loss: 0.12593, in 1.868s\n",
      "[39/100] 1 tree, 31 leaves, max depth = 11, train loss: 0.12398, val loss: 0.12504, in 1.594s\n",
      "[40/100] 1 tree, 31 leaves, max depth = 14, train loss: 0.12318, val loss: 0.12424, in 1.635s\n",
      "[41/100] 1 tree, 31 leaves, max depth = 15, train loss: 0.12242, val loss: 0.12350, in 1.732s\n",
      "[42/100] 1 tree, 31 leaves, max depth = 12, train loss: 0.12176, val loss: 0.12284, in 1.557s\n",
      "[43/100] 1 tree, 31 leaves, max depth = 12, train loss: 0.12112, val loss: 0.12222, in 1.683s\n",
      "[44/100] 1 tree, 31 leaves, max depth = 14, train loss: 0.12057, val loss: 0.12169, in 1.713s\n",
      "[45/100] 1 tree, 31 leaves, max depth = 14, train loss: 0.12008, val loss: 0.12121, in 1.645s\n",
      "[46/100] 1 tree, 31 leaves, max depth = 10, train loss: 0.11962, val loss: 0.12076, in 1.609s\n",
      "[47/100] 1 tree, 31 leaves, max depth = 12, train loss: 0.11921, val loss: 0.12037, in 1.791s\n",
      "[48/100] 1 tree, 31 leaves, max depth = 12, train loss: 0.11882, val loss: 0.11999, in 1.778s\n",
      "[49/100] 1 tree, 31 leaves, max depth = 12, train loss: 0.11848, val loss: 0.11965, in 1.602s\n",
      "[50/100] 1 tree, 31 leaves, max depth = 11, train loss: 0.11816, val loss: 0.11935, in 1.588s\n",
      "[51/100] 1 tree, 31 leaves, max depth = 11, train loss: 0.11787, val loss: 0.11907, in 1.704s\n",
      "[52/100] 1 tree, 31 leaves, max depth = 12, train loss: 0.11761, val loss: 0.11881, in 1.708s\n",
      "[53/100] 1 tree, 31 leaves, max depth = 12, train loss: 0.11736, val loss: 0.11858, in 1.680s\n",
      "[54/100] 1 tree, 31 leaves, max depth = 10, train loss: 0.11715, val loss: 0.11838, in 1.647s\n",
      "[55/100] 1 tree, 31 leaves, max depth = 14, train loss: 0.11694, val loss: 0.11818, in 1.725s\n",
      "[56/100] 1 tree, 31 leaves, max depth = 13, train loss: 0.11673, val loss: 0.11798, in 1.674s\n",
      "[57/100] 1 tree, 31 leaves, max depth = 14, train loss: 0.11656, val loss: 0.11781, in 1.577s\n",
      "[58/100] 1 tree, 31 leaves, max depth = 17, train loss: 0.11641, val loss: 0.11768, in 1.675s\n",
      "[59/100] 1 tree, 31 leaves, max depth = 15, train loss: 0.11626, val loss: 0.11754, in 1.726s\n",
      "[60/100] 1 tree, 31 leaves, max depth = 11, train loss: 0.11613, val loss: 0.11742, in 1.579s\n",
      "[61/100] 1 tree, 31 leaves, max depth = 15, train loss: 0.11601, val loss: 0.11731, in 1.624s\n",
      "[62/100] 1 tree, 31 leaves, max depth = 14, train loss: 0.11589, val loss: 0.11721, in 1.518s\n",
      "[63/100] 1 tree, 31 leaves, max depth = 13, train loss: 0.11578, val loss: 0.11711, in 1.704s\n",
      "[64/100] 1 tree, 31 leaves, max depth = 10, train loss: 0.11569, val loss: 0.11702, in 1.562s\n",
      "[65/100] 1 tree, 31 leaves, max depth = 13, train loss: 0.11560, val loss: 0.11695, in 1.555s\n",
      "[66/100] 1 tree, 31 leaves, max depth = 10, train loss: 0.11552, val loss: 0.11688, in 1.524s\n",
      "[67/100] 1 tree, 31 leaves, max depth = 12, train loss: 0.11543, val loss: 0.11681, in 1.856s\n",
      "[68/100] 1 tree, 31 leaves, max depth = 11, train loss: 0.11535, val loss: 0.11674, in 1.634s\n",
      "[69/100] 1 tree, 31 leaves, max depth = 11, train loss: 0.11528, val loss: 0.11667, in 1.592s\n",
      "[70/100] 1 tree, 31 leaves, max depth = 14, train loss: 0.11521, val loss: 0.11662, in 1.604s\n",
      "[71/100] 1 tree, 31 leaves, max depth = 12, train loss: 0.11515, val loss: 0.11657, in 1.592s\n",
      "[72/100] 1 tree, 31 leaves, max depth = 13, train loss: 0.11509, val loss: 0.11652, in 1.549s\n",
      "[73/100] 1 tree, 31 leaves, max depth = 12, train loss: 0.11504, val loss: 0.11648, in 1.595s\n",
      "[74/100] 1 tree, 31 leaves, max depth = 15, train loss: 0.11500, val loss: 0.11646, in 1.506s\n",
      "[75/100] 1 tree, 31 leaves, max depth = 13, train loss: 0.11494, val loss: 0.11640, in 1.569s\n",
      "[76/100] 1 tree, 31 leaves, max depth = 15, train loss: 0.11486, val loss: 0.11633, in 1.658s\n",
      "[77/100] 1 tree, 31 leaves, max depth = 12, train loss: 0.11480, val loss: 0.11628, in 1.633s\n",
      "[78/100] 1 tree, 31 leaves, max depth = 15, train loss: 0.11474, val loss: 0.11624, in 1.633s\n",
      "[79/100] 1 tree, 31 leaves, max depth = 10, train loss: 0.11471, val loss: 0.11621, in 1.505s\n",
      "[80/100] 1 tree, 31 leaves, max depth = 12, train loss: 0.11467, val loss: 0.11619, in 1.524s\n",
      "[81/100] 1 tree, 31 leaves, max depth = 10, train loss: 0.11464, val loss: 0.11618, in 1.542s\n",
      "[82/100] 1 tree, 31 leaves, max depth = 14, train loss: 0.11459, val loss: 0.11614, in 1.589s\n",
      "[83/100] 1 tree, 31 leaves, max depth = 10, train loss: 0.11455, val loss: 0.11612, in 1.747s\n",
      "[84/100] 1 tree, 31 leaves, max depth = 11, train loss: 0.11451, val loss: 0.11609, in 1.629s\n",
      "[85/100] 1 tree, 31 leaves, max depth = 13, train loss: 0.11448, val loss: 0.11607, in 1.509s\n",
      "[86/100] 1 tree, 31 leaves, max depth = 15, train loss: 0.11446, val loss: 0.11605, in 1.500s\n",
      "[87/100] 1 tree, 31 leaves, max depth = 13, train loss: 0.11442, val loss: 0.11603, in 1.545s\n",
      "[88/100] 1 tree, 31 leaves, max depth = 12, train loss: 0.11439, val loss: 0.11601, in 1.572s\n",
      "[89/100] 1 tree, 31 leaves, max depth = 14, train loss: 0.11437, val loss: 0.11600, in 1.572s\n",
      "[90/100] 1 tree, 31 leaves, max depth = 11, train loss: 0.11433, val loss: 0.11598, in 1.556s\n",
      "[91/100] 1 tree, 31 leaves, max depth = 13, train loss: 0.11429, val loss: 0.11594, in 1.678s\n",
      "[92/100] 1 tree, 31 leaves, max depth = 17, train loss: 0.11424, val loss: 0.11590, in 1.636s\n",
      "[93/100] 1 tree, 31 leaves, max depth = 11, train loss: 0.11421, val loss: 0.11588, in 1.610s\n",
      "[94/100] 1 tree, 31 leaves, max depth = 14, train loss: 0.11418, val loss: 0.11587, in 1.604s\n",
      "[95/100] 1 tree, 31 leaves, max depth = 14, train loss: 0.11414, val loss: 0.11583, in 1.599s\n",
      "[96/100] 1 tree, 31 leaves, max depth = 14, train loss: 0.11409, val loss: 0.11579, in 1.711s\n",
      "[97/100] 1 tree, 31 leaves, max depth = 13, train loss: 0.11406, val loss: 0.11579, in 1.579s\n",
      "[98/100] 1 tree, 31 leaves, max depth = 13, train loss: 0.11403, val loss: 0.11576, in 1.595s\n",
      "[99/100] 1 tree, 31 leaves, max depth = 17, train loss: 0.11399, val loss: 0.11573, in 1.625s\n",
      "[100/100] 1 tree, 31 leaves, max depth = 11, train loss: 0.11396, val loss: 0.11572, in 1.644s\n",
      "Fit 100 trees in 245.597 s, (3100 total leaves)\n",
      "Time spent computing histograms: 57.601s\n",
      "Time spent finding best splits:  3.269s\n",
      "Time spent applying splits:      4.225s\n",
      "Time spent predicting:           0.901s\n"
     ]
    }
   ],
   "source": [
    "from sklearn.experimental import enable_hist_gradient_boosting\n",
    "from sklearn.ensemble import HistGradientBoostingClassifier\n",
    "gbc = HistGradientBoostingClassifier(verbose=1).fit(X, y)"
   ]
  },
  {
   "cell_type": "code",
   "execution_count": 5,
   "id": "damaged-nirvana",
   "metadata": {},
   "outputs": [],
   "source": [
    "del X, y"
   ]
  },
  {
   "cell_type": "code",
   "execution_count": 6,
   "id": "closed-remainder",
   "metadata": {},
   "outputs": [],
   "source": [
    "import pandas as pd\n",
    "import numpy as np\n",
    "import datatable as dt\n",
    "example_sample_submission = dt.fread('jane-street-market-prediction/example_sample_submission.csv').to_pandas()\n",
    "example_test = dt.fread('jane-street-market-prediction/example_test.csv').to_pandas()"
   ]
  },
  {
   "cell_type": "code",
   "execution_count": 8,
   "id": "patent-machine",
   "metadata": {},
   "outputs": [
    {
     "data": {
      "text/plain": [
       "array([], dtype=int32)"
      ]
     },
     "execution_count": 8,
     "metadata": {},
     "output_type": "execute_result"
    }
   ],
   "source": [
    "pred = gbc.predict(example_test.drop('date', 1))\n",
    "pred[pred == 0]"
   ]
  },
  {
   "cell_type": "code",
   "execution_count": null,
   "id": "median-lesson",
   "metadata": {},
   "outputs": [],
   "source": [
    "pred[pred == 0]\n",
    "example_sample_submission[example_sample_submission == 0]"
   ]
  },
  {
   "cell_type": "raw",
   "id": "juvenile-technician",
   "metadata": {},
   "source": [
    "y = np.where((X.resp > 0), 1, 0)\n",
    "X.drop(['date', 'resp_1', 'resp_2', 'resp_3', 'resp_4', 'resp', 'ts_id'], axis=1, inplace=True)"
   ]
  },
  {
   "cell_type": "code",
   "execution_count": null,
   "id": "flexible-permit",
   "metadata": {},
   "outputs": [],
   "source": [
    "X = pd.concat([example_sample_submission.set_index('ts_id'), example_test.set_index('ts_id')], axis=1)"
   ]
  },
  {
   "cell_type": "code",
   "execution_count": null,
   "id": "sustained-amsterdam",
   "metadata": {},
   "outputs": [],
   "source": [
    "X"
   ]
  },
  {
   "cell_type": "code",
   "execution_count": null,
   "id": "thirty-making",
   "metadata": {},
   "outputs": [],
   "source": [
    "X['pj'] = X.weight * X.action\n",
    "pi = X.groupby(['date']).pj.sum()\n",
    "t = pi.sum()/((pi**2).sum()**0.5) * (250/pi.count())**0.5\n",
    "u = min(max(t, 0), 6) * pi.sum()\n",
    "print(u)"
   ]
  },
  {
   "cell_type": "code",
   "execution_count": null,
   "id": "rough-detective",
   "metadata": {},
   "outputs": [],
   "source": [
    "X['pj'] = X.weight * np.where((X.resp > 0), X.resp, 0)\n",
    "pi = X.groupby(['date']).pj.sum()\n",
    "t = pi.sum()/((pi**2).sum()**0.5) * (250/pi.count())**0.5\n",
    "u = min(max(t, 0), 6) * pi.sum()\n",
    "print(u)"
   ]
  },
  {
   "cell_type": "raw",
   "id": "descending-tennessee",
   "metadata": {},
   "source": [
    "# https://www.kaggle.com/c/jane-street-market-prediction/overview/evaluation\n",
    "import janestreet\n",
    "env = janestreet.make_env() # initialize the environment\n",
    "iter_test = env.iter_test() # an iterator which loops over the test set\n",
    "\n",
    "for (test_df, sample_prediction_df) in iter_test:\n",
    "    sample_prediction_df.action = 0 #make your 0/1 prediction here\n",
    "    env.predict(sample_prediction_df)"
   ]
  },
  {
   "cell_type": "code",
   "execution_count": null,
   "id": "periodic-relation",
   "metadata": {},
   "outputs": [],
   "source": []
  }
 ],
 "metadata": {
  "kernelspec": {
   "display_name": "Python 3",
   "language": "python",
   "name": "python3"
  },
  "language_info": {
   "codemirror_mode": {
    "name": "ipython",
    "version": 3
   },
   "file_extension": ".py",
   "mimetype": "text/x-python",
   "name": "python",
   "nbconvert_exporter": "python",
   "pygments_lexer": "ipython3",
   "version": "3.8.2"
  }
 },
 "nbformat": 4,
 "nbformat_minor": 5
}
