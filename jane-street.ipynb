{
 "cells": [
  {
   "cell_type": "markdown",
   "id": "settled-specialist",
   "metadata": {},
   "source": [
    "# Jane Street Market Prediction\n",
    "[Kaggle Jane Street Market Prediction](https://www.kaggle.com/c/jane-street-market-prediction/overview)\n"
   ]
  },
  {
   "cell_type": "code",
   "execution_count": 1,
   "id": "accepting-replica",
   "metadata": {},
   "outputs": [
    {
     "data": {
      "text/html": [
       "<style type='text/css'>\n",
       ".datatable table.frame { margin-bottom: 0; }\n",
       ".datatable table.frame thead { border-bottom: none; }\n",
       ".datatable table.frame tr.coltypes td {  color: #FFFFFF;  line-height: 6px;  padding: 0 0.5em;}\n",
       ".datatable .bool    { background: #DDDD99; }\n",
       ".datatable .object  { background: #565656; }\n",
       ".datatable .int     { background: #5D9E5D; }\n",
       ".datatable .float   { background: #4040CC; }\n",
       ".datatable .str     { background: #CC4040; }\n",
       ".datatable .row_index {  background: var(--jp-border-color3);  border-right: 1px solid var(--jp-border-color0);  color: var(--jp-ui-font-color3);  font-size: 9px;}\n",
       ".datatable .frame tr.coltypes .row_index {  background: var(--jp-border-color0);}\n",
       ".datatable th:nth-child(2) { padding-left: 12px; }\n",
       ".datatable .hellipsis {  color: var(--jp-cell-editor-border-color);}\n",
       ".datatable .vellipsis {  background: var(--jp-layout-color0);  color: var(--jp-cell-editor-border-color);}\n",
       ".datatable .na {  color: var(--jp-cell-editor-border-color);  font-size: 80%;}\n",
       ".datatable .footer { font-size: 9px; }\n",
       ".datatable .frame_dimensions {  background: var(--jp-border-color3);  border-top: 1px solid var(--jp-border-color0);  color: var(--jp-ui-font-color3);  display: inline-block;  opacity: 0.6;  padding: 1px 10px 1px 5px;}\n",
       "</style>\n"
      ],
      "text/plain": [
       "<IPython.core.display.HTML object>"
      ]
     },
     "metadata": {},
     "output_type": "display_data"
    }
   ],
   "source": [
    "import pandas as pd\n",
    "import numpy as np\n",
    "import datatable as dt\n",
    "X = dt.fread('jane-street-market-prediction/train.csv').to_pandas()"
   ]
  },
  {
   "cell_type": "markdown",
   "id": "oriented-barrel",
   "metadata": {},
   "source": [
    "## Calculate utility score of training set where `action` = 1 for all `resp` > 0\n",
    "[training set](https://www.kaggle.com/c/jane-street-market-prediction/data?select=train.csv)"
   ]
  },
  {
   "cell_type": "raw",
   "id": "adult-syndrome",
   "metadata": {},
   "source": [
    "X['pj'] = X.weight * np.where((X.resp > 0), X.resp, 0)\n",
    "pi = X.groupby(['date']).pj.sum()\n",
    "t = pi.sum()/((pi**2).sum()**0.5) * (250/pi.count())**0.5\n",
    "u = min(max(t, 0), 6) * pi.sum()\n",
    "X.drop('pj', axis=1, inplace=True)\n",
    "del pi\n",
    "u"
   ]
  },
  {
   "cell_type": "markdown",
   "id": "unauthorized-convention",
   "metadata": {},
   "source": [
    "### Utility score\n",
    "224162.2681796676"
   ]
  },
  {
   "cell_type": "markdown",
   "id": "recognized-printer",
   "metadata": {},
   "source": [
    "## Split training set and fit tree"
   ]
  },
  {
   "cell_type": "code",
   "execution_count": 8,
   "id": "starting-catholic",
   "metadata": {},
   "outputs": [
    {
     "ename": "AttributeError",
     "evalue": "'DataFrame' object has no attribute 'date'",
     "output_type": "error",
     "traceback": [
      "\u001b[0;31m---------------------------------------------------------------------------\u001b[0m",
      "\u001b[0;31mAttributeError\u001b[0m                            Traceback (most recent call last)",
      "\u001b[0;32m<ipython-input-8-db61552e75b1>\u001b[0m in \u001b[0;36m<module>\u001b[0;34m\u001b[0m\n\u001b[0;32m----> 1\u001b[0;31m \u001b[0mXt\u001b[0m \u001b[0;34m=\u001b[0m \u001b[0mX\u001b[0m\u001b[0;34m[\u001b[0m\u001b[0mX\u001b[0m\u001b[0;34m.\u001b[0m\u001b[0mdate\u001b[0m \u001b[0;34m>=\u001b[0m \u001b[0;36m460\u001b[0m\u001b[0;34m]\u001b[0m\u001b[0;34m\u001b[0m\u001b[0;34m\u001b[0m\u001b[0m\n\u001b[0m\u001b[1;32m      2\u001b[0m \u001b[0myt\u001b[0m \u001b[0;34m=\u001b[0m \u001b[0mnp\u001b[0m\u001b[0;34m.\u001b[0m\u001b[0mwhere\u001b[0m\u001b[0;34m(\u001b[0m\u001b[0;34m(\u001b[0m\u001b[0mXt\u001b[0m\u001b[0;34m.\u001b[0m\u001b[0mresp\u001b[0m \u001b[0;34m>\u001b[0m \u001b[0;36m0\u001b[0m\u001b[0;34m)\u001b[0m\u001b[0;34m,\u001b[0m \u001b[0;36m1\u001b[0m\u001b[0;34m,\u001b[0m \u001b[0;36m0\u001b[0m\u001b[0;34m)\u001b[0m\u001b[0;34m\u001b[0m\u001b[0;34m\u001b[0m\u001b[0m\n\u001b[1;32m      3\u001b[0m \u001b[0mX\u001b[0m \u001b[0;34m=\u001b[0m \u001b[0mX\u001b[0m\u001b[0;34m[\u001b[0m\u001b[0;34m(\u001b[0m\u001b[0mX\u001b[0m\u001b[0;34m.\u001b[0m\u001b[0mdate\u001b[0m \u001b[0;34m>\u001b[0m \u001b[0;36m85\u001b[0m\u001b[0;34m)\u001b[0m \u001b[0;34m&\u001b[0m \u001b[0;34m(\u001b[0m\u001b[0mX\u001b[0m\u001b[0;34m.\u001b[0m\u001b[0mdate\u001b[0m \u001b[0;34m<\u001b[0m \u001b[0;36m460\u001b[0m\u001b[0;34m)\u001b[0m\u001b[0;34m]\u001b[0m\u001b[0;34m\u001b[0m\u001b[0;34m\u001b[0m\u001b[0m\n\u001b[1;32m      4\u001b[0m \u001b[0my\u001b[0m \u001b[0;34m=\u001b[0m \u001b[0mnp\u001b[0m\u001b[0;34m.\u001b[0m\u001b[0mwhere\u001b[0m\u001b[0;34m(\u001b[0m\u001b[0;34m(\u001b[0m\u001b[0mX\u001b[0m\u001b[0;34m.\u001b[0m\u001b[0mresp\u001b[0m \u001b[0;34m>\u001b[0m \u001b[0;36m0\u001b[0m\u001b[0;34m)\u001b[0m\u001b[0;34m,\u001b[0m \u001b[0;36m1\u001b[0m\u001b[0;34m,\u001b[0m \u001b[0;36m0\u001b[0m\u001b[0;34m)\u001b[0m\u001b[0;34m\u001b[0m\u001b[0;34m\u001b[0m\u001b[0m\n\u001b[1;32m      5\u001b[0m \u001b[0mdrop_cols\u001b[0m \u001b[0;34m=\u001b[0m \u001b[0;34m[\u001b[0m\u001b[0;34m'date'\u001b[0m\u001b[0;34m,\u001b[0m \u001b[0;34m'resp_1'\u001b[0m\u001b[0;34m,\u001b[0m \u001b[0;34m'resp_2'\u001b[0m\u001b[0;34m,\u001b[0m \u001b[0;34m'resp_3'\u001b[0m\u001b[0;34m,\u001b[0m \u001b[0;34m'resp_4'\u001b[0m\u001b[0;34m,\u001b[0m \u001b[0;34m'resp'\u001b[0m\u001b[0;34m,\u001b[0m \u001b[0;34m'ts_id'\u001b[0m\u001b[0;34m]\u001b[0m\u001b[0;34m\u001b[0m\u001b[0;34m\u001b[0m\u001b[0m\n",
      "\u001b[0;32m~/dev/venv/3.8/lib/python3.8/site-packages/pandas/core/generic.py\u001b[0m in \u001b[0;36m__getattr__\u001b[0;34m(self, name)\u001b[0m\n\u001b[1;32m   5460\u001b[0m             \u001b[0;32mif\u001b[0m \u001b[0mself\u001b[0m\u001b[0;34m.\u001b[0m\u001b[0m_info_axis\u001b[0m\u001b[0;34m.\u001b[0m\u001b[0m_can_hold_identifiers_and_holds_name\u001b[0m\u001b[0;34m(\u001b[0m\u001b[0mname\u001b[0m\u001b[0;34m)\u001b[0m\u001b[0;34m:\u001b[0m\u001b[0;34m\u001b[0m\u001b[0;34m\u001b[0m\u001b[0m\n\u001b[1;32m   5461\u001b[0m                 \u001b[0;32mreturn\u001b[0m \u001b[0mself\u001b[0m\u001b[0;34m[\u001b[0m\u001b[0mname\u001b[0m\u001b[0;34m]\u001b[0m\u001b[0;34m\u001b[0m\u001b[0;34m\u001b[0m\u001b[0m\n\u001b[0;32m-> 5462\u001b[0;31m             \u001b[0;32mreturn\u001b[0m \u001b[0mobject\u001b[0m\u001b[0;34m.\u001b[0m\u001b[0m__getattribute__\u001b[0m\u001b[0;34m(\u001b[0m\u001b[0mself\u001b[0m\u001b[0;34m,\u001b[0m \u001b[0mname\u001b[0m\u001b[0;34m)\u001b[0m\u001b[0;34m\u001b[0m\u001b[0;34m\u001b[0m\u001b[0m\n\u001b[0m\u001b[1;32m   5463\u001b[0m \u001b[0;34m\u001b[0m\u001b[0m\n\u001b[1;32m   5464\u001b[0m     \u001b[0;32mdef\u001b[0m \u001b[0m__setattr__\u001b[0m\u001b[0;34m(\u001b[0m\u001b[0mself\u001b[0m\u001b[0;34m,\u001b[0m \u001b[0mname\u001b[0m\u001b[0;34m:\u001b[0m \u001b[0mstr\u001b[0m\u001b[0;34m,\u001b[0m \u001b[0mvalue\u001b[0m\u001b[0;34m)\u001b[0m \u001b[0;34m->\u001b[0m \u001b[0;32mNone\u001b[0m\u001b[0;34m:\u001b[0m\u001b[0;34m\u001b[0m\u001b[0;34m\u001b[0m\u001b[0m\n",
      "\u001b[0;31mAttributeError\u001b[0m: 'DataFrame' object has no attribute 'date'"
     ]
    }
   ],
   "source": [
    "Xt = X[X.date >= 460]\n",
    "yt = np.where((Xt.resp > 0), 1, 0)\n",
    "X = X[(X.date > 85) & (X.date < 460)]\n",
    "y = np.where((X.resp > 0), 1, 0)\n",
    "drop_cols = ['date', 'resp_1', 'resp_2', 'resp_3', 'resp_4', 'resp', 'ts_id']\n",
    "X.drop(drop_cols, axis=1, inplace=True)\n",
    "Xt.drop(drop_cols, axis=1, inplace=True)"
   ]
  },
  {
   "cell_type": "code",
   "execution_count": 3,
   "id": "legal-insertion",
   "metadata": {},
   "outputs": [
    {
     "data": {
      "text/html": [
       "<div>\n",
       "<style scoped>\n",
       "    .dataframe tbody tr th:only-of-type {\n",
       "        vertical-align: middle;\n",
       "    }\n",
       "\n",
       "    .dataframe tbody tr th {\n",
       "        vertical-align: top;\n",
       "    }\n",
       "\n",
       "    .dataframe thead th {\n",
       "        text-align: right;\n",
       "    }\n",
       "</style>\n",
       "<table border=\"1\" class=\"dataframe\">\n",
       "  <thead>\n",
       "    <tr style=\"text-align: right;\">\n",
       "      <th></th>\n",
       "      <th>weight</th>\n",
       "      <th>feature_0</th>\n",
       "      <th>feature_1</th>\n",
       "      <th>feature_2</th>\n",
       "      <th>feature_3</th>\n",
       "      <th>feature_4</th>\n",
       "      <th>feature_5</th>\n",
       "      <th>feature_6</th>\n",
       "      <th>feature_7</th>\n",
       "      <th>feature_8</th>\n",
       "      <th>...</th>\n",
       "      <th>feature_120</th>\n",
       "      <th>feature_121</th>\n",
       "      <th>feature_122</th>\n",
       "      <th>feature_123</th>\n",
       "      <th>feature_124</th>\n",
       "      <th>feature_125</th>\n",
       "      <th>feature_126</th>\n",
       "      <th>feature_127</th>\n",
       "      <th>feature_128</th>\n",
       "      <th>feature_129</th>\n",
       "    </tr>\n",
       "  </thead>\n",
       "  <tbody>\n",
       "    <tr>\n",
       "      <th>527894</th>\n",
       "      <td>0.859516</td>\n",
       "      <td>1</td>\n",
       "      <td>3.151305</td>\n",
       "      <td>5.467693</td>\n",
       "      <td>-0.164505</td>\n",
       "      <td>-0.189219</td>\n",
       "      <td>0.663966</td>\n",
       "      <td>0.988896</td>\n",
       "      <td>NaN</td>\n",
       "      <td>NaN</td>\n",
       "      <td>...</td>\n",
       "      <td>NaN</td>\n",
       "      <td>NaN</td>\n",
       "      <td>2.433699</td>\n",
       "      <td>4.282284</td>\n",
       "      <td>1.621115</td>\n",
       "      <td>4.331030</td>\n",
       "      <td>2.553220</td>\n",
       "      <td>3.799011</td>\n",
       "      <td>2.642943</td>\n",
       "      <td>3.998054</td>\n",
       "    </tr>\n",
       "    <tr>\n",
       "      <th>527895</th>\n",
       "      <td>0.000000</td>\n",
       "      <td>1</td>\n",
       "      <td>2.249176</td>\n",
       "      <td>2.618401</td>\n",
       "      <td>-0.304355</td>\n",
       "      <td>-0.276975</td>\n",
       "      <td>-0.035921</td>\n",
       "      <td>-0.036215</td>\n",
       "      <td>NaN</td>\n",
       "      <td>NaN</td>\n",
       "      <td>...</td>\n",
       "      <td>NaN</td>\n",
       "      <td>NaN</td>\n",
       "      <td>2.053416</td>\n",
       "      <td>-0.493276</td>\n",
       "      <td>1.661974</td>\n",
       "      <td>-1.082122</td>\n",
       "      <td>2.427706</td>\n",
       "      <td>-0.756115</td>\n",
       "      <td>2.210572</td>\n",
       "      <td>-0.639075</td>\n",
       "    </tr>\n",
       "    <tr>\n",
       "      <th>527896</th>\n",
       "      <td>0.590949</td>\n",
       "      <td>-1</td>\n",
       "      <td>-0.365888</td>\n",
       "      <td>0.824004</td>\n",
       "      <td>-0.293208</td>\n",
       "      <td>-0.416391</td>\n",
       "      <td>-0.599185</td>\n",
       "      <td>-0.997330</td>\n",
       "      <td>NaN</td>\n",
       "      <td>NaN</td>\n",
       "      <td>...</td>\n",
       "      <td>NaN</td>\n",
       "      <td>NaN</td>\n",
       "      <td>-0.702873</td>\n",
       "      <td>4.038753</td>\n",
       "      <td>-0.789767</td>\n",
       "      <td>4.133183</td>\n",
       "      <td>-1.207878</td>\n",
       "      <td>3.402796</td>\n",
       "      <td>-0.928290</td>\n",
       "      <td>3.511141</td>\n",
       "    </tr>\n",
       "    <tr>\n",
       "      <th>527897</th>\n",
       "      <td>0.172997</td>\n",
       "      <td>1</td>\n",
       "      <td>1.514607</td>\n",
       "      <td>0.596214</td>\n",
       "      <td>0.324062</td>\n",
       "      <td>0.154730</td>\n",
       "      <td>0.845069</td>\n",
       "      <td>0.521491</td>\n",
       "      <td>NaN</td>\n",
       "      <td>NaN</td>\n",
       "      <td>...</td>\n",
       "      <td>NaN</td>\n",
       "      <td>NaN</td>\n",
       "      <td>2.304354</td>\n",
       "      <td>1.530169</td>\n",
       "      <td>3.596848</td>\n",
       "      <td>4.613493</td>\n",
       "      <td>4.516110</td>\n",
       "      <td>3.341374</td>\n",
       "      <td>2.635798</td>\n",
       "      <td>1.535235</td>\n",
       "    </tr>\n",
       "    <tr>\n",
       "      <th>527898</th>\n",
       "      <td>0.000000</td>\n",
       "      <td>-1</td>\n",
       "      <td>-1.158576</td>\n",
       "      <td>-0.146579</td>\n",
       "      <td>-0.035525</td>\n",
       "      <td>-0.008082</td>\n",
       "      <td>-0.152708</td>\n",
       "      <td>-0.251737</td>\n",
       "      <td>NaN</td>\n",
       "      <td>NaN</td>\n",
       "      <td>...</td>\n",
       "      <td>NaN</td>\n",
       "      <td>NaN</td>\n",
       "      <td>-1.364269</td>\n",
       "      <td>2.006926</td>\n",
       "      <td>-1.237922</td>\n",
       "      <td>2.124396</td>\n",
       "      <td>-2.005723</td>\n",
       "      <td>1.716914</td>\n",
       "      <td>-1.646484</td>\n",
       "      <td>1.795211</td>\n",
       "    </tr>\n",
       "    <tr>\n",
       "      <th>...</th>\n",
       "      <td>...</td>\n",
       "      <td>...</td>\n",
       "      <td>...</td>\n",
       "      <td>...</td>\n",
       "      <td>...</td>\n",
       "      <td>...</td>\n",
       "      <td>...</td>\n",
       "      <td>...</td>\n",
       "      <td>...</td>\n",
       "      <td>...</td>\n",
       "      <td>...</td>\n",
       "      <td>...</td>\n",
       "      <td>...</td>\n",
       "      <td>...</td>\n",
       "      <td>...</td>\n",
       "      <td>...</td>\n",
       "      <td>...</td>\n",
       "      <td>...</td>\n",
       "      <td>...</td>\n",
       "      <td>...</td>\n",
       "      <td>...</td>\n",
       "    </tr>\n",
       "    <tr>\n",
       "      <th>2177253</th>\n",
       "      <td>0.000000</td>\n",
       "      <td>-1</td>\n",
       "      <td>-0.266724</td>\n",
       "      <td>0.602691</td>\n",
       "      <td>-0.679119</td>\n",
       "      <td>-0.904890</td>\n",
       "      <td>-2.468035</td>\n",
       "      <td>-3.661303</td>\n",
       "      <td>1.924929</td>\n",
       "      <td>3.563377</td>\n",
       "      <td>...</td>\n",
       "      <td>-1.018528</td>\n",
       "      <td>0.173249</td>\n",
       "      <td>0.664222</td>\n",
       "      <td>4.840556</td>\n",
       "      <td>-0.851552</td>\n",
       "      <td>0.394822</td>\n",
       "      <td>-0.840818</td>\n",
       "      <td>1.337527</td>\n",
       "      <td>0.367303</td>\n",
       "      <td>3.813857</td>\n",
       "    </tr>\n",
       "    <tr>\n",
       "      <th>2177254</th>\n",
       "      <td>0.000000</td>\n",
       "      <td>-1</td>\n",
       "      <td>0.188440</td>\n",
       "      <td>0.729899</td>\n",
       "      <td>0.402612</td>\n",
       "      <td>0.467387</td>\n",
       "      <td>-2.735572</td>\n",
       "      <td>-3.476737</td>\n",
       "      <td>0.488639</td>\n",
       "      <td>0.792888</td>\n",
       "      <td>...</td>\n",
       "      <td>0.033854</td>\n",
       "      <td>-3.119285</td>\n",
       "      <td>1.682647</td>\n",
       "      <td>-0.057945</td>\n",
       "      <td>0.381284</td>\n",
       "      <td>-2.528754</td>\n",
       "      <td>0.926440</td>\n",
       "      <td>-1.440386</td>\n",
       "      <td>1.080130</td>\n",
       "      <td>-1.040769</td>\n",
       "    </tr>\n",
       "    <tr>\n",
       "      <th>2177255</th>\n",
       "      <td>0.000000</td>\n",
       "      <td>-1</td>\n",
       "      <td>-1.212656</td>\n",
       "      <td>-1.590890</td>\n",
       "      <td>-2.065002</td>\n",
       "      <td>-1.748139</td>\n",
       "      <td>-4.860769</td>\n",
       "      <td>-4.351435</td>\n",
       "      <td>-0.342124</td>\n",
       "      <td>-0.414439</td>\n",
       "      <td>...</td>\n",
       "      <td>-0.573205</td>\n",
       "      <td>-1.887309</td>\n",
       "      <td>1.156816</td>\n",
       "      <td>2.012430</td>\n",
       "      <td>-0.517034</td>\n",
       "      <td>-2.040033</td>\n",
       "      <td>-0.448397</td>\n",
       "      <td>-0.912928</td>\n",
       "      <td>0.404925</td>\n",
       "      <td>0.549005</td>\n",
       "    </tr>\n",
       "    <tr>\n",
       "      <th>2177256</th>\n",
       "      <td>0.402870</td>\n",
       "      <td>-1</td>\n",
       "      <td>-3.172026</td>\n",
       "      <td>-3.093182</td>\n",
       "      <td>-2.065002</td>\n",
       "      <td>-1.748139</td>\n",
       "      <td>-4.860769</td>\n",
       "      <td>-4.351435</td>\n",
       "      <td>-0.342124</td>\n",
       "      <td>-0.414439</td>\n",
       "      <td>...</td>\n",
       "      <td>-0.573079</td>\n",
       "      <td>-1.886940</td>\n",
       "      <td>1.191798</td>\n",
       "      <td>2.086472</td>\n",
       "      <td>-0.516481</td>\n",
       "      <td>-2.038110</td>\n",
       "      <td>-0.445297</td>\n",
       "      <td>-0.907147</td>\n",
       "      <td>0.416691</td>\n",
       "      <td>0.567407</td>\n",
       "    </tr>\n",
       "    <tr>\n",
       "      <th>2177257</th>\n",
       "      <td>0.600655</td>\n",
       "      <td>-1</td>\n",
       "      <td>-3.172026</td>\n",
       "      <td>-3.093182</td>\n",
       "      <td>-1.315612</td>\n",
       "      <td>-2.048856</td>\n",
       "      <td>-2.137338</td>\n",
       "      <td>-3.490112</td>\n",
       "      <td>-0.311781</td>\n",
       "      <td>-0.336575</td>\n",
       "      <td>...</td>\n",
       "      <td>-1.322267</td>\n",
       "      <td>0.636743</td>\n",
       "      <td>-0.635046</td>\n",
       "      <td>2.829508</td>\n",
       "      <td>-1.002212</td>\n",
       "      <td>1.480215</td>\n",
       "      <td>-1.298817</td>\n",
       "      <td>1.802646</td>\n",
       "      <td>-0.893971</td>\n",
       "      <td>2.257172</td>\n",
       "    </tr>\n",
       "  </tbody>\n",
       "</table>\n",
       "<p>1649364 rows × 131 columns</p>\n",
       "</div>"
      ],
      "text/plain": [
       "           weight  feature_0  feature_1  feature_2  feature_3  feature_4  \\\n",
       "527894   0.859516          1   3.151305   5.467693  -0.164505  -0.189219   \n",
       "527895   0.000000          1   2.249176   2.618401  -0.304355  -0.276975   \n",
       "527896   0.590949         -1  -0.365888   0.824004  -0.293208  -0.416391   \n",
       "527897   0.172997          1   1.514607   0.596214   0.324062   0.154730   \n",
       "527898   0.000000         -1  -1.158576  -0.146579  -0.035525  -0.008082   \n",
       "...           ...        ...        ...        ...        ...        ...   \n",
       "2177253  0.000000         -1  -0.266724   0.602691  -0.679119  -0.904890   \n",
       "2177254  0.000000         -1   0.188440   0.729899   0.402612   0.467387   \n",
       "2177255  0.000000         -1  -1.212656  -1.590890  -2.065002  -1.748139   \n",
       "2177256  0.402870         -1  -3.172026  -3.093182  -2.065002  -1.748139   \n",
       "2177257  0.600655         -1  -3.172026  -3.093182  -1.315612  -2.048856   \n",
       "\n",
       "         feature_5  feature_6  feature_7  feature_8  ...  feature_120  \\\n",
       "527894    0.663966   0.988896        NaN        NaN  ...          NaN   \n",
       "527895   -0.035921  -0.036215        NaN        NaN  ...          NaN   \n",
       "527896   -0.599185  -0.997330        NaN        NaN  ...          NaN   \n",
       "527897    0.845069   0.521491        NaN        NaN  ...          NaN   \n",
       "527898   -0.152708  -0.251737        NaN        NaN  ...          NaN   \n",
       "...            ...        ...        ...        ...  ...          ...   \n",
       "2177253  -2.468035  -3.661303   1.924929   3.563377  ...    -1.018528   \n",
       "2177254  -2.735572  -3.476737   0.488639   0.792888  ...     0.033854   \n",
       "2177255  -4.860769  -4.351435  -0.342124  -0.414439  ...    -0.573205   \n",
       "2177256  -4.860769  -4.351435  -0.342124  -0.414439  ...    -0.573079   \n",
       "2177257  -2.137338  -3.490112  -0.311781  -0.336575  ...    -1.322267   \n",
       "\n",
       "         feature_121  feature_122  feature_123  feature_124  feature_125  \\\n",
       "527894           NaN     2.433699     4.282284     1.621115     4.331030   \n",
       "527895           NaN     2.053416    -0.493276     1.661974    -1.082122   \n",
       "527896           NaN    -0.702873     4.038753    -0.789767     4.133183   \n",
       "527897           NaN     2.304354     1.530169     3.596848     4.613493   \n",
       "527898           NaN    -1.364269     2.006926    -1.237922     2.124396   \n",
       "...              ...          ...          ...          ...          ...   \n",
       "2177253     0.173249     0.664222     4.840556    -0.851552     0.394822   \n",
       "2177254    -3.119285     1.682647    -0.057945     0.381284    -2.528754   \n",
       "2177255    -1.887309     1.156816     2.012430    -0.517034    -2.040033   \n",
       "2177256    -1.886940     1.191798     2.086472    -0.516481    -2.038110   \n",
       "2177257     0.636743    -0.635046     2.829508    -1.002212     1.480215   \n",
       "\n",
       "         feature_126  feature_127  feature_128  feature_129  \n",
       "527894      2.553220     3.799011     2.642943     3.998054  \n",
       "527895      2.427706    -0.756115     2.210572    -0.639075  \n",
       "527896     -1.207878     3.402796    -0.928290     3.511141  \n",
       "527897      4.516110     3.341374     2.635798     1.535235  \n",
       "527898     -2.005723     1.716914    -1.646484     1.795211  \n",
       "...              ...          ...          ...          ...  \n",
       "2177253    -0.840818     1.337527     0.367303     3.813857  \n",
       "2177254     0.926440    -1.440386     1.080130    -1.040769  \n",
       "2177255    -0.448397    -0.912928     0.404925     0.549005  \n",
       "2177256    -0.445297    -0.907147     0.416691     0.567407  \n",
       "2177257    -1.298817     1.802646    -0.893971     2.257172  \n",
       "\n",
       "[1649364 rows x 131 columns]"
      ]
     },
     "execution_count": 3,
     "metadata": {},
     "output_type": "execute_result"
    }
   ],
   "source": [
    "X"
   ]
  },
  {
   "cell_type": "raw",
   "id": "accepting-intellectual",
   "metadata": {},
   "source": [
    "X = X[X.date > 85]\n",
    "y = np.where((X.resp > 0), 1, 0)\n",
    "X.drop(['date', 'resp_1', 'resp_2', 'resp_3', 'resp_4', 'resp', 'ts_id'], axis=1, inplace=True)"
   ]
  },
  {
   "cell_type": "code",
   "execution_count": 6,
   "id": "organized-worse",
   "metadata": {},
   "outputs": [],
   "source": [
    "from sklearn.experimental import enable_hist_gradient_boosting\n",
    "from sklearn.ensemble import HistGradientBoostingClassifier\n",
    "clf = HistGradientBoostingClassifier(max_iter=100, verbose=0, random_state=2000).fit(X, y)"
   ]
  },
  {
   "cell_type": "raw",
   "id": "nasty-outside",
   "metadata": {},
   "source": [
    "import lightgbm as lgb\n",
    "train_data = lgb.Dataset(X)\n",
    "validation_data = train_data.create_valid(y)\n",
    "print(validation_data)\n",
    "num_round = 10\n",
    "param = {'num_leaves': 31, 'objective': 'binary'}\n",
    "param['metric'] = 'auc'\n",
    "bst = lgb.train(param, train_data, num_round, valid_sets=[train_data, validation_data])"
   ]
  },
  {
   "cell_type": "raw",
   "id": "forced-spray",
   "metadata": {},
   "source": [
    "del X, y"
   ]
  },
  {
   "cell_type": "code",
   "execution_count": 7,
   "id": "incorrect-night",
   "metadata": {},
   "outputs": [
    {
     "data": {
      "text/plain": [
       "0.5228974877246956"
      ]
     },
     "execution_count": 7,
     "metadata": {},
     "output_type": "execute_result"
    }
   ],
   "source": [
    "clf.score(Xt, yt)"
   ]
  },
  {
   "cell_type": "markdown",
   "id": "weekly-producer",
   "metadata": {},
   "source": [
    "### max_iter=100, verbose=1, random_state=None\n",
    "0.5455018688476925"
   ]
  },
  {
   "cell_type": "markdown",
   "id": "serious-throat",
   "metadata": {},
   "source": [
    "### max_iter=100, verbose=1, random_state=1\n",
    "0.545544076198337"
   ]
  },
  {
   "cell_type": "markdown",
   "id": "variable-offering",
   "metadata": {},
   "source": [
    "### max_iter=100, verbose=1, random_state=100\n",
    "0.5440808880426575"
   ]
  },
  {
   "cell_type": "markdown",
   "id": "bulgarian-marriage",
   "metadata": {},
   "source": [
    "### max_iter=100, verbose=1, random_state=1000\n",
    "0.545623801193999"
   ]
  },
  {
   "cell_type": "raw",
   "id": "hazardous-mercury",
   "metadata": {},
   "source": [
    "import pickle\n",
    "with open('clf.pickle', 'wb') as f:\n",
    "    pickle.dump(clf, f)"
   ]
  },
  {
   "cell_type": "raw",
   "id": "wireless-packaging",
   "metadata": {},
   "source": [
    "y = np.where((X.resp > 0), 1, 0)\n",
    "X.drop(['date', 'resp_1', 'resp_2', 'resp_3', 'resp_4', 'resp', 'ts_id'], axis=1, inplace=True)"
   ]
  },
  {
   "cell_type": "code",
   "execution_count": null,
   "id": "patient-fairy",
   "metadata": {},
   "outputs": [],
   "source": [
    "X = pd.concat([example_sample_submission.set_index('ts_id'), example_test.set_index('ts_id')], axis=1)"
   ]
  },
  {
   "cell_type": "code",
   "execution_count": null,
   "id": "ceramic-imperial",
   "metadata": {},
   "outputs": [],
   "source": [
    "X"
   ]
  },
  {
   "cell_type": "code",
   "execution_count": null,
   "id": "reasonable-gateway",
   "metadata": {},
   "outputs": [],
   "source": [
    "X['pj'] = X.weight * X.action\n",
    "pi = X.groupby(['date']).pj.sum()\n",
    "t = pi.sum()/((pi**2).sum()**0.5) * (250/pi.count())**0.5\n",
    "u = min(max(t, 0), 6) * pi.sum()\n",
    "print(u)"
   ]
  },
  {
   "cell_type": "code",
   "execution_count": null,
   "id": "committed-pattern",
   "metadata": {},
   "outputs": [],
   "source": [
    "X['pj'] = X.weight * np.where((X.resp > 0), X.resp, 0)\n",
    "pi = X.groupby(['date']).pj.sum()\n",
    "t = pi.sum()/((pi**2).sum()**0.5) * (250/pi.count())**0.5\n",
    "u = min(max(t, 0), 6) * pi.sum()\n",
    "print(u)"
   ]
  },
  {
   "cell_type": "raw",
   "id": "square-confusion",
   "metadata": {},
   "source": [
    "# https://www.kaggle.com/c/jane-street-market-prediction/overview/evaluation\n",
    "import janestreet\n",
    "env = janestreet.make_env() # initialize the environment\n",
    "iter_test = env.iter_test() # an iterator which loops over the test set\n",
    "\n",
    "for (test_df, sample_prediction_df) in iter_test:\n",
    "    sample_prediction_df.action = 0 #make your 0/1 prediction here\n",
    "    env.predict(sample_prediction_df)"
   ]
  },
  {
   "cell_type": "code",
   "execution_count": null,
   "id": "chubby-yesterday",
   "metadata": {},
   "outputs": [],
   "source": []
  }
 ],
 "metadata": {
  "kernelspec": {
   "display_name": "Python 3",
   "language": "python",
   "name": "python3"
  },
  "language_info": {
   "codemirror_mode": {
    "name": "ipython",
    "version": 3
   },
   "file_extension": ".py",
   "mimetype": "text/x-python",
   "name": "python",
   "nbconvert_exporter": "python",
   "pygments_lexer": "ipython3",
   "version": "3.8.7"
  }
 },
 "nbformat": 4,
 "nbformat_minor": 5
}
