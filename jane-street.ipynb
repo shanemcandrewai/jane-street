{
 "cells": [
  {
   "cell_type": "markdown",
   "id": "unsigned-kingston",
   "metadata": {},
   "source": [
    "# Jane Street Market Prediction\n",
    "[Kaggle Jane Street Market Prediction](https://www.kaggle.com/c/jane-street-market-prediction/overview)\n"
   ]
  },
  {
   "cell_type": "code",
   "execution_count": 1,
   "id": "pleasant-shannon",
   "metadata": {},
   "outputs": [
    {
     "data": {
      "text/html": [
       "<style type='text/css'>\n",
       ".datatable table.frame { margin-bottom: 0; }\n",
       ".datatable table.frame thead { border-bottom: none; }\n",
       ".datatable table.frame tr.coltypes td {  color: #FFFFFF;  line-height: 6px;  padding: 0 0.5em;}\n",
       ".datatable .bool    { background: #DDDD99; }\n",
       ".datatable .object  { background: #565656; }\n",
       ".datatable .int     { background: #5D9E5D; }\n",
       ".datatable .float   { background: #4040CC; }\n",
       ".datatable .str     { background: #CC4040; }\n",
       ".datatable .row_index {  background: var(--jp-border-color3);  border-right: 1px solid var(--jp-border-color0);  color: var(--jp-ui-font-color3);  font-size: 9px;}\n",
       ".datatable .frame tr.coltypes .row_index {  background: var(--jp-border-color0);}\n",
       ".datatable th:nth-child(2) { padding-left: 12px; }\n",
       ".datatable .hellipsis {  color: var(--jp-cell-editor-border-color);}\n",
       ".datatable .vellipsis {  background: var(--jp-layout-color0);  color: var(--jp-cell-editor-border-color);}\n",
       ".datatable .na {  color: var(--jp-cell-editor-border-color);  font-size: 80%;}\n",
       ".datatable .footer { font-size: 9px; }\n",
       ".datatable .frame_dimensions {  background: var(--jp-border-color3);  border-top: 1px solid var(--jp-border-color0);  color: var(--jp-ui-font-color3);  display: inline-block;  opacity: 0.6;  padding: 1px 10px 1px 5px;}\n",
       "</style>\n"
      ],
      "text/plain": [
       "<IPython.core.display.HTML object>"
      ]
     },
     "metadata": {},
     "output_type": "display_data"
    }
   ],
   "source": [
    "import pandas as pd\n",
    "import numpy as np\n",
    "import datatable as dt\n",
    "X = dt.fread('jane-street-market-prediction/train.csv').to_pandas()"
   ]
  },
  {
   "cell_type": "code",
   "execution_count": 2,
   "id": "solid-palmer",
   "metadata": {},
   "outputs": [],
   "source": [
    "X = X[X.date > 85]\n",
    "y = np.where((X.resp > 0), 1, 0)\n",
    "X.drop(['date', 'resp_1', 'resp_2', 'resp_3', 'resp_4', 'resp', 'ts_id'], axis=1, inplace=True)\n",
    "X['cross_41_42_43'] = X['feature_41'] + X['feature_42'] + X['feature_43']\n",
    "X['cross_1_2'] = X['feature_1'] / (X['feature_2'] + 1e-5)"
   ]
  },
  {
   "cell_type": "code",
   "execution_count": 3,
   "id": "important-merchant",
   "metadata": {},
   "outputs": [],
   "source": [
    "from sklearn.experimental import enable_hist_gradient_boosting\n",
    "from sklearn.ensemble import HistGradientBoostingClassifier\n",
    "clf = HistGradientBoostingClassifier(max_iter=100, verbose=0, random_state=42).fit(X, y)"
   ]
  },
  {
   "cell_type": "code",
   "execution_count": 4,
   "id": "electric-insulin",
   "metadata": {},
   "outputs": [],
   "source": [
    "import pickle\n",
    "with open('clf.pickle', 'wb') as f:\n",
    "    pickle.dump(clf, f)"
   ]
  },
  {
   "cell_type": "markdown",
   "id": "transsexual-reading",
   "metadata": {},
   "source": [
    "## Calculate utility score of training set where `action` = 1 for all `resp` > 0\n",
    "[training set](https://www.kaggle.com/c/jane-street-market-prediction/data?select=train.csv)"
   ]
  },
  {
   "cell_type": "raw",
   "id": "excellent-convert",
   "metadata": {},
   "source": [
    "X['pj'] = X.weight * np.where((X.resp > 0), X.resp, 0)\n",
    "pi = X.groupby(['date']).pj.sum()\n",
    "t = pi.sum()/((pi**2).sum()**0.5) * (250/pi.count())**0.5\n",
    "u = min(max(t, 0), 6) * pi.sum()\n",
    "X.drop('pj', axis=1, inplace=True)\n",
    "del pi\n",
    "u"
   ]
  },
  {
   "cell_type": "markdown",
   "id": "wrong-glass",
   "metadata": {},
   "source": [
    "### Utility score\n",
    "224162.2681796676"
   ]
  },
  {
   "cell_type": "markdown",
   "id": "chief-management",
   "metadata": {},
   "source": [
    "## Split training set and fit tree"
   ]
  },
  {
   "cell_type": "code",
   "execution_count": null,
   "id": "aggressive-progressive",
   "metadata": {},
   "outputs": [],
   "source": [
    "import pandas as pd\n",
    "import numpy as np\n",
    "import datatable as dt\n",
    "X = dt.fread('jane-street-market-prediction/train.csv').to_pandas()"
   ]
  },
  {
   "cell_type": "code",
   "execution_count": null,
   "id": "twenty-suffering",
   "metadata": {},
   "outputs": [],
   "source": [
    "Xt = X[X.date >= 460]\n",
    "yt = np.where((Xt.resp > 0), 1, 0)\n",
    "X = X[(X.date > 85) & (X.date < 460)]\n",
    "y = np.where((X.resp > 0), 1, 0)\n",
    "drop_cols = ['date', 'resp_1', 'resp_2', 'resp_3', 'resp_4', 'resp', 'ts_id']\n",
    "X.drop(drop_cols, axis=1, inplace=True)\n",
    "Xt.drop(drop_cols, axis=1, inplace=True)"
   ]
  },
  {
   "cell_type": "code",
   "execution_count": null,
   "id": "voluntary-superior",
   "metadata": {},
   "outputs": [],
   "source": [
    "from sklearn.experimental import enable_hist_gradient_boosting\n",
    "from sklearn.ensemble import HistGradientBoostingClassifier\n",
    "clf = HistGradientBoostingClassifier(max_iter=100, verbose=0, random_state=42).fit(X, y)"
   ]
  },
  {
   "cell_type": "raw",
   "id": "immediate-hometown",
   "metadata": {},
   "source": [
    "del X, y"
   ]
  },
  {
   "cell_type": "code",
   "execution_count": null,
   "id": "exempt-intensity",
   "metadata": {},
   "outputs": [],
   "source": [
    "clf.score(Xt, yt)"
   ]
  },
  {
   "cell_type": "markdown",
   "id": "cordless-girlfriend",
   "metadata": {},
   "source": [
    "### max_iter=100, verbose=1, random_state=None\n",
    "0.5455018688476925"
   ]
  },
  {
   "cell_type": "markdown",
   "id": "imperial-street",
   "metadata": {},
   "source": [
    "### max_iter=100, verbose=0, random_state=42\n",
    "0.5211998142876572\n",
    "kaggle 5171.245"
   ]
  },
  {
   "cell_type": "markdown",
   "id": "rocky-logging",
   "metadata": {},
   "source": [
    "### max_iter=100, verbose=1, random_state=1\n",
    "0.545544076198337"
   ]
  },
  {
   "cell_type": "markdown",
   "id": "established-tuner",
   "metadata": {},
   "source": [
    "### max_iter=100, verbose=1, random_state=100\n",
    "0.5440808880426575\n",
    "kaggle 3745.948"
   ]
  },
  {
   "cell_type": "markdown",
   "id": "periodic-burst",
   "metadata": {},
   "source": [
    "### max_iter=100, verbose=1, random_state=1000\n",
    "0.545623801193999"
   ]
  },
  {
   "cell_type": "raw",
   "id": "level-roller",
   "metadata": {},
   "source": [
    "import lightgbm as lgb\n",
    "train_data = lgb.Dataset(X)\n",
    "validation_data = train_data.create_valid(y)\n",
    "print(validation_data)\n",
    "num_round = 10\n",
    "param = {'num_leaves': 31, 'objective': 'binary'}\n",
    "param['metric'] = 'auc'\n",
    "bst = lgb.train(param, train_data, num_round, valid_sets=[train_data, validation_data])"
   ]
  },
  {
   "cell_type": "raw",
   "id": "maritime-stable",
   "metadata": {},
   "source": [
    "import pickle\n",
    "with open('clf.pickle', 'wb') as f:\n",
    "    pickle.dump(clf, f)"
   ]
  },
  {
   "cell_type": "raw",
   "id": "nutritional-fortune",
   "metadata": {},
   "source": [
    "y = np.where((X.resp > 0), 1, 0)\n",
    "X.drop(['date', 'resp_1', 'resp_2', 'resp_3', 'resp_4', 'resp', 'ts_id'], axis=1, inplace=True)"
   ]
  },
  {
   "cell_type": "code",
   "execution_count": null,
   "id": "ready-girlfriend",
   "metadata": {},
   "outputs": [],
   "source": [
    "X = pd.concat([example_sample_submission.set_index('ts_id'), example_test.set_index('ts_id')], axis=1)"
   ]
  },
  {
   "cell_type": "code",
   "execution_count": null,
   "id": "official-settle",
   "metadata": {},
   "outputs": [],
   "source": [
    "X"
   ]
  },
  {
   "cell_type": "code",
   "execution_count": null,
   "id": "theoretical-consistency",
   "metadata": {},
   "outputs": [],
   "source": [
    "X['pj'] = X.weight * X.action\n",
    "pi = X.groupby(['date']).pj.sum()\n",
    "t = pi.sum()/((pi**2).sum()**0.5) * (250/pi.count())**0.5\n",
    "u = min(max(t, 0), 6) * pi.sum()\n",
    "print(u)"
   ]
  },
  {
   "cell_type": "code",
   "execution_count": null,
   "id": "announced-waterproof",
   "metadata": {},
   "outputs": [],
   "source": [
    "X['pj'] = X.weight * np.where((X.resp > 0), X.resp, 0)\n",
    "pi = X.groupby(['date']).pj.sum()\n",
    "t = pi.sum()/((pi**2).sum()**0.5) * (250/pi.count())**0.5\n",
    "u = min(max(t, 0), 6) * pi.sum()\n",
    "print(u)"
   ]
  },
  {
   "cell_type": "raw",
   "id": "wanted-priority",
   "metadata": {},
   "source": [
    "# https://www.kaggle.com/c/jane-street-market-prediction/overview/evaluation\n",
    "import janestreet\n",
    "env = janestreet.make_env() # initialize the environment\n",
    "iter_test = env.iter_test() # an iterator which loops over the test set\n",
    "\n",
    "for (test_df, sample_prediction_df) in iter_test:\n",
    "    sample_prediction_df.action = 0 #make your 0/1 prediction here\n",
    "    env.predict(sample_prediction_df)"
   ]
  },
  {
   "cell_type": "code",
   "execution_count": null,
   "id": "competitive-opera",
   "metadata": {},
   "outputs": [],
   "source": []
  }
 ],
 "metadata": {
  "kernelspec": {
   "display_name": "Python 3",
   "language": "python",
   "name": "python3"
  },
  "language_info": {
   "codemirror_mode": {
    "name": "ipython",
    "version": 3
   },
   "file_extension": ".py",
   "mimetype": "text/x-python",
   "name": "python",
   "nbconvert_exporter": "python",
   "pygments_lexer": "ipython3",
   "version": "3.8.7"
  }
 },
 "nbformat": 4,
 "nbformat_minor": 5
}
