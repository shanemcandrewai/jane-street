{
 "cells": [
  {
   "cell_type": "markdown",
   "id": "tested-boating",
   "metadata": {},
   "source": [
    "# Jane Street Market Prediction\n",
    "[Kaggle Jane Street Market Prediction](https://www.kaggle.com/c/jane-street-market-prediction/overview)\n"
   ]
  },
  {
   "cell_type": "markdown",
   "id": "different-rochester",
   "metadata": {},
   "source": [
    "## Calculate utility score of training set where `action` = 1 for all `resp` > 0\n",
    "[training set](https://www.kaggle.com/c/jane-street-market-prediction/data?select=train.csv)"
   ]
  },
  {
   "cell_type": "code",
   "execution_count": 1,
   "id": "packed-isaac",
   "metadata": {
    "collapsed": true,
    "jupyter": {
     "outputs_hidden": true
    }
   },
   "outputs": [
    {
     "data": {
      "text/html": [
       "<style type='text/css'>\n",
       ".datatable table.frame { margin-bottom: 0; }\n",
       ".datatable table.frame thead { border-bottom: none; }\n",
       ".datatable table.frame tr.coltypes td {  color: #FFFFFF;  line-height: 6px;  padding: 0 0.5em;}\n",
       ".datatable .bool    { background: #DDDD99; }\n",
       ".datatable .object  { background: #565656; }\n",
       ".datatable .int     { background: #5D9E5D; }\n",
       ".datatable .float   { background: #4040CC; }\n",
       ".datatable .str     { background: #CC4040; }\n",
       ".datatable .row_index {  background: var(--jp-border-color3);  border-right: 1px solid var(--jp-border-color0);  color: var(--jp-ui-font-color3);  font-size: 9px;}\n",
       ".datatable .frame tr.coltypes .row_index {  background: var(--jp-border-color0);}\n",
       ".datatable th:nth-child(2) { padding-left: 12px; }\n",
       ".datatable .hellipsis {  color: var(--jp-cell-editor-border-color);}\n",
       ".datatable .vellipsis {  background: var(--jp-layout-color0);  color: var(--jp-cell-editor-border-color);}\n",
       ".datatable .na {  color: var(--jp-cell-editor-border-color);  font-size: 80%;}\n",
       ".datatable .footer { font-size: 9px; }\n",
       ".datatable .frame_dimensions {  background: var(--jp-border-color3);  border-top: 1px solid var(--jp-border-color0);  color: var(--jp-ui-font-color3);  display: inline-block;  opacity: 0.6;  padding: 1px 10px 1px 5px;}\n",
       "</style>\n"
      ],
      "text/plain": [
       "<IPython.core.display.HTML object>"
      ]
     },
     "metadata": {},
     "output_type": "display_data"
    },
    {
     "name": "stdout",
     "output_type": "stream",
     "text": [
      "[*] Process input parameters\n",
      "  Using default 4 thread(s)\n",
      "  na_strings = [\"NA\"]\n",
      "  strip_whitespace = True\n",
      "  skip_blank_lines = False\n",
      "  Input is assumed to be a file name.\n",
      "File \"jane-street-market-prediction/train.csv\" opened, size: 6192438027\n",
      "[1] Prepare for reading\n",
      "  ==== file sample ====\n",
      "  date,weight,resp_1,resp_2,resp_3,resp_4,resp,feature_0,feature_1,feature_2,feature_3,feature_4,fe...\n",
      "  0,0,0.00991599128470742,0.014078579320036337,0.008773048452656298,0.0013903667296804242,0.0062703...\n",
      "  0,16.673514760471395,-0.0028282266279810245,-0.0032263220711053345,-0.007319485753127453,-0.01111...\n",
      "  0,0,0.02513386056271574,0.02760739373246317,0.03340572152082148,0.03437973777966444,0.02397012629...\n",
      "  0,0,-0.004730139135553067,-0.003272826051591346,-4.608249864155702e-4,-4.7620477938039863e-4,-0.0...\n",
      "  =====================\n",
      "LF character (\\n) found in input, \\r-only newlines will be prohibited\n",
      "[2] Detect parse settings\n",
      "  sep=',' with 100 lines of 138 fields using quote rule 0\n",
      "  Detected 138 columns\n",
      "  Quote rule = 0\n",
      "  sep = ','\n",
      "[3] Detect column types and header\n",
      "  Number of sampling jump points = 101 because the first chunk was 29152.8times smaller than the entire file\n",
      "  Type codes (jump 0): bFFFFFFiFFFFFF??FFFFFFFF??FFFFFFFF??FFFFFFFFFFFFFFFFFFFFFFFFFFFFFFFFFFFFFFFFFFF? ... FFFFFFFFFFFFFFi\n",
      "  Type codes  (final): bFFFFFFiFFFFFF??FFFFFFFF??FFFFFFFF??FFFFFFFFFFFFFFFFFFFFFFFFFFFFFFFFFFFFFFFFFFF? ... FFFFFFFFFFFFFFi\n",
      "  `header` determined to be True due to column 1 containing a string on row 1 and type Bool8/numeric in the rest of the sample\n",
      "  =====\n",
      "  Sampled 100 rows at 101 jump point(s)\n",
      "  Bytes from first data row to the end of last row: 6.19244e+09\n",
      "  Line length: mean=2132.58 sd=113.69 min=2019 max=2352\n",
      "  Estimated number of rows: 2903731\n",
      "  Initial alloc = 3194104 rows (using bytes/max(mean-2*sd,min) clamped between [1.1*estn, 2.0*estn])\n",
      "[4] Assign column names\n",
      "[5] Apply user overrides on column types\n",
      "  Allocating 138 column slots with 3194104 rows\n",
      "[6] Read the data\n",
      "  The input will be read in 5908 chunks of size 1048144 each\n",
      "[7] Finalizing the frame\n",
      "=============================\n",
      "Read 2,390,491 rows x 138 columns from 5.767GB input in 00:50.253s\n",
      " =  0.000s ( 0%) memory-mapping input file\n",
      " +  0.030s ( 0%) detecting parse parameters\n",
      " +  0.035s ( 0%) detecting column types using 100 sample rows\n",
      " +  0.011s ( 0%) allocating [3,194,104 x 138] frame (2.948GB) of which 2,390,491 ( 75%) rows used\n",
      " + 49.925s (99%) reading data\n",
      "    = 47.152s (94%) reading into row-major buffers\n",
      "    =  1.314s ( 3%) saving into the output frame\n",
      "    =  1.459s ( 3%) waiting\n",
      "    =  0.252s ( 0%) creating the final Frame\n",
      "=============================\n",
      "Column 15 (feature_7) bumped from Unknown to Float64 due to <<0.5760904572201109>> on row 478\n",
      "Column 16 (feature_8) bumped from Unknown to Float64 due to <<0.3035929095051141>> on row 478\n",
      "Column 80 (feature_72) bumped from Unknown to Float64 due to <<-0.14797325224330715>> on row 478\n",
      "Column 86 (feature_78) bumped from Unknown to Float64 due to <<-1.2414898559460048>> on row 478\n",
      "Column 92 (feature_84) bumped from Unknown to Float64 due to <<-0.1313198923633671>> on row 478\n",
      "Column 98 (feature_90) bumped from Unknown to Float64 due to <<2.025915273046884>> on row 478\n",
      "Column 104 (feature_96) bumped from Unknown to Float64 due to <<-0.0931756082805186>> on row 478\n",
      "Column 110 (feature_102) bumped from Unknown to Float64 due to <<2.5793728496655484>> on row 478\n",
      "Column 116 (feature_108) bumped from Unknown to Float64 due to <<-0.2452076525339114>> on row 478\n",
      "Column 122 (feature_114) bumped from Unknown to Float64 due to <<2.1876768051860624>> on row 478\n",
      "Column 25 (feature_17) bumped from Unknown to Float64 due to <<1.4521839932166298>> on row 481\n",
      "Column 26 (feature_18) bumped from Unknown to Float64 due to <<0.8279717359465736>> on row 481\n",
      "Column 35 (feature_27) bumped from Unknown to Float64 due to <<-2.861279071182605>> on row 481\n",
      "Column 36 (feature_28) bumped from Unknown to Float64 due to <<-2.4122907588373192>> on row 481\n",
      "Column 1 (date) bumped from Bool8/numeric to Int32 due to <<2>> on row 14990\n"
     ]
    }
   ],
   "source": [
    "import pandas as pd\n",
    "import numpy as np\n",
    "import datatable as dt\n",
    "X = dt.fread('jane-street-market-prediction/train.csv', verbose=True).to_pandas()"
   ]
  },
  {
   "cell_type": "code",
   "execution_count": 2,
   "id": "european-synthetic",
   "metadata": {},
   "outputs": [
    {
     "name": "stdout",
     "output_type": "stream",
     "text": [
      "224162.2681796676\n"
     ]
    }
   ],
   "source": [
    "X['pj'] = X.weight * np.where((X.resp > 0), X.resp, 0)\n",
    "pi = X.groupby(['date']).pj.sum()\n",
    "t = pi.sum()/((pi**2).sum()**0.5) * (250/pi.count())**0.5\n",
    "u = min(max(t, 0), 6) * pi.sum()\n",
    "print(u)"
   ]
  },
  {
   "cell_type": "markdown",
   "id": "liquid-findings",
   "metadata": {},
   "source": [
    "## Calculate utility score of the mock test set where `action` = 1 for all *predicted* `resp` > 0\n",
    "[mock test set](https://www.kaggle.com/c/jane-street-market-prediction/data?select=example_test.csv)"
   ]
  },
  {
   "cell_type": "code",
   "execution_count": null,
   "id": "lucky-danger",
   "metadata": {},
   "outputs": [],
   "source": [
    "y = np.where((X.resp > 0), 1, 0)\n",
    "X.drop(['date', 'resp_1', 'resp_2', 'resp_3', 'resp_4', 'resp', 'ts_id'], axis=1, inplace=True)"
   ]
  },
  {
   "cell_type": "code",
   "execution_count": null,
   "id": "genuine-history",
   "metadata": {},
   "outputs": [],
   "source": [
    "from sklearn.experimental import enable_hist_gradient_boosting\n",
    "from sklearn.ensemble import HistGradientBoostingClassifier\n",
    "gbc = HistGradientBoostingClassifier(verbose=1).fit(X, y)"
   ]
  },
  {
   "cell_type": "code",
   "execution_count": null,
   "id": "thousand-agency",
   "metadata": {},
   "outputs": [],
   "source": [
    "import pandas as pd\n",
    "import numpy as np\n",
    "import datatable as dt\n",
    "example_sample_submission = dt.fread('jane-street-market-prediction/example_sample_submission.csv').to_pandas()\n",
    "example_test = dt.fread('jane-street-market-prediction/example_test.csv').to_pandas()"
   ]
  },
  {
   "cell_type": "code",
   "execution_count": null,
   "id": "billion-penetration",
   "metadata": {},
   "outputs": [],
   "source": [
    "gbc.predict(X_test)"
   ]
  },
  {
   "cell_type": "raw",
   "id": "formal-coordinator",
   "metadata": {},
   "source": [
    "y = np.where((X.resp > 0), 1, 0)\n",
    "X.drop(['date', 'resp_1', 'resp_2', 'resp_3', 'resp_4', 'resp', 'ts_id'], axis=1, inplace=True)"
   ]
  },
  {
   "cell_type": "code",
   "execution_count": null,
   "id": "changing-bulletin",
   "metadata": {},
   "outputs": [],
   "source": [
    "X = pd.concat([example_sample_submission.set_index('ts_id'), example_test.set_index('ts_id')], axis=1)"
   ]
  },
  {
   "cell_type": "code",
   "execution_count": null,
   "id": "later-therapy",
   "metadata": {},
   "outputs": [],
   "source": [
    "X"
   ]
  },
  {
   "cell_type": "code",
   "execution_count": null,
   "id": "returning-coalition",
   "metadata": {},
   "outputs": [],
   "source": [
    "X['pj'] = X.weight * X.action\n",
    "pi = X.groupby(['date']).pj.sum()\n",
    "t = pi.sum()/((pi**2).sum()**0.5) * (250/pi.count())**0.5\n",
    "u = min(max(t, 0), 6) * pi.sum()\n",
    "print(u)"
   ]
  },
  {
   "cell_type": "code",
   "execution_count": null,
   "id": "fabulous-addiction",
   "metadata": {},
   "outputs": [],
   "source": [
    "X['pj'] = X.weight * np.where((X.resp > 0), X.resp, 0)\n",
    "pi = X.groupby(['date']).pj.sum()\n",
    "t = pi.sum()/((pi**2).sum()**0.5) * (250/pi.count())**0.5\n",
    "u = min(max(t, 0), 6) * pi.sum()\n",
    "print(u)"
   ]
  },
  {
   "cell_type": "raw",
   "id": "frank-shareware",
   "metadata": {},
   "source": [
    "# https://www.kaggle.com/c/jane-street-market-prediction/overview/evaluation\n",
    "import janestreet\n",
    "env = janestreet.make_env() # initialize the environment\n",
    "iter_test = env.iter_test() # an iterator which loops over the test set\n",
    "\n",
    "for (test_df, sample_prediction_df) in iter_test:\n",
    "    sample_prediction_df.action = 0 #make your 0/1 prediction here\n",
    "    env.predict(sample_prediction_df)"
   ]
  },
  {
   "cell_type": "code",
   "execution_count": null,
   "id": "inside-relative",
   "metadata": {},
   "outputs": [],
   "source": []
  }
 ],
 "metadata": {
  "kernelspec": {
   "display_name": "Python 3",
   "language": "python",
   "name": "python3"
  },
  "language_info": {
   "codemirror_mode": {
    "name": "ipython",
    "version": 3
   },
   "file_extension": ".py",
   "mimetype": "text/x-python",
   "name": "python",
   "nbconvert_exporter": "python",
   "pygments_lexer": "ipython3",
   "version": "3.8.2"
  }
 },
 "nbformat": 4,
 "nbformat_minor": 5
}
