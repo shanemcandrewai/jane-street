{
 "cells": [
  {
   "cell_type": "markdown",
   "id": "daily-convention",
   "metadata": {},
   "source": [
    "# Jane Street Training set correlations\n",
    "[Kaggle Jane Street Market Prediction](https://www.kaggle.com/c/jane-street-market-prediction/overview)\n"
   ]
  },
  {
   "cell_type": "code",
   "execution_count": 1,
   "id": "appreciated-spirituality",
   "metadata": {},
   "outputs": [
    {
     "data": {
      "text/html": [
       "<style type='text/css'>\n",
       ".datatable table.frame { margin-bottom: 0; }\n",
       ".datatable table.frame thead { border-bottom: none; }\n",
       ".datatable table.frame tr.coltypes td {  color: #FFFFFF;  line-height: 6px;  padding: 0 0.5em;}\n",
       ".datatable .bool    { background: #DDDD99; }\n",
       ".datatable .object  { background: #565656; }\n",
       ".datatable .int     { background: #5D9E5D; }\n",
       ".datatable .float   { background: #4040CC; }\n",
       ".datatable .str     { background: #CC4040; }\n",
       ".datatable .row_index {  background: var(--jp-border-color3);  border-right: 1px solid var(--jp-border-color0);  color: var(--jp-ui-font-color3);  font-size: 9px;}\n",
       ".datatable .frame tr.coltypes .row_index {  background: var(--jp-border-color0);}\n",
       ".datatable th:nth-child(2) { padding-left: 12px; }\n",
       ".datatable .hellipsis {  color: var(--jp-cell-editor-border-color);}\n",
       ".datatable .vellipsis {  background: var(--jp-layout-color0);  color: var(--jp-cell-editor-border-color);}\n",
       ".datatable .na {  color: var(--jp-cell-editor-border-color);  font-size: 80%;}\n",
       ".datatable .footer { font-size: 9px; }\n",
       ".datatable .frame_dimensions {  background: var(--jp-border-color3);  border-top: 1px solid var(--jp-border-color0);  color: var(--jp-ui-font-color3);  display: inline-block;  opacity: 0.6;  padding: 1px 10px 1px 5px;}\n",
       "</style>\n"
      ],
      "text/plain": [
       "<IPython.core.display.HTML object>"
      ]
     },
     "metadata": {},
     "output_type": "display_data"
    }
   ],
   "source": [
    "import pandas as pd\n",
    "import numpy as np\n",
    "import datatable as dt\n",
    "from datatable import f\n",
    "tra = dt.fread('jane-street-market-prediction/train.csv')\n",
    "#X = dt.fread('jane-street-market-prediction/train.csv', max_nrows=10000, skip_to_line=520000).to_pandas()"
   ]
  },
  {
   "cell_type": "code",
   "execution_count": 2,
   "id": "sitting-thong",
   "metadata": {},
   "outputs": [],
   "source": [
    "del tra[f.date<85, :]"
   ]
  },
  {
   "cell_type": "code",
   "execution_count": 3,
   "id": "durable-directive",
   "metadata": {},
   "outputs": [],
   "source": [
    "del tra[:, ['date', 'resp_1', 'resp_2', 'resp_3', 'resp_4', 'ts_id']]"
   ]
  },
  {
   "cell_type": "code",
   "execution_count": 4,
   "id": "silent-brown",
   "metadata": {},
   "outputs": [],
   "source": [
    "X = tra.to_pandas()"
   ]
  },
  {
   "cell_type": "code",
   "execution_count": 5,
   "id": "cubic-cruise",
   "metadata": {},
   "outputs": [],
   "source": [
    "corr = X.corr().resp.sort_values()"
   ]
  },
  {
   "cell_type": "code",
   "execution_count": 6,
   "id": "orange-retail",
   "metadata": {},
   "outputs": [],
   "source": [
    "pd.set_option('display.max_rows', None)"
   ]
  },
  {
   "cell_type": "code",
   "execution_count": 7,
   "id": "difficult-calendar",
   "metadata": {},
   "outputs": [
    {
     "data": {
      "text/plain": [
       "feature_17    -0.023210\n",
       "feature_37    -0.022826\n",
       "feature_21    -0.021676\n",
       "feature_23    -0.018844\n",
       "feature_0     -0.017417\n",
       "feature_38    -0.014517\n",
       "feature_25    -0.013354\n",
       "feature_18    -0.011554\n",
       "feature_22    -0.010809\n",
       "feature_24    -0.009451\n",
       "feature_103   -0.009297\n",
       "feature_19    -0.008547\n",
       "feature_51    -0.008230\n",
       "feature_52    -0.007569\n",
       "feature_97    -0.006971\n",
       "feature_83    -0.006513\n",
       "feature_106   -0.006188\n",
       "feature_77    -0.006160\n",
       "feature_50    -0.005825\n",
       "weight        -0.005714\n",
       "feature_41    -0.005519\n",
       "feature_26    -0.005129\n",
       "feature_49    -0.004030\n",
       "feature_72    -0.003514\n",
       "feature_105   -0.002954\n",
       "feature_115   -0.002399\n",
       "feature_78    -0.002288\n",
       "feature_100   -0.002285\n",
       "feature_20    -0.002157\n",
       "feature_118   -0.001942\n",
       "feature_117   -0.001793\n",
       "feature_92    -0.001783\n",
       "feature_121   -0.001719\n",
       "feature_80    -0.001586\n",
       "feature_48    -0.001574\n",
       "feature_74    -0.001510\n",
       "feature_68    -0.001472\n",
       "feature_65    -0.001416\n",
       "feature_125   -0.001285\n",
       "feature_67    -0.001233\n",
       "feature_93    -0.001221\n",
       "feature_66    -0.000937\n",
       "feature_45    -0.000607\n",
       "feature_4     -0.000570\n",
       "feature_116   -0.000437\n",
       "feature_104   -0.000264\n",
       "feature_64    -0.000094\n",
       "feature_127    0.000043\n",
       "feature_46     0.000056\n",
       "feature_61     0.000146\n",
       "feature_90     0.000402\n",
       "feature_60     0.000441\n",
       "feature_109    0.000966\n",
       "feature_129    0.001037\n",
       "feature_99     0.001417\n",
       "feature_114    0.001552\n",
       "feature_75     0.001860\n",
       "feature_62     0.002023\n",
       "feature_112    0.002157\n",
       "feature_123    0.002176\n",
       "feature_102    0.002270\n",
       "feature_63     0.002277\n",
       "feature_87     0.002439\n",
       "feature_81     0.002507\n",
       "feature_95     0.002624\n",
       "feature_47     0.002693\n",
       "feature_111    0.002713\n",
       "feature_94     0.003087\n",
       "feature_86     0.003696\n",
       "feature_119    0.003818\n",
       "feature_107    0.003949\n",
       "feature_3      0.004042\n",
       "feature_6      0.004108\n",
       "feature_70     0.004378\n",
       "feature_88     0.005022\n",
       "feature_54     0.005200\n",
       "feature_110    0.005261\n",
       "feature_98     0.005541\n",
       "feature_76     0.005741\n",
       "feature_82     0.006609\n",
       "feature_84     0.007122\n",
       "feature_56     0.007198\n",
       "feature_59     0.007568\n",
       "feature_16     0.007615\n",
       "feature_85     0.007810\n",
       "feature_91     0.007873\n",
       "feature_5      0.008132\n",
       "feature_89     0.008220\n",
       "feature_10     0.008528\n",
       "feature_113    0.008652\n",
       "feature_108    0.008720\n",
       "feature_44     0.008760\n",
       "feature_73     0.008816\n",
       "feature_14     0.009007\n",
       "feature_101    0.009199\n",
       "feature_58     0.009313\n",
       "feature_96     0.009474\n",
       "feature_71     0.009881\n",
       "feature_12     0.009954\n",
       "feature_57     0.010120\n",
       "feature_79     0.010163\n",
       "feature_55     0.011171\n",
       "feature_30     0.011262\n",
       "feature_2      0.011537\n",
       "feature_43     0.011776\n",
       "feature_42     0.012341\n",
       "feature_36     0.012816\n",
       "feature_8      0.013054\n",
       "feature_120    0.013245\n",
       "feature_124    0.014096\n",
       "feature_126    0.014439\n",
       "feature_128    0.014804\n",
       "feature_9      0.014943\n",
       "feature_15     0.015098\n",
       "feature_122    0.015397\n",
       "feature_69     0.016079\n",
       "feature_53     0.016413\n",
       "feature_34     0.016486\n",
       "feature_13     0.017443\n",
       "feature_11     0.017670\n",
       "feature_1      0.017709\n",
       "feature_7      0.019858\n",
       "feature_32     0.021247\n",
       "feature_29     0.023134\n",
       "feature_40     0.023454\n",
       "feature_28     0.025761\n",
       "feature_35     0.025916\n",
       "feature_33     0.032788\n",
       "feature_31     0.037946\n",
       "feature_39     0.039868\n",
       "feature_27     0.042635\n",
       "resp           1.000000\n",
       "Name: resp, dtype: float64"
      ]
     },
     "execution_count": 7,
     "metadata": {},
     "output_type": "execute_result"
    }
   ],
   "source": [
    "corr"
   ]
  },
  {
   "cell_type": "code",
   "execution_count": null,
   "id": "mechanical-crisis",
   "metadata": {},
   "outputs": [],
   "source": [
    "import pandas as pd\n",
    "import numpy as np\n",
    "import datatable as dt\n",
    "tra = dt.fread('jane-street-market-prediction/train.csv')\n",
    "#X = dt.fread('jane-street-market-prediction/train.csv', max_nrows=10000, skip_to_line=520000).to_pandas()"
   ]
  },
  {
   "cell_type": "code",
   "execution_count": null,
   "id": "coupled-browser",
   "metadata": {},
   "outputs": [],
   "source": [
    "x27 = X.groupby('date').feature_27.median()\n",
    "x27"
   ]
  },
  {
   "cell_type": "code",
   "execution_count": null,
   "id": "incoming-butter",
   "metadata": {},
   "outputs": [],
   "source": [
    "ind = [4, 5, 6, 7]\n",
    "pd.DataFrame(['a', 'b', 'c', 'd'], index=ind)"
   ]
  },
  {
   "cell_type": "code",
   "execution_count": null,
   "id": "cheap-accounting",
   "metadata": {},
   "outputs": [],
   "source": [
    "len(pd.unique(X.date))"
   ]
  },
  {
   "cell_type": "code",
   "execution_count": null,
   "id": "controlling-voltage",
   "metadata": {},
   "outputs": [],
   "source": [
    "Xt = X[X.date >= 460]\n",
    "yt = np.where((Xt.resp > 0), 1, 0)\n",
    "X = X[(X.date > 85) & (X.date < 460)]\n",
    "y = np.where((X.resp > 0), 1, 0)\n",
    "drop_cols = ['date', 'resp_1', 'resp_2', 'resp_3', 'resp_4', 'resp', 'ts_id']\n",
    "X.drop(drop_cols, axis=1, inplace=True)\n",
    "Xt.drop(drop_cols, axis=1, inplace=True)"
   ]
  },
  {
   "cell_type": "code",
   "execution_count": null,
   "id": "plain-retailer",
   "metadata": {},
   "outputs": [],
   "source": [
    "from sklearn.experimental import enable_hist_gradient_boosting\n",
    "from sklearn.ensemble import HistGradientBoostingClassifier\n",
    "clf = HistGradientBoostingClassifier(max_iter=100, verbose=0, random_state=42).fit(X, y)"
   ]
  },
  {
   "cell_type": "code",
   "execution_count": null,
   "id": "automotive-stress",
   "metadata": {},
   "outputs": [],
   "source": [
    "clf.score(Xt, yt)"
   ]
  },
  {
   "cell_type": "markdown",
   "id": "great-shopping",
   "metadata": {},
   "source": [
    "### max_iter=100, verbose=0, random_state=42\n",
    "0.5211998142876572\n",
    "kaggle 5171.245"
   ]
  },
  {
   "cell_type": "markdown",
   "id": "noted-fancy",
   "metadata": {},
   "source": [
    "### drop feature_61\n",
    "0.5215234039759324"
   ]
  },
  {
   "cell_type": "markdown",
   "id": "entire-rugby",
   "metadata": {},
   "source": [
    "### drop feature_61, 'feature_64'\n",
    "0.5201024231708976"
   ]
  },
  {
   "cell_type": "markdown",
   "id": "artistic-genome",
   "metadata": {},
   "source": [
    "### drop feature_61, 'feature_90\n",
    "0.5203650466860196"
   ]
  },
  {
   "cell_type": "code",
   "execution_count": null,
   "id": "southern-registrar",
   "metadata": {},
   "outputs": [],
   "source": []
  }
 ],
 "metadata": {
  "kernelspec": {
   "display_name": "Python 3",
   "language": "python",
   "name": "python3"
  },
  "language_info": {
   "codemirror_mode": {
    "name": "ipython",
    "version": 3
   },
   "file_extension": ".py",
   "mimetype": "text/x-python",
   "name": "python",
   "nbconvert_exporter": "python",
   "pygments_lexer": "ipython3",
   "version": "3.8.2"
  }
 },
 "nbformat": 4,
 "nbformat_minor": 5
}
