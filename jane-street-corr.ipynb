{
 "cells": [
  {
   "cell_type": "markdown",
   "id": "resident-payroll",
   "metadata": {},
   "source": [
    "# Jane Street Training set correlations\n",
    "[Kaggle Jane Street Market Prediction](https://www.kaggle.com/c/jane-street-market-prediction/overview)\n"
   ]
  },
  {
   "cell_type": "code",
   "execution_count": null,
   "id": "variable-sister",
   "metadata": {},
   "outputs": [],
   "source": [
    "import pandas as pd\n",
    "import numpy as np\n",
    "import datatable as dt\n",
    "tra = dt.fread('jane-street-market-prediction/train.csv')"
   ]
  },
  {
   "cell_type": "code",
   "execution_count": null,
   "id": "interim-label",
   "metadata": {},
   "outputs": [],
   "source": [
    "del tra[dt.f.date<85, :]"
   ]
  },
  {
   "cell_type": "code",
   "execution_count": null,
   "id": "central-checklist",
   "metadata": {},
   "outputs": [],
   "source": [
    "tra.names"
   ]
  },
  {
   "cell_type": "code",
   "execution_count": null,
   "id": "pursuant-monaco",
   "metadata": {},
   "outputs": [],
   "source": [
    "dt.math.isna(tra[:, dt.f.feature_27])"
   ]
  },
  {
   "cell_type": "code",
   "execution_count": null,
   "id": "postal-tournament",
   "metadata": {},
   "outputs": [],
   "source": [
    "dt_mean = tra[:, dt.mean(dt.f.feature_27), dt.by(dt.f.date)]"
   ]
  },
  {
   "cell_type": "code",
   "execution_count": null,
   "id": "miniature-milton",
   "metadata": {},
   "outputs": [],
   "source": [
    "del tra[:, ['date', 'resp_1', 'resp_2', 'resp_3', 'resp_4', 'ts_id']]"
   ]
  },
  {
   "cell_type": "code",
   "execution_count": null,
   "id": "satisfactory-vector",
   "metadata": {},
   "outputs": [],
   "source": [
    "X = tra.to_pandas()"
   ]
  },
  {
   "cell_type": "code",
   "execution_count": null,
   "id": "presidential-sitting",
   "metadata": {},
   "outputs": [],
   "source": [
    "corr = X.corr().resp.sort_values()"
   ]
  },
  {
   "cell_type": "code",
   "execution_count": null,
   "id": "ceramic-gibson",
   "metadata": {},
   "outputs": [],
   "source": [
    "pd.set_option('display.max_rows', None)"
   ]
  },
  {
   "cell_type": "code",
   "execution_count": null,
   "id": "further-aurora",
   "metadata": {},
   "outputs": [],
   "source": [
    "corr"
   ]
  },
  {
   "cell_type": "code",
   "execution_count": null,
   "id": "bound-madness",
   "metadata": {},
   "outputs": [],
   "source": [
    "ind = [4, 5, 6, 7]\n",
    "pd.DataFrame(['a', 'b', 'c', 'd'], index=ind)"
   ]
  },
  {
   "cell_type": "code",
   "execution_count": null,
   "id": "constant-imperial",
   "metadata": {},
   "outputs": [],
   "source": [
    "len(pd.unique(X.date))"
   ]
  },
  {
   "cell_type": "code",
   "execution_count": null,
   "id": "suitable-hello",
   "metadata": {},
   "outputs": [],
   "source": [
    "Xt = X[X.date >= 460]\n",
    "yt = np.where((Xt.resp > 0), 1, 0)\n",
    "X = X[(X.date > 85) & (X.date < 460)]\n",
    "y = np.where((X.resp > 0), 1, 0)\n",
    "drop_cols = ['date', 'resp_1', 'resp_2', 'resp_3', 'resp_4', 'resp', 'ts_id']\n",
    "X.drop(drop_cols, axis=1, inplace=True)\n",
    "Xt.drop(drop_cols, axis=1, inplace=True)"
   ]
  },
  {
   "cell_type": "code",
   "execution_count": null,
   "id": "infectious-fabric",
   "metadata": {},
   "outputs": [],
   "source": [
    "from sklearn.experimental import enable_hist_gradient_boosting\n",
    "from sklearn.ensemble import HistGradientBoostingClassifier\n",
    "clf = HistGradientBoostingClassifier(max_iter=100, verbose=0, random_state=42).fit(X, y)"
   ]
  },
  {
   "cell_type": "code",
   "execution_count": null,
   "id": "passive-truck",
   "metadata": {},
   "outputs": [],
   "source": [
    "clf.score(Xt, yt)"
   ]
  },
  {
   "cell_type": "markdown",
   "id": "mexican-brisbane",
   "metadata": {},
   "source": [
    "### max_iter=100, verbose=0, random_state=42\n",
    "0.5211998142876572\n",
    "kaggle 5171.245"
   ]
  },
  {
   "cell_type": "markdown",
   "id": "innocent-stationery",
   "metadata": {},
   "source": [
    "### drop feature_61\n",
    "0.5215234039759324"
   ]
  },
  {
   "cell_type": "markdown",
   "id": "younger-dollar",
   "metadata": {},
   "source": [
    "### drop feature_61, 'feature_64'\n",
    "0.5201024231708976"
   ]
  },
  {
   "cell_type": "markdown",
   "id": "wired-catalog",
   "metadata": {},
   "source": [
    "### drop feature_61, 'feature_90\n",
    "0.5203650466860196"
   ]
  },
  {
   "cell_type": "code",
   "execution_count": null,
   "id": "human-specific",
   "metadata": {},
   "outputs": [],
   "source": []
  }
 ],
 "metadata": {
  "kernelspec": {
   "display_name": "Python 3",
   "language": "python",
   "name": "python3"
  },
  "language_info": {
   "codemirror_mode": {
    "name": "ipython",
    "version": 3
   },
   "file_extension": ".py",
   "mimetype": "text/x-python",
   "name": "python",
   "nbconvert_exporter": "python",
   "pygments_lexer": "ipython3",
   "version": "3.8.2"
  }
 },
 "nbformat": 4,
 "nbformat_minor": 5
}
