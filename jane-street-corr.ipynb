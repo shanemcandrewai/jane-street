{
 "cells": [
  {
   "cell_type": "markdown",
   "id": "forty-permit",
   "metadata": {},
   "source": [
    "# Jane Street Training set correlations\n",
    "[Kaggle Jane Street Market Prediction](https://www.kaggle.com/c/jane-street-market-prediction/overview)\n"
   ]
  },
  {
   "cell_type": "code",
   "execution_count": 1,
   "id": "suited-specialist",
   "metadata": {},
   "outputs": [
    {
     "data": {
      "text/html": [
       "<style type='text/css'>\n",
       ".datatable table.frame { margin-bottom: 0; }\n",
       ".datatable table.frame thead { border-bottom: none; }\n",
       ".datatable table.frame tr.coltypes td {  color: #FFFFFF;  line-height: 6px;  padding: 0 0.5em;}\n",
       ".datatable .bool    { background: #DDDD99; }\n",
       ".datatable .object  { background: #565656; }\n",
       ".datatable .int     { background: #5D9E5D; }\n",
       ".datatable .float   { background: #4040CC; }\n",
       ".datatable .str     { background: #CC4040; }\n",
       ".datatable .row_index {  background: var(--jp-border-color3);  border-right: 1px solid var(--jp-border-color0);  color: var(--jp-ui-font-color3);  font-size: 9px;}\n",
       ".datatable .frame tr.coltypes .row_index {  background: var(--jp-border-color0);}\n",
       ".datatable th:nth-child(2) { padding-left: 12px; }\n",
       ".datatable .hellipsis {  color: var(--jp-cell-editor-border-color);}\n",
       ".datatable .vellipsis {  background: var(--jp-layout-color0);  color: var(--jp-cell-editor-border-color);}\n",
       ".datatable .na {  color: var(--jp-cell-editor-border-color);  font-size: 80%;}\n",
       ".datatable .footer { font-size: 9px; }\n",
       ".datatable .frame_dimensions {  background: var(--jp-border-color3);  border-top: 1px solid var(--jp-border-color0);  color: var(--jp-ui-font-color3);  display: inline-block;  opacity: 0.6;  padding: 1px 10px 1px 5px;}\n",
       "</style>\n"
      ],
      "text/plain": [
       "<IPython.core.display.HTML object>"
      ]
     },
     "metadata": {},
     "output_type": "display_data"
    }
   ],
   "source": [
    "import pandas as pd\n",
    "import numpy as np\n",
    "import datatable as dt\n",
    "X = dt.fread('jane-street-market-prediction/train.csv').to_pandas()\n",
    "#X = dt.fread('jane-street-market-prediction/train.csv', max_nrows=10000, skip_to_line=520000).to_pandas()"
   ]
  },
  {
   "cell_type": "code",
   "execution_count": 2,
   "id": "hydraulic-service",
   "metadata": {},
   "outputs": [],
   "source": [
    "X = X[(X.date > 85) & (X.date < 460)] "
   ]
  },
  {
   "cell_type": "code",
   "execution_count": 3,
   "id": "covered-positive",
   "metadata": {},
   "outputs": [],
   "source": [
    "corr = X.corr()"
   ]
  },
  {
   "cell_type": "code",
   "execution_count": 4,
   "id": "combined-necessity",
   "metadata": {},
   "outputs": [],
   "source": [
    "pd.set_option('display.max_rows', None)"
   ]
  },
  {
   "cell_type": "code",
   "execution_count": 5,
   "id": "german-marker",
   "metadata": {},
   "outputs": [
    {
     "data": {
      "text/plain": [
       "feature_17    -0.026171\n",
       "feature_37    -0.024880\n",
       "feature_21    -0.023131\n",
       "feature_23    -0.019968\n",
       "feature_0     -0.017129\n",
       "feature_38    -0.015160\n",
       "feature_25    -0.014984\n",
       "feature_18    -0.012228\n",
       "feature_22    -0.010672\n",
       "feature_19    -0.010612\n",
       "feature_24    -0.009154\n",
       "feature_103   -0.009130\n",
       "feature_52    -0.008630\n",
       "feature_51    -0.008050\n",
       "feature_50    -0.007169\n",
       "feature_106   -0.006697\n",
       "feature_97    -0.006268\n",
       "feature_77    -0.005677\n",
       "ts_id         -0.005451\n",
       "feature_41    -0.005342\n",
       "weight        -0.005341\n",
       "date          -0.005302\n",
       "feature_83    -0.005292\n",
       "feature_26    -0.005043\n",
       "feature_105   -0.004634\n",
       "feature_45    -0.004123\n",
       "feature_49    -0.003420\n",
       "feature_92    -0.003353\n",
       "feature_117   -0.003167\n",
       "feature_104   -0.002871\n",
       "feature_116   -0.002668\n",
       "feature_90    -0.002594\n",
       "feature_118   -0.002414\n",
       "feature_20    -0.002370\n",
       "feature_115   -0.002227\n",
       "feature_72    -0.002174\n",
       "feature_93    -0.002015\n",
       "feature_114   -0.001907\n",
       "feature_100   -0.001763\n",
       "feature_68    -0.001726\n",
       "feature_67    -0.001468\n",
       "feature_48    -0.001419\n",
       "feature_102   -0.001404\n",
       "feature_46    -0.001026\n",
       "feature_121   -0.000999\n",
       "feature_61    -0.000887\n",
       "feature_65    -0.000651\n",
       "feature_60    -0.000589\n",
       "feature_125   -0.000569\n",
       "feature_78    -0.000531\n",
       "feature_57    -0.000358\n",
       "feature_80    -0.000087\n",
       "feature_66    -0.000020\n",
       "feature_4     -0.000008\n",
       "feature_74     0.000052\n",
       "feature_95     0.000124\n",
       "feature_58     0.000228\n",
       "feature_64     0.000245\n",
       "feature_59     0.000396\n",
       "feature_127    0.000535\n",
       "feature_55     0.000834\n",
       "feature_119    0.001155\n",
       "feature_47     0.001228\n",
       "feature_56     0.001248\n",
       "feature_107    0.001306\n",
       "feature_129    0.001366\n",
       "feature_99     0.001428\n",
       "feature_109    0.002459\n",
       "feature_62     0.002664\n",
       "feature_123    0.002671\n",
       "feature_94     0.002690\n",
       "feature_75     0.002730\n",
       "feature_63     0.002936\n",
       "feature_87     0.003295\n",
       "feature_111    0.003336\n",
       "feature_112    0.003379\n",
       "feature_81     0.003474\n",
       "feature_86     0.004469\n",
       "feature_3      0.004746\n",
       "feature_98     0.005001\n",
       "feature_110    0.005487\n",
       "feature_70     0.005683\n",
       "feature_88     0.005958\n",
       "feature_76     0.005995\n",
       "feature_54     0.006057\n",
       "feature_84     0.006695\n",
       "feature_82     0.006734\n",
       "feature_6      0.006866\n",
       "feature_44     0.007311\n",
       "feature_89     0.007518\n",
       "feature_91     0.007772\n",
       "feature_108    0.007819\n",
       "feature_113    0.007884\n",
       "feature_43     0.008267\n",
       "feature_96     0.008415\n",
       "feature_101    0.008451\n",
       "feature_16     0.008724\n",
       "feature_85     0.008762\n",
       "feature_73     0.008916\n",
       "feature_14     0.009379\n",
       "feature_12     0.009689\n",
       "feature_10     0.009701\n",
       "feature_79     0.009858\n",
       "feature_42     0.010203\n",
       "feature_5      0.010780\n",
       "feature_8      0.011082\n",
       "feature_71     0.011286\n",
       "feature_120    0.011569\n",
       "feature_30     0.012114\n",
       "feature_124    0.012365\n",
       "feature_2      0.012520\n",
       "feature_126    0.012674\n",
       "feature_128    0.013021\n",
       "feature_36     0.013215\n",
       "feature_122    0.013700\n",
       "feature_9      0.014720\n",
       "feature_15     0.015099\n",
       "feature_53     0.015304\n",
       "feature_69     0.015865\n",
       "feature_34     0.016320\n",
       "feature_1      0.017256\n",
       "feature_11     0.017715\n",
       "feature_13     0.017904\n",
       "feature_7      0.018168\n",
       "feature_32     0.021228\n",
       "feature_40     0.024112\n",
       "feature_28     0.024913\n",
       "feature_29     0.025164\n",
       "feature_35     0.027499\n",
       "feature_33     0.034350\n",
       "feature_31     0.039610\n",
       "feature_39     0.041703\n",
       "feature_27     0.043640\n",
       "resp_1         0.453592\n",
       "resp_2         0.596992\n",
       "resp_3         0.821940\n",
       "resp_4         0.956611\n",
       "resp           1.000000\n",
       "Name: resp, dtype: float64"
      ]
     },
     "execution_count": 5,
     "metadata": {},
     "output_type": "execute_result"
    }
   ],
   "source": [
    "corr.resp.sort_values()"
   ]
  },
  {
   "cell_type": "code",
   "execution_count": 1,
   "id": "primary-commission",
   "metadata": {},
   "outputs": [
    {
     "data": {
      "text/html": [
       "<style type='text/css'>\n",
       ".datatable table.frame { margin-bottom: 0; }\n",
       ".datatable table.frame thead { border-bottom: none; }\n",
       ".datatable table.frame tr.coltypes td {  color: #FFFFFF;  line-height: 6px;  padding: 0 0.5em;}\n",
       ".datatable .bool    { background: #DDDD99; }\n",
       ".datatable .object  { background: #565656; }\n",
       ".datatable .int     { background: #5D9E5D; }\n",
       ".datatable .float   { background: #4040CC; }\n",
       ".datatable .str     { background: #CC4040; }\n",
       ".datatable .row_index {  background: var(--jp-border-color3);  border-right: 1px solid var(--jp-border-color0);  color: var(--jp-ui-font-color3);  font-size: 9px;}\n",
       ".datatable .frame tr.coltypes .row_index {  background: var(--jp-border-color0);}\n",
       ".datatable th:nth-child(2) { padding-left: 12px; }\n",
       ".datatable .hellipsis {  color: var(--jp-cell-editor-border-color);}\n",
       ".datatable .vellipsis {  background: var(--jp-layout-color0);  color: var(--jp-cell-editor-border-color);}\n",
       ".datatable .na {  color: var(--jp-cell-editor-border-color);  font-size: 80%;}\n",
       ".datatable .footer { font-size: 9px; }\n",
       ".datatable .frame_dimensions {  background: var(--jp-border-color3);  border-top: 1px solid var(--jp-border-color0);  color: var(--jp-ui-font-color3);  display: inline-block;  opacity: 0.6;  padding: 1px 10px 1px 5px;}\n",
       "</style>\n"
      ],
      "text/plain": [
       "<IPython.core.display.HTML object>"
      ]
     },
     "metadata": {},
     "output_type": "display_data"
    }
   ],
   "source": [
    "import pandas as pd\n",
    "import numpy as np\n",
    "import datatable as dt\n",
    "X = dt.fread('jane-street-market-prediction/train.csv').to_pandas()\n",
    "#X = dt.fread('jane-street-market-prediction/train.csv', max_nrows=10000, skip_to_line=520000).to_pandas()"
   ]
  },
  {
   "cell_type": "code",
   "execution_count": 20,
   "id": "welcome-designation",
   "metadata": {},
   "outputs": [
    {
     "ename": "ValueError",
     "evalue": "Lengths must match to compare",
     "output_type": "error",
     "traceback": [
      "\u001b[1;31m---------------------------------------------------------------------------\u001b[0m",
      "\u001b[1;31mValueError\u001b[0m                                Traceback (most recent call last)",
      "\u001b[1;32m<ipython-input-20-7449855f2c98>\u001b[0m in \u001b[0;36m<module>\u001b[1;34m\u001b[0m\n\u001b[0;32m      1\u001b[0m \u001b[0mx27\u001b[0m \u001b[1;33m=\u001b[0m \u001b[0mX\u001b[0m\u001b[1;33m.\u001b[0m\u001b[0mgroupby\u001b[0m\u001b[1;33m(\u001b[0m\u001b[1;34m'date'\u001b[0m\u001b[1;33m)\u001b[0m\u001b[1;33m.\u001b[0m\u001b[0mfeature_27\u001b[0m\u001b[1;33m.\u001b[0m\u001b[0mmedian\u001b[0m\u001b[1;33m(\u001b[0m\u001b[1;33m)\u001b[0m\u001b[1;33m\u001b[0m\u001b[1;33m\u001b[0m\u001b[0m\n\u001b[1;32m----> 2\u001b[1;33m \u001b[0mx27\u001b[0m\u001b[1;33m[\u001b[0m\u001b[0mx27\u001b[0m\u001b[1;33m.\u001b[0m\u001b[0mindex\u001b[0m \u001b[1;33m==\u001b[0m \u001b[1;33m(\u001b[0m \u001b[0mX\u001b[0m\u001b[1;33m.\u001b[0m\u001b[0mdate\u001b[0m\u001b[1;33m+\u001b[0m\u001b[1;36m1\u001b[0m \u001b[1;33m)\u001b[0m\u001b[1;33m]\u001b[0m\u001b[1;33m\u001b[0m\u001b[1;33m\u001b[0m\u001b[0m\n\u001b[0m",
      "\u001b[1;32mc:\\users\\deskt\\dev\\venv\\3.8\\lib\\site-packages\\pandas\\core\\ops\\common.py\u001b[0m in \u001b[0;36mnew_method\u001b[1;34m(self, other)\u001b[0m\n\u001b[0;32m     63\u001b[0m         \u001b[0mother\u001b[0m \u001b[1;33m=\u001b[0m \u001b[0mitem_from_zerodim\u001b[0m\u001b[1;33m(\u001b[0m\u001b[0mother\u001b[0m\u001b[1;33m)\u001b[0m\u001b[1;33m\u001b[0m\u001b[1;33m\u001b[0m\u001b[0m\n\u001b[0;32m     64\u001b[0m \u001b[1;33m\u001b[0m\u001b[0m\n\u001b[1;32m---> 65\u001b[1;33m         \u001b[1;32mreturn\u001b[0m \u001b[0mmethod\u001b[0m\u001b[1;33m(\u001b[0m\u001b[0mself\u001b[0m\u001b[1;33m,\u001b[0m \u001b[0mother\u001b[0m\u001b[1;33m)\u001b[0m\u001b[1;33m\u001b[0m\u001b[1;33m\u001b[0m\u001b[0m\n\u001b[0m\u001b[0;32m     66\u001b[0m \u001b[1;33m\u001b[0m\u001b[0m\n\u001b[0;32m     67\u001b[0m     \u001b[1;32mreturn\u001b[0m \u001b[0mnew_method\u001b[0m\u001b[1;33m\u001b[0m\u001b[1;33m\u001b[0m\u001b[0m\n",
      "\u001b[1;32mc:\\users\\deskt\\dev\\venv\\3.8\\lib\\site-packages\\pandas\\core\\arraylike.py\u001b[0m in \u001b[0;36m__eq__\u001b[1;34m(self, other)\u001b[0m\n\u001b[0;32m     27\u001b[0m     \u001b[1;33m@\u001b[0m\u001b[0munpack_zerodim_and_defer\u001b[0m\u001b[1;33m(\u001b[0m\u001b[1;34m\"__eq__\"\u001b[0m\u001b[1;33m)\u001b[0m\u001b[1;33m\u001b[0m\u001b[1;33m\u001b[0m\u001b[0m\n\u001b[0;32m     28\u001b[0m     \u001b[1;32mdef\u001b[0m \u001b[0m__eq__\u001b[0m\u001b[1;33m(\u001b[0m\u001b[0mself\u001b[0m\u001b[1;33m,\u001b[0m \u001b[0mother\u001b[0m\u001b[1;33m)\u001b[0m\u001b[1;33m:\u001b[0m\u001b[1;33m\u001b[0m\u001b[1;33m\u001b[0m\u001b[0m\n\u001b[1;32m---> 29\u001b[1;33m         \u001b[1;32mreturn\u001b[0m \u001b[0mself\u001b[0m\u001b[1;33m.\u001b[0m\u001b[0m_cmp_method\u001b[0m\u001b[1;33m(\u001b[0m\u001b[0mother\u001b[0m\u001b[1;33m,\u001b[0m \u001b[0moperator\u001b[0m\u001b[1;33m.\u001b[0m\u001b[0meq\u001b[0m\u001b[1;33m)\u001b[0m\u001b[1;33m\u001b[0m\u001b[1;33m\u001b[0m\u001b[0m\n\u001b[0m\u001b[0;32m     30\u001b[0m \u001b[1;33m\u001b[0m\u001b[0m\n\u001b[0;32m     31\u001b[0m     \u001b[1;33m@\u001b[0m\u001b[0munpack_zerodim_and_defer\u001b[0m\u001b[1;33m(\u001b[0m\u001b[1;34m\"__ne__\"\u001b[0m\u001b[1;33m)\u001b[0m\u001b[1;33m\u001b[0m\u001b[1;33m\u001b[0m\u001b[0m\n",
      "\u001b[1;32mc:\\users\\deskt\\dev\\venv\\3.8\\lib\\site-packages\\pandas\\core\\indexes\\base.py\u001b[0m in \u001b[0;36m_cmp_method\u001b[1;34m(self, other, op)\u001b[0m\n\u001b[0;32m   5613\u001b[0m         \u001b[1;32mif\u001b[0m \u001b[0misinstance\u001b[0m\u001b[1;33m(\u001b[0m\u001b[0mother\u001b[0m\u001b[1;33m,\u001b[0m \u001b[1;33m(\u001b[0m\u001b[0mnp\u001b[0m\u001b[1;33m.\u001b[0m\u001b[0mndarray\u001b[0m\u001b[1;33m,\u001b[0m \u001b[0mIndex\u001b[0m\u001b[1;33m,\u001b[0m \u001b[0mABCSeries\u001b[0m\u001b[1;33m,\u001b[0m \u001b[0mExtensionArray\u001b[0m\u001b[1;33m)\u001b[0m\u001b[1;33m)\u001b[0m\u001b[1;33m:\u001b[0m\u001b[1;33m\u001b[0m\u001b[1;33m\u001b[0m\u001b[0m\n\u001b[0;32m   5614\u001b[0m             \u001b[1;32mif\u001b[0m \u001b[0mlen\u001b[0m\u001b[1;33m(\u001b[0m\u001b[0mself\u001b[0m\u001b[1;33m)\u001b[0m \u001b[1;33m!=\u001b[0m \u001b[0mlen\u001b[0m\u001b[1;33m(\u001b[0m\u001b[0mother\u001b[0m\u001b[1;33m)\u001b[0m\u001b[1;33m:\u001b[0m\u001b[1;33m\u001b[0m\u001b[1;33m\u001b[0m\u001b[0m\n\u001b[1;32m-> 5615\u001b[1;33m                 \u001b[1;32mraise\u001b[0m \u001b[0mValueError\u001b[0m\u001b[1;33m(\u001b[0m\u001b[1;34m\"Lengths must match to compare\"\u001b[0m\u001b[1;33m)\u001b[0m\u001b[1;33m\u001b[0m\u001b[1;33m\u001b[0m\u001b[0m\n\u001b[0m\u001b[0;32m   5616\u001b[0m \u001b[1;33m\u001b[0m\u001b[0m\n\u001b[0;32m   5617\u001b[0m         \u001b[1;32mif\u001b[0m \u001b[1;32mnot\u001b[0m \u001b[0misinstance\u001b[0m\u001b[1;33m(\u001b[0m\u001b[0mother\u001b[0m\u001b[1;33m,\u001b[0m \u001b[0mABCMultiIndex\u001b[0m\u001b[1;33m)\u001b[0m\u001b[1;33m:\u001b[0m\u001b[1;33m\u001b[0m\u001b[1;33m\u001b[0m\u001b[0m\n",
      "\u001b[1;31mValueError\u001b[0m: Lengths must match to compare"
     ]
    }
   ],
   "source": [
    "x27 = X.groupby('date').feature_27.median()\n",
    "x27[x27.index == ( X.date+1 )]"
   ]
  },
  {
   "cell_type": "code",
   "execution_count": 2,
   "id": "according-smith",
   "metadata": {},
   "outputs": [],
   "source": [
    "Xt = X[X.date >= 460]\n",
    "yt = np.where((Xt.resp > 0), 1, 0)\n",
    "X = X[(X.date > 85) & (X.date < 460)]\n",
    "y = np.where((X.resp > 0), 1, 0)\n",
    "drop_cols = ['date', 'resp_1', 'resp_2', 'resp_3', 'resp_4', 'resp', 'ts_id']\n",
    "X.drop(drop_cols, axis=1, inplace=True)\n",
    "Xt.drop(drop_cols, axis=1, inplace=True)"
   ]
  },
  {
   "cell_type": "code",
   "execution_count": 3,
   "id": "experienced-neighbor",
   "metadata": {},
   "outputs": [],
   "source": [
    "from sklearn.experimental import enable_hist_gradient_boosting\n",
    "from sklearn.ensemble import HistGradientBoostingClassifier\n",
    "clf = HistGradientBoostingClassifier(max_iter=100, verbose=0, random_state=42).fit(X, y)"
   ]
  },
  {
   "cell_type": "code",
   "execution_count": 4,
   "id": "closed-removal",
   "metadata": {},
   "outputs": [
    {
     "data": {
      "text/plain": [
       "0.5203650466860196"
      ]
     },
     "execution_count": 4,
     "metadata": {},
     "output_type": "execute_result"
    }
   ],
   "source": [
    "clf.score(Xt, yt)"
   ]
  },
  {
   "cell_type": "markdown",
   "id": "complimentary-giving",
   "metadata": {},
   "source": [
    "### max_iter=100, verbose=0, random_state=42\n",
    "0.5211998142876572\n",
    "kaggle 5171.245"
   ]
  },
  {
   "cell_type": "markdown",
   "id": "mounted-thomson",
   "metadata": {},
   "source": [
    "### drop feature_61\n",
    "0.5215234039759324"
   ]
  },
  {
   "cell_type": "markdown",
   "id": "welcome-health",
   "metadata": {},
   "source": [
    "### drop feature_61, 'feature_64'\n",
    "0.5201024231708976"
   ]
  },
  {
   "cell_type": "markdown",
   "id": "chronic-ribbon",
   "metadata": {},
   "source": [
    "### drop feature_61, 'feature_90\n",
    "0.5203650466860196"
   ]
  },
  {
   "cell_type": "code",
   "execution_count": null,
   "id": "considered-harvey",
   "metadata": {},
   "outputs": [],
   "source": []
  }
 ],
 "metadata": {
  "kernelspec": {
   "display_name": "Python 3",
   "language": "python",
   "name": "python3"
  },
  "language_info": {
   "codemirror_mode": {
    "name": "ipython",
    "version": 3
   },
   "file_extension": ".py",
   "mimetype": "text/x-python",
   "name": "python",
   "nbconvert_exporter": "python",
   "pygments_lexer": "ipython3",
   "version": "3.8.2"
  }
 },
 "nbformat": 4,
 "nbformat_minor": 5
}
