{
 "cells": [
  {
   "cell_type": "code",
   "execution_count": 1,
   "id": "economic-worthy",
   "metadata": {},
   "outputs": [
    {
     "data": {
      "text/html": [
       "<style type='text/css'>\n",
       ".datatable table.frame { margin-bottom: 0; }\n",
       ".datatable table.frame thead { border-bottom: none; }\n",
       ".datatable table.frame tr.coltypes td {  color: #FFFFFF;  line-height: 6px;  padding: 0 0.5em;}\n",
       ".datatable .bool    { background: #DDDD99; }\n",
       ".datatable .object  { background: #565656; }\n",
       ".datatable .int     { background: #5D9E5D; }\n",
       ".datatable .float   { background: #4040CC; }\n",
       ".datatable .str     { background: #CC4040; }\n",
       ".datatable .row_index {  background: var(--jp-border-color3);  border-right: 1px solid var(--jp-border-color0);  color: var(--jp-ui-font-color3);  font-size: 9px;}\n",
       ".datatable .frame tr.coltypes .row_index {  background: var(--jp-border-color0);}\n",
       ".datatable th:nth-child(2) { padding-left: 12px; }\n",
       ".datatable .hellipsis {  color: var(--jp-cell-editor-border-color);}\n",
       ".datatable .vellipsis {  background: var(--jp-layout-color0);  color: var(--jp-cell-editor-border-color);}\n",
       ".datatable .na {  color: var(--jp-cell-editor-border-color);  font-size: 80%;}\n",
       ".datatable .footer { font-size: 9px; }\n",
       ".datatable .frame_dimensions {  background: var(--jp-border-color3);  border-top: 1px solid var(--jp-border-color0);  color: var(--jp-ui-font-color3);  display: inline-block;  opacity: 0.6;  padding: 1px 10px 1px 5px;}\n",
       "</style>\n"
      ],
      "text/plain": [
       "<IPython.core.display.HTML object>"
      ]
     },
     "metadata": {},
     "output_type": "display_data"
    }
   ],
   "source": [
    "import datatable as dt\n",
    "import pandas as pd"
   ]
  },
  {
   "cell_type": "code",
   "execution_count": null,
   "id": "surprising-estate",
   "metadata": {},
   "outputs": [],
   "source": [
    "!pip3 install xgboost"
   ]
  },
  {
   "cell_type": "raw",
   "id": "improved-sheet",
   "metadata": {},
   "source": [
    "dtrain = dt.fread('jane-street-market-prediction/train.csv')"
   ]
  },
  {
   "cell_type": "raw",
   "id": "competitive-superior",
   "metadata": {},
   "source": [
    "dtrain.to_jay('train.jay')"
   ]
  },
  {
   "cell_type": "code",
   "execution_count": 3,
   "id": "daily-experiment",
   "metadata": {},
   "outputs": [],
   "source": [
    "dtrain = dt.fread('train.jay')"
   ]
  },
  {
   "cell_type": "code",
   "execution_count": 4,
   "id": "mounted-listing",
   "metadata": {
    "collapsed": true,
    "jupyter": {
     "outputs_hidden": true
    }
   },
   "outputs": [
    {
     "data": {
      "text/html": [
       "<div class='datatable'>\n",
       "  <table class='frame'>\n",
       "  <thead>\n",
       "    <tr class='colnames'><td class='row_index'></td><th>date</th><th>weight</th><th>resp_1</th><th>resp_2</th><th>resp_3</th><th>resp_4</th><th>resp</th><th>feature_0</th><th>feature_1</th><th>feature_2</th><th class='vellipsis'>&hellip;</th><th>feature_126</th><th>feature_127</th><th>feature_128</th><th>feature_129</th><th>ts_id</th></tr>\n",
       "    <tr class='coltypes'><td class='row_index'></td><td class='int' title='int32'>&#x25AA;&#x25AA;&#x25AA;&#x25AA;</td><td class='float' title='float64'>&#x25AA;&#x25AA;&#x25AA;&#x25AA;&#x25AA;&#x25AA;&#x25AA;&#x25AA;</td><td class='float' title='float64'>&#x25AA;&#x25AA;&#x25AA;&#x25AA;&#x25AA;&#x25AA;&#x25AA;&#x25AA;</td><td class='float' title='float64'>&#x25AA;&#x25AA;&#x25AA;&#x25AA;&#x25AA;&#x25AA;&#x25AA;&#x25AA;</td><td class='float' title='float64'>&#x25AA;&#x25AA;&#x25AA;&#x25AA;&#x25AA;&#x25AA;&#x25AA;&#x25AA;</td><td class='float' title='float64'>&#x25AA;&#x25AA;&#x25AA;&#x25AA;&#x25AA;&#x25AA;&#x25AA;&#x25AA;</td><td class='float' title='float64'>&#x25AA;&#x25AA;&#x25AA;&#x25AA;&#x25AA;&#x25AA;&#x25AA;&#x25AA;</td><td class='int' title='int32'>&#x25AA;&#x25AA;&#x25AA;&#x25AA;</td><td class='float' title='float64'>&#x25AA;&#x25AA;&#x25AA;&#x25AA;&#x25AA;&#x25AA;&#x25AA;&#x25AA;</td><td class='float' title='float64'>&#x25AA;&#x25AA;&#x25AA;&#x25AA;&#x25AA;&#x25AA;&#x25AA;&#x25AA;</td><td></td><td class='float' title='float64'>&#x25AA;&#x25AA;&#x25AA;&#x25AA;&#x25AA;&#x25AA;&#x25AA;&#x25AA;</td><td class='float' title='float64'>&#x25AA;&#x25AA;&#x25AA;&#x25AA;&#x25AA;&#x25AA;&#x25AA;&#x25AA;</td><td class='float' title='float64'>&#x25AA;&#x25AA;&#x25AA;&#x25AA;&#x25AA;&#x25AA;&#x25AA;&#x25AA;</td><td class='float' title='float64'>&#x25AA;&#x25AA;&#x25AA;&#x25AA;&#x25AA;&#x25AA;&#x25AA;&#x25AA;</td><td class='int' title='int32'>&#x25AA;&#x25AA;&#x25AA;&#x25AA;</td></tr>\n",
       "  </thead>\n",
       "  <tbody>\n",
       "    <tr><td class='row_index'>0</td><td>0</td><td>0</td><td>0.00991599</td><td>0.0140786</td><td>0.00877305</td><td>0.00139037</td><td>0.00627036</td><td>1</td><td>&minus;1.87275</td><td>&minus;2.19124</td><td class=vellipsis>&hellip;</td><td>2.65306</td><td>12.6003</td><td>2.30149</td><td>11.4458</td><td>0</td></tr>\n",
       "    <tr><td class='row_index'>1</td><td>0</td><td>16.6735</td><td>&minus;0.00282823</td><td>&minus;0.00322632</td><td>&minus;0.00731949</td><td>&minus;0.0111141</td><td>&minus;0.00979168</td><td>&minus;1</td><td>&minus;1.34954</td><td>&minus;1.70471</td><td class=vellipsis>&hellip;</td><td>&minus;1.41701</td><td>2.29746</td><td>&minus;1.30461</td><td>1.89868</td><td>1</td></tr>\n",
       "    <tr><td class='row_index'>2</td><td>0</td><td>0</td><td>0.0251339</td><td>0.0276074</td><td>0.0334057</td><td>0.0343797</td><td>0.0239701</td><td>&minus;1</td><td>0.81278</td><td>&minus;0.256156</td><td class=vellipsis>&hellip;</td><td>7.28176</td><td>10.06</td><td>6.63825</td><td>9.4273</td><td>2</td></tr>\n",
       "    <tr><td class='row_index'>3</td><td>0</td><td>0</td><td>&minus;0.00473014</td><td>&minus;0.00327283</td><td>&minus;0.000460825</td><td>&minus;0.000476205</td><td>&minus;0.0032001</td><td>&minus;1</td><td>1.17438</td><td>0.34464</td><td class=vellipsis>&hellip;</td><td>4.39753</td><td>1.26604</td><td>3.85638</td><td>1.01347</td><td>3</td></tr>\n",
       "    <tr><td class='row_index'>4</td><td>0</td><td>0.138531</td><td>0.00125215</td><td>0.00216496</td><td>&minus;0.00121549</td><td>&minus;0.00621861</td><td>&minus;0.00260358</td><td>1</td><td>&minus;3.17203</td><td>&minus;3.09318</td><td class=vellipsis>&hellip;</td><td>0.800129</td><td>5.23324</td><td>0.362636</td><td>3.92663</td><td>4</td></tr>\n",
       "    <tr><td class='row_index'>5</td><td>0</td><td>0</td><td>&minus;0.00104722</td><td>&minus;0.00270018</td><td>0.000743332</td><td>0.00466723</td><td>0.0012817</td><td>&minus;1</td><td>&minus;1.49968</td><td>&minus;1.92802</td><td class=vellipsis>&hellip;</td><td>0.799525</td><td>5.23183</td><td>0.360831</td><td>3.92232</td><td>5</td></tr>\n",
       "    <tr><td class='row_index'>6</td><td>0</td><td>0.190575</td><td>&minus;0.00193919</td><td>&minus;0.00230082</td><td>0.00108837</td><td>0.00596285</td><td>0.000709105</td><td>&minus;1</td><td>&minus;3.17203</td><td>&minus;3.09318</td><td class=vellipsis>&hellip;</td><td>0.800618</td><td>5.2316</td><td>0.361506</td><td>3.92171</td><td>6</td></tr>\n",
       "    <tr><td class='row_index'>7</td><td>0</td><td>3.82084</td><td>0.0173948</td><td>0.0213612</td><td>0.031163</td><td>0.0369698</td><td>0.0334726</td><td>&minus;1</td><td>0.44605</td><td>&minus;0.46621</td><td class=vellipsis>&hellip;</td><td>2.30507</td><td>4.57176</td><td>2.20154</td><td>4.42974</td><td>7</td></tr>\n",
       "    <tr><td class='row_index'>8</td><td>0</td><td>0.116557</td><td>&minus;0.00545951</td><td>&minus;0.00730076</td><td>&minus;0.00908511</td><td>&minus;0.00354621</td><td>&minus;0.00167741</td><td>1</td><td>&minus;3.17203</td><td>&minus;3.09318</td><td class=vellipsis>&hellip;</td><td>2.35434</td><td>5.8255</td><td>1.77803</td><td>4.74058</td><td>8</td></tr>\n",
       "    <tr><td class='row_index'>9</td><td>0</td><td>0.160117</td><td>0.00597634</td><td>0.00434459</td><td>0.023712</td><td>0.0353602</td><td>0.020317</td><td>1</td><td>2.74441</td><td>1.41213</td><td class=vellipsis>&hellip;</td><td>1.58982</td><td>2.436</td><td>1.47242</td><td>2.24599</td><td>9</td></tr>\n",
       "    <tr><td class='row_index'>10</td><td>0</td><td>0.109651</td><td>0.0068989</td><td>0.00340469</td><td>0.000133513</td><td>&minus;0.00304009</td><td>&minus;0.000690382</td><td>1</td><td>&minus;3.17203</td><td>&minus;3.09318</td><td class=vellipsis>&hellip;</td><td>3.05939</td><td>5.35073</td><td>2.75588</td><td>4.96839</td><td>10</td></tr>\n",
       "    <tr><td class='row_index'>11</td><td>0</td><td>0.199435</td><td>&minus;0.00551237</td><td>&minus;0.00339506</td><td>&minus;0.00327136</td><td>&minus;0.00669141</td><td>&minus;0.00214413</td><td>1</td><td>&minus;3.17203</td><td>&minus;3.09318</td><td class=vellipsis>&hellip;</td><td>2.58047</td><td>4.35</td><td>2.63377</td><td>4.49808</td><td>11</td></tr>\n",
       "    <tr><td class='row_index'>12</td><td>0</td><td>0.298108</td><td>&minus;0.00370614</td><td>&minus;0.00455118</td><td>&minus;0.00683139</td><td>&minus;0.00493652</td><td>&minus;0.00270683</td><td>1</td><td>0.652499</td><td>0.279124</td><td class=vellipsis>&hellip;</td><td>0.40083</td><td>6.02503</td><td>0.355697</td><td>5.50523</td><td>12</td></tr>\n",
       "    <tr><td class='row_index'>13</td><td>0</td><td>0.759367</td><td>0.018205</td><td>0.00346246</td><td>&minus;0.0437909</td><td>&minus;0.0815288</td><td>&minus;0.0559789</td><td>&minus;1</td><td>9.61332</td><td>4.84598</td><td class=vellipsis>&hellip;</td><td>6.07808</td><td>2.63996</td><td>4.49552</td><td>1.56998</td><td>13</td></tr>\n",
       "    <tr><td class='row_index'>14</td><td>0</td><td>0.811851</td><td>&minus;0.0153279</td><td>&minus;0.0123939</td><td>&minus;0.0038004</td><td>&minus;0.00167176</td><td>&minus;0.0118183</td><td>1</td><td>4.26263</td><td>1.73439</td><td class=vellipsis>&hellip;</td><td>4.15576</td><td>2.8853</td><td>3.59399</td><td>2.48968</td><td>14</td></tr>\n",
       "    <tr><td class='row_index'>&#x22EE;</td><td class='hellipsis'>&#x22EE;</td><td class='hellipsis'>&#x22EE;</td><td class='hellipsis'>&#x22EE;</td><td class='hellipsis'>&#x22EE;</td><td class='hellipsis'>&#x22EE;</td><td class='hellipsis'>&#x22EE;</td><td class='hellipsis'>&#x22EE;</td><td class='hellipsis'>&#x22EE;</td><td class='hellipsis'>&#x22EE;</td><td class='hellipsis'>&#x22EE;</td><td class='hellipsis'>&#x22F1;</td><td class='hellipsis'>&#x22EE;</td><td class='hellipsis'>&#x22EE;</td><td class='hellipsis'>&#x22EE;</td><td class='hellipsis'>&#x22EE;</td><td class='hellipsis'>&#x22EE;</td></tr>\n",
       "    <tr><td class='row_index'>2,390,486</td><td>499</td><td>0</td><td>0.000141546</td><td>0.000141546</td><td>0.00582938</td><td>0.0203423</td><td>0.0153958</td><td>1</td><td>&minus;1.64937</td><td>&minus;1.17</td><td class=vellipsis>&hellip;</td><td>&minus;2.86616</td><td>&minus;0.21613</td><td>&minus;1.89205</td><td>0.901585</td><td>2390486</td></tr>\n",
       "    <tr><td class='row_index'>2,390,487</td><td>499</td><td>0</td><td>1.21607e-05</td><td>1.21607e-05</td><td>&minus;0.000934857</td><td>&minus;0.0063256</td><td>&minus;0.00471754</td><td>1</td><td>2.43294</td><td>5.2845</td><td class=vellipsis>&hellip;</td><td>&minus;0.146749</td><td>0.730166</td><td>0.648452</td><td>2.06874</td><td>2390487</td></tr>\n",
       "    <tr><td class='row_index'>2,390,488</td><td>499</td><td>0</td><td>0.000498659</td><td>0.000498659</td><td>0.00760494</td><td>0.0249071</td><td>0.0165908</td><td>1</td><td>&minus;0.622475</td><td>&minus;0.963682</td><td class=vellipsis>&hellip;</td><td>&minus;1.66992</td><td>&minus;3.28894</td><td>&minus;1.33614</td><td>&minus;2.81424</td><td>2390488</td></tr>\n",
       "    <tr><td class='row_index'>2,390,489</td><td>499</td><td>0.283405</td><td>&minus;0.000156108</td><td>&minus;0.000156108</td><td>&minus;0.00137488</td><td>&minus;0.00370157</td><td>&minus;0.00200369</td><td>&minus;1</td><td>&minus;1.46376</td><td>&minus;1.10723</td><td class=vellipsis>&hellip;</td><td>&minus;3.34168</td><td>&minus;0.571188</td><td>&minus;2.18579</td><td>0.627452</td><td>2390489</td></tr>\n",
       "    <tr><td class='row_index'>2,390,490</td><td>499</td><td>0</td><td>&minus;0.00185494</td><td>&minus;0.00185494</td><td>&minus;0.00119405</td><td>&minus;0.000863934</td><td>&minus;0.00190462</td><td>&minus;1</td><td>&minus;1.81718</td><td>&minus;1.13158</td><td class=vellipsis>&hellip;</td><td>&minus;0.168395</td><td>2.05109</td><td>1.72607</td><td>5.82368</td><td>2390490</td></tr>\n",
       "  </tbody>\n",
       "  </table>\n",
       "  <div class='footer'>\n",
       "    <div class='frame_dimensions'>2,390,491 rows &times; 138 columns</div>\n",
       "  </div>\n",
       "</div>\n"
      ],
      "text/plain": [
       "<Frame#260fcce0f90 2390491x138>"
      ]
     },
     "execution_count": 4,
     "metadata": {},
     "output_type": "execute_result"
    }
   ],
   "source": [
    "dtrain"
   ]
  },
  {
   "cell_type": "code",
   "execution_count": null,
   "id": "logical-kingston",
   "metadata": {},
   "outputs": [],
   "source": []
  }
 ],
 "metadata": {
  "kernelspec": {
   "display_name": "Python 3",
   "language": "python",
   "name": "python3"
  },
  "language_info": {
   "codemirror_mode": {
    "name": "ipython",
    "version": 3
   },
   "file_extension": ".py",
   "mimetype": "text/x-python",
   "name": "python",
   "nbconvert_exporter": "python",
   "pygments_lexer": "ipython3",
   "version": "3.8.2"
  }
 },
 "nbformat": 4,
 "nbformat_minor": 5
}
