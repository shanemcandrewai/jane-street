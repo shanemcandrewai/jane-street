{
 "cells": [
  {
   "cell_type": "markdown",
   "id": "important-activation",
   "metadata": {},
   "source": [
    "# LightGBM simple test\n",
    "if x > 5, then 1 else 0"
   ]
  },
  {
   "cell_type": "raw",
   "id": "falling-implementation",
   "metadata": {},
   "source": [
    "!pip install lightgbm"
   ]
  },
  {
   "cell_type": "code",
   "execution_count": 1,
   "id": "changed-finance",
   "metadata": {},
   "outputs": [
    {
     "data": {
      "text/html": [
       "<style type='text/css'>\n",
       ".datatable table.frame { margin-bottom: 0; }\n",
       ".datatable table.frame thead { border-bottom: none; }\n",
       ".datatable table.frame tr.coltypes td {  color: #FFFFFF;  line-height: 6px;  padding: 0 0.5em;}\n",
       ".datatable .bool    { background: #DDDD99; }\n",
       ".datatable .object  { background: #565656; }\n",
       ".datatable .int     { background: #5D9E5D; }\n",
       ".datatable .float   { background: #4040CC; }\n",
       ".datatable .str     { background: #CC4040; }\n",
       ".datatable .row_index {  background: var(--jp-border-color3);  border-right: 1px solid var(--jp-border-color0);  color: var(--jp-ui-font-color3);  font-size: 9px;}\n",
       ".datatable .frame tr.coltypes .row_index {  background: var(--jp-border-color0);}\n",
       ".datatable th:nth-child(2) { padding-left: 12px; }\n",
       ".datatable .hellipsis {  color: var(--jp-cell-editor-border-color);}\n",
       ".datatable .vellipsis {  background: var(--jp-layout-color0);  color: var(--jp-cell-editor-border-color);}\n",
       ".datatable .na {  color: var(--jp-cell-editor-border-color);  font-size: 80%;}\n",
       ".datatable .footer { font-size: 9px; }\n",
       ".datatable .frame_dimensions {  background: var(--jp-border-color3);  border-top: 1px solid var(--jp-border-color0);  color: var(--jp-ui-font-color3);  display: inline-block;  opacity: 0.6;  padding: 1px 10px 1px 5px;}\n",
       "</style>\n"
      ],
      "text/plain": [
       "<IPython.core.display.HTML object>"
      ]
     },
     "metadata": {},
     "output_type": "display_data"
    }
   ],
   "source": [
    "import pandas as pd\n",
    "import numpy as np\n",
    "import lightgbm as lgb"
   ]
  },
  {
   "cell_type": "code",
   "execution_count": 2,
   "id": "polyphonic-opposition",
   "metadata": {},
   "outputs": [],
   "source": [
    "x_train = pd.DataFrame([4, 7, 2, 6, 3, 1, 9])\n",
    "y_train = pd.DataFrame([0, 1, 0, 1, 0, 0, 1])\n",
    "x_test = pd.DataFrame([8, 2])\n",
    "y_test = pd.Series([1, 0])"
   ]
  },
  {
   "cell_type": "code",
   "execution_count": 3,
   "id": "earlier-candy",
   "metadata": {},
   "outputs": [],
   "source": [
    "lgb_train = lgb.Dataset(x_train, y_train)\n",
    "lgb_eval = lgb.Dataset(x_test, y_test, reference=lgb_train)"
   ]
  },
  {
   "cell_type": "code",
   "execution_count": 4,
   "id": "natural-department",
   "metadata": {},
   "outputs": [],
   "source": [
    "params = { 'objective': 'binary', 'metric': {'binary_logloss', 'auc'}}"
   ]
  },
  {
   "cell_type": "code",
   "execution_count": 5,
   "id": "divine-addiction",
   "metadata": {
    "collapsed": true,
    "jupyter": {
     "outputs_hidden": true
    }
   },
   "outputs": [
    {
     "name": "stdout",
     "output_type": "stream",
     "text": [
      "[LightGBM] [Warning] There are no meaningful features, as all feature values are constant.\n",
      "[LightGBM] [Info] Number of positive: 3, number of negative: 4\n",
      "[LightGBM] [Info] Total Bins 0\n",
      "[LightGBM] [Info] Number of data points in the train set: 7, number of used features: 0\n",
      "[LightGBM] [Info] [binary:BoostFromScore]: pavg=0.428571 -> initscore=-0.287682\n",
      "[LightGBM] [Info] Start training from score -0.287682\n",
      "[LightGBM] [Warning] Stopped training because there are no more leaves that meet the split requirements\n",
      "[1]\tvalid_0's auc: 0.5\tvalid_0's binary_logloss: 0.733969\n",
      "[LightGBM] [Warning] Stopped training because there are no more leaves that meet the split requirements\n",
      "[2]\tvalid_0's auc: 0.5\tvalid_0's binary_logloss: 0.733969\n",
      "[LightGBM] [Warning] Stopped training because there are no more leaves that meet the split requirements\n",
      "[3]\tvalid_0's auc: 0.5\tvalid_0's binary_logloss: 0.733969\n",
      "[LightGBM] [Warning] Stopped training because there are no more leaves that meet the split requirements\n",
      "[4]\tvalid_0's auc: 0.5\tvalid_0's binary_logloss: 0.733969\n",
      "[LightGBM] [Warning] Stopped training because there are no more leaves that meet the split requirements\n",
      "[5]\tvalid_0's auc: 0.5\tvalid_0's binary_logloss: 0.733969\n",
      "[LightGBM] [Warning] Stopped training because there are no more leaves that meet the split requirements\n",
      "[6]\tvalid_0's auc: 0.5\tvalid_0's binary_logloss: 0.733969\n",
      "[LightGBM] [Warning] Stopped training because there are no more leaves that meet the split requirements\n",
      "[7]\tvalid_0's auc: 0.5\tvalid_0's binary_logloss: 0.733969\n",
      "[LightGBM] [Warning] Stopped training because there are no more leaves that meet the split requirements\n",
      "[8]\tvalid_0's auc: 0.5\tvalid_0's binary_logloss: 0.733969\n",
      "[LightGBM] [Warning] Stopped training because there are no more leaves that meet the split requirements\n",
      "[9]\tvalid_0's auc: 0.5\tvalid_0's binary_logloss: 0.733969\n",
      "[LightGBM] [Warning] Stopped training because there are no more leaves that meet the split requirements\n",
      "[10]\tvalid_0's auc: 0.5\tvalid_0's binary_logloss: 0.733969\n",
      "[LightGBM] [Warning] Stopped training because there are no more leaves that meet the split requirements\n",
      "[11]\tvalid_0's auc: 0.5\tvalid_0's binary_logloss: 0.733969\n",
      "[LightGBM] [Warning] Stopped training because there are no more leaves that meet the split requirements\n",
      "[12]\tvalid_0's auc: 0.5\tvalid_0's binary_logloss: 0.733969\n",
      "[LightGBM] [Warning] Stopped training because there are no more leaves that meet the split requirements\n",
      "[13]\tvalid_0's auc: 0.5\tvalid_0's binary_logloss: 0.733969\n",
      "[LightGBM] [Warning] Stopped training because there are no more leaves that meet the split requirements\n",
      "[14]\tvalid_0's auc: 0.5\tvalid_0's binary_logloss: 0.733969\n",
      "[LightGBM] [Warning] Stopped training because there are no more leaves that meet the split requirements\n",
      "[15]\tvalid_0's auc: 0.5\tvalid_0's binary_logloss: 0.733969\n",
      "[LightGBM] [Warning] Stopped training because there are no more leaves that meet the split requirements\n",
      "[16]\tvalid_0's auc: 0.5\tvalid_0's binary_logloss: 0.733969\n",
      "[LightGBM] [Warning] Stopped training because there are no more leaves that meet the split requirements\n",
      "[17]\tvalid_0's auc: 0.5\tvalid_0's binary_logloss: 0.733969\n",
      "[LightGBM] [Warning] Stopped training because there are no more leaves that meet the split requirements\n",
      "[18]\tvalid_0's auc: 0.5\tvalid_0's binary_logloss: 0.733969\n",
      "[LightGBM] [Warning] Stopped training because there are no more leaves that meet the split requirements\n",
      "[19]\tvalid_0's auc: 0.5\tvalid_0's binary_logloss: 0.733969\n",
      "[LightGBM] [Warning] Stopped training because there are no more leaves that meet the split requirements\n",
      "[20]\tvalid_0's auc: 0.5\tvalid_0's binary_logloss: 0.733969\n",
      "[LightGBM] [Warning] Stopped training because there are no more leaves that meet the split requirements\n",
      "[21]\tvalid_0's auc: 0.5\tvalid_0's binary_logloss: 0.733969\n",
      "[LightGBM] [Warning] Stopped training because there are no more leaves that meet the split requirements\n",
      "[22]\tvalid_0's auc: 0.5\tvalid_0's binary_logloss: 0.733969\n",
      "[LightGBM] [Warning] Stopped training because there are no more leaves that meet the split requirements\n",
      "[23]\tvalid_0's auc: 0.5\tvalid_0's binary_logloss: 0.733969\n",
      "[LightGBM] [Warning] Stopped training because there are no more leaves that meet the split requirements\n",
      "[24]\tvalid_0's auc: 0.5\tvalid_0's binary_logloss: 0.733969\n",
      "[LightGBM] [Warning] Stopped training because there are no more leaves that meet the split requirements\n",
      "[25]\tvalid_0's auc: 0.5\tvalid_0's binary_logloss: 0.733969\n",
      "[LightGBM] [Warning] Stopped training because there are no more leaves that meet the split requirements\n",
      "[26]\tvalid_0's auc: 0.5\tvalid_0's binary_logloss: 0.733969\n",
      "[LightGBM] [Warning] Stopped training because there are no more leaves that meet the split requirements\n",
      "[27]\tvalid_0's auc: 0.5\tvalid_0's binary_logloss: 0.733969\n",
      "[LightGBM] [Warning] Stopped training because there are no more leaves that meet the split requirements\n",
      "[28]\tvalid_0's auc: 0.5\tvalid_0's binary_logloss: 0.733969\n",
      "[LightGBM] [Warning] Stopped training because there are no more leaves that meet the split requirements\n",
      "[29]\tvalid_0's auc: 0.5\tvalid_0's binary_logloss: 0.733969\n",
      "[LightGBM] [Warning] Stopped training because there are no more leaves that meet the split requirements\n",
      "[30]\tvalid_0's auc: 0.5\tvalid_0's binary_logloss: 0.733969\n",
      "[LightGBM] [Warning] Stopped training because there are no more leaves that meet the split requirements\n",
      "[31]\tvalid_0's auc: 0.5\tvalid_0's binary_logloss: 0.733969\n",
      "[LightGBM] [Warning] Stopped training because there are no more leaves that meet the split requirements\n",
      "[32]\tvalid_0's auc: 0.5\tvalid_0's binary_logloss: 0.733969\n",
      "[LightGBM] [Warning] Stopped training because there are no more leaves that meet the split requirements\n",
      "[33]\tvalid_0's auc: 0.5\tvalid_0's binary_logloss: 0.733969\n",
      "[LightGBM] [Warning] Stopped training because there are no more leaves that meet the split requirements\n",
      "[34]\tvalid_0's auc: 0.5\tvalid_0's binary_logloss: 0.733969\n",
      "[LightGBM] [Warning] Stopped training because there are no more leaves that meet the split requirements\n",
      "[35]\tvalid_0's auc: 0.5\tvalid_0's binary_logloss: 0.733969\n",
      "[LightGBM] [Warning] Stopped training because there are no more leaves that meet the split requirements\n",
      "[36]\tvalid_0's auc: 0.5\tvalid_0's binary_logloss: 0.733969\n",
      "[LightGBM] [Warning] Stopped training because there are no more leaves that meet the split requirements\n",
      "[37]\tvalid_0's auc: 0.5\tvalid_0's binary_logloss: 0.733969\n",
      "[LightGBM] [Warning] Stopped training because there are no more leaves that meet the split requirements\n",
      "[38]\tvalid_0's auc: 0.5\tvalid_0's binary_logloss: 0.733969\n",
      "[LightGBM] [Warning] Stopped training because there are no more leaves that meet the split requirements\n",
      "[39]\tvalid_0's auc: 0.5\tvalid_0's binary_logloss: 0.733969\n",
      "[LightGBM] [Warning] Stopped training because there are no more leaves that meet the split requirements\n",
      "[40]\tvalid_0's auc: 0.5\tvalid_0's binary_logloss: 0.733969\n",
      "[LightGBM] [Warning] Stopped training because there are no more leaves that meet the split requirements\n",
      "[41]\tvalid_0's auc: 0.5\tvalid_0's binary_logloss: 0.733969\n",
      "[LightGBM] [Warning] Stopped training because there are no more leaves that meet the split requirements\n",
      "[42]\tvalid_0's auc: 0.5\tvalid_0's binary_logloss: 0.733969\n",
      "[LightGBM] [Warning] Stopped training because there are no more leaves that meet the split requirements\n",
      "[43]\tvalid_0's auc: 0.5\tvalid_0's binary_logloss: 0.733969\n",
      "[LightGBM] [Warning] Stopped training because there are no more leaves that meet the split requirements\n",
      "[44]\tvalid_0's auc: 0.5\tvalid_0's binary_logloss: 0.733969\n",
      "[LightGBM] [Warning] Stopped training because there are no more leaves that meet the split requirements\n",
      "[45]\tvalid_0's auc: 0.5\tvalid_0's binary_logloss: 0.733969\n",
      "[LightGBM] [Warning] Stopped training because there are no more leaves that meet the split requirements\n",
      "[46]\tvalid_0's auc: 0.5\tvalid_0's binary_logloss: 0.733969\n",
      "[LightGBM] [Warning] Stopped training because there are no more leaves that meet the split requirements\n",
      "[47]\tvalid_0's auc: 0.5\tvalid_0's binary_logloss: 0.733969\n",
      "[LightGBM] [Warning] Stopped training because there are no more leaves that meet the split requirements\n",
      "[48]\tvalid_0's auc: 0.5\tvalid_0's binary_logloss: 0.733969\n",
      "[LightGBM] [Warning] Stopped training because there are no more leaves that meet the split requirements\n",
      "[49]\tvalid_0's auc: 0.5\tvalid_0's binary_logloss: 0.733969\n",
      "[LightGBM] [Warning] Stopped training because there are no more leaves that meet the split requirements\n",
      "[50]\tvalid_0's auc: 0.5\tvalid_0's binary_logloss: 0.733969\n",
      "[LightGBM] [Warning] Stopped training because there are no more leaves that meet the split requirements\n",
      "[51]\tvalid_0's auc: 0.5\tvalid_0's binary_logloss: 0.733969\n",
      "[LightGBM] [Warning] Stopped training because there are no more leaves that meet the split requirements\n",
      "[52]\tvalid_0's auc: 0.5\tvalid_0's binary_logloss: 0.733969\n",
      "[LightGBM] [Warning] Stopped training because there are no more leaves that meet the split requirements\n",
      "[53]\tvalid_0's auc: 0.5\tvalid_0's binary_logloss: 0.733969\n",
      "[LightGBM] [Warning] Stopped training because there are no more leaves that meet the split requirements\n",
      "[54]\tvalid_0's auc: 0.5\tvalid_0's binary_logloss: 0.733969\n",
      "[LightGBM] [Warning] Stopped training because there are no more leaves that meet the split requirements\n",
      "[55]\tvalid_0's auc: 0.5\tvalid_0's binary_logloss: 0.733969\n",
      "[LightGBM] [Warning] Stopped training because there are no more leaves that meet the split requirements\n",
      "[56]\tvalid_0's auc: 0.5\tvalid_0's binary_logloss: 0.733969\n",
      "[LightGBM] [Warning] Stopped training because there are no more leaves that meet the split requirements\n",
      "[57]\tvalid_0's auc: 0.5\tvalid_0's binary_logloss: 0.733969\n",
      "[LightGBM] [Warning] Stopped training because there are no more leaves that meet the split requirements\n",
      "[58]\tvalid_0's auc: 0.5\tvalid_0's binary_logloss: 0.733969\n",
      "[LightGBM] [Warning] Stopped training because there are no more leaves that meet the split requirements\n",
      "[59]\tvalid_0's auc: 0.5\tvalid_0's binary_logloss: 0.733969\n",
      "[LightGBM] [Warning] Stopped training because there are no more leaves that meet the split requirements\n",
      "[60]\tvalid_0's auc: 0.5\tvalid_0's binary_logloss: 0.733969\n",
      "[LightGBM] [Warning] Stopped training because there are no more leaves that meet the split requirements\n",
      "[61]\tvalid_0's auc: 0.5\tvalid_0's binary_logloss: 0.733969\n",
      "[LightGBM] [Warning] Stopped training because there are no more leaves that meet the split requirements\n",
      "[62]\tvalid_0's auc: 0.5\tvalid_0's binary_logloss: 0.733969\n",
      "[LightGBM] [Warning] Stopped training because there are no more leaves that meet the split requirements\n",
      "[63]\tvalid_0's auc: 0.5\tvalid_0's binary_logloss: 0.733969\n",
      "[LightGBM] [Warning] Stopped training because there are no more leaves that meet the split requirements\n",
      "[64]\tvalid_0's auc: 0.5\tvalid_0's binary_logloss: 0.733969\n",
      "[LightGBM] [Warning] Stopped training because there are no more leaves that meet the split requirements\n",
      "[65]\tvalid_0's auc: 0.5\tvalid_0's binary_logloss: 0.733969\n",
      "[LightGBM] [Warning] Stopped training because there are no more leaves that meet the split requirements\n",
      "[66]\tvalid_0's auc: 0.5\tvalid_0's binary_logloss: 0.733969\n",
      "[LightGBM] [Warning] Stopped training because there are no more leaves that meet the split requirements\n",
      "[67]\tvalid_0's auc: 0.5\tvalid_0's binary_logloss: 0.733969\n",
      "[LightGBM] [Warning] Stopped training because there are no more leaves that meet the split requirements\n",
      "[68]\tvalid_0's auc: 0.5\tvalid_0's binary_logloss: 0.733969\n",
      "[LightGBM] [Warning] Stopped training because there are no more leaves that meet the split requirements\n",
      "[69]\tvalid_0's auc: 0.5\tvalid_0's binary_logloss: 0.733969\n",
      "[LightGBM] [Warning] Stopped training because there are no more leaves that meet the split requirements\n",
      "[70]\tvalid_0's auc: 0.5\tvalid_0's binary_logloss: 0.733969\n",
      "[LightGBM] [Warning] Stopped training because there are no more leaves that meet the split requirements\n",
      "[71]\tvalid_0's auc: 0.5\tvalid_0's binary_logloss: 0.733969\n",
      "[LightGBM] [Warning] Stopped training because there are no more leaves that meet the split requirements\n",
      "[72]\tvalid_0's auc: 0.5\tvalid_0's binary_logloss: 0.733969\n",
      "[LightGBM] [Warning] Stopped training because there are no more leaves that meet the split requirements\n",
      "[73]\tvalid_0's auc: 0.5\tvalid_0's binary_logloss: 0.733969\n",
      "[LightGBM] [Warning] Stopped training because there are no more leaves that meet the split requirements\n",
      "[74]\tvalid_0's auc: 0.5\tvalid_0's binary_logloss: 0.733969\n",
      "[LightGBM] [Warning] Stopped training because there are no more leaves that meet the split requirements\n",
      "[75]\tvalid_0's auc: 0.5\tvalid_0's binary_logloss: 0.733969\n",
      "[LightGBM] [Warning] Stopped training because there are no more leaves that meet the split requirements\n",
      "[76]\tvalid_0's auc: 0.5\tvalid_0's binary_logloss: 0.733969\n",
      "[LightGBM] [Warning] Stopped training because there are no more leaves that meet the split requirements\n",
      "[77]\tvalid_0's auc: 0.5\tvalid_0's binary_logloss: 0.733969\n",
      "[LightGBM] [Warning] Stopped training because there are no more leaves that meet the split requirements\n",
      "[78]\tvalid_0's auc: 0.5\tvalid_0's binary_logloss: 0.733969\n",
      "[LightGBM] [Warning] Stopped training because there are no more leaves that meet the split requirements\n",
      "[79]\tvalid_0's auc: 0.5\tvalid_0's binary_logloss: 0.733969\n",
      "[LightGBM] [Warning] Stopped training because there are no more leaves that meet the split requirements\n",
      "[80]\tvalid_0's auc: 0.5\tvalid_0's binary_logloss: 0.733969\n",
      "[LightGBM] [Warning] Stopped training because there are no more leaves that meet the split requirements\n",
      "[81]\tvalid_0's auc: 0.5\tvalid_0's binary_logloss: 0.733969\n",
      "[LightGBM] [Warning] Stopped training because there are no more leaves that meet the split requirements\n",
      "[82]\tvalid_0's auc: 0.5\tvalid_0's binary_logloss: 0.733969\n",
      "[LightGBM] [Warning] Stopped training because there are no more leaves that meet the split requirements\n",
      "[83]\tvalid_0's auc: 0.5\tvalid_0's binary_logloss: 0.733969\n",
      "[LightGBM] [Warning] Stopped training because there are no more leaves that meet the split requirements\n",
      "[84]\tvalid_0's auc: 0.5\tvalid_0's binary_logloss: 0.733969\n",
      "[LightGBM] [Warning] Stopped training because there are no more leaves that meet the split requirements\n",
      "[85]\tvalid_0's auc: 0.5\tvalid_0's binary_logloss: 0.733969\n",
      "[LightGBM] [Warning] Stopped training because there are no more leaves that meet the split requirements\n",
      "[86]\tvalid_0's auc: 0.5\tvalid_0's binary_logloss: 0.733969\n",
      "[LightGBM] [Warning] Stopped training because there are no more leaves that meet the split requirements\n",
      "[87]\tvalid_0's auc: 0.5\tvalid_0's binary_logloss: 0.733969\n",
      "[LightGBM] [Warning] Stopped training because there are no more leaves that meet the split requirements\n",
      "[88]\tvalid_0's auc: 0.5\tvalid_0's binary_logloss: 0.733969\n",
      "[LightGBM] [Warning] Stopped training because there are no more leaves that meet the split requirements\n",
      "[89]\tvalid_0's auc: 0.5\tvalid_0's binary_logloss: 0.733969\n",
      "[LightGBM] [Warning] Stopped training because there are no more leaves that meet the split requirements\n",
      "[90]\tvalid_0's auc: 0.5\tvalid_0's binary_logloss: 0.733969\n",
      "[LightGBM] [Warning] Stopped training because there are no more leaves that meet the split requirements\n",
      "[91]\tvalid_0's auc: 0.5\tvalid_0's binary_logloss: 0.733969\n",
      "[LightGBM] [Warning] Stopped training because there are no more leaves that meet the split requirements\n",
      "[92]\tvalid_0's auc: 0.5\tvalid_0's binary_logloss: 0.733969\n",
      "[LightGBM] [Warning] Stopped training because there are no more leaves that meet the split requirements\n",
      "[93]\tvalid_0's auc: 0.5\tvalid_0's binary_logloss: 0.733969\n",
      "[LightGBM] [Warning] Stopped training because there are no more leaves that meet the split requirements\n",
      "[94]\tvalid_0's auc: 0.5\tvalid_0's binary_logloss: 0.733969\n",
      "[LightGBM] [Warning] Stopped training because there are no more leaves that meet the split requirements\n",
      "[95]\tvalid_0's auc: 0.5\tvalid_0's binary_logloss: 0.733969\n",
      "[LightGBM] [Warning] Stopped training because there are no more leaves that meet the split requirements\n",
      "[96]\tvalid_0's auc: 0.5\tvalid_0's binary_logloss: 0.733969\n",
      "[LightGBM] [Warning] Stopped training because there are no more leaves that meet the split requirements\n",
      "[97]\tvalid_0's auc: 0.5\tvalid_0's binary_logloss: 0.733969\n",
      "[LightGBM] [Warning] Stopped training because there are no more leaves that meet the split requirements\n",
      "[98]\tvalid_0's auc: 0.5\tvalid_0's binary_logloss: 0.733969\n",
      "[LightGBM] [Warning] Stopped training because there are no more leaves that meet the split requirements\n",
      "[99]\tvalid_0's auc: 0.5\tvalid_0's binary_logloss: 0.733969\n",
      "[LightGBM] [Warning] Stopped training because there are no more leaves that meet the split requirements\n",
      "[100]\tvalid_0's auc: 0.5\tvalid_0's binary_logloss: 0.733969\n"
     ]
    }
   ],
   "source": [
    "gbm = lgb.train(params, lgb_train, valid_sets=lgb_eval)"
   ]
  },
  {
   "cell_type": "raw",
   "id": "applicable-belfast",
   "metadata": {},
   "source": [
    "gbm.save_model('model.txt')"
   ]
  },
  {
   "cell_type": "code",
   "execution_count": 7,
   "id": "manufactured-anthony",
   "metadata": {},
   "outputs": [],
   "source": [
    "y_pred = gbm.predict(x_test, num_iteration=gbm.best_iteration)"
   ]
  },
  {
   "cell_type": "code",
   "execution_count": 8,
   "id": "covered-saudi",
   "metadata": {},
   "outputs": [
    {
     "data": {
      "text/plain": [
       "array([0.42857143, 0.42857143])"
      ]
     },
     "execution_count": 8,
     "metadata": {},
     "output_type": "execute_result"
    }
   ],
   "source": [
    "y_pred"
   ]
  },
  {
   "cell_type": "code",
   "execution_count": 9,
   "id": "acting-emperor",
   "metadata": {},
   "outputs": [
    {
     "data": {
      "text/plain": [
       "array([0, 0])"
      ]
     },
     "execution_count": 9,
     "metadata": {},
     "output_type": "execute_result"
    }
   ],
   "source": [
    "np.where((y_pred > 0.5), 1, 0)"
   ]
  },
  {
   "cell_type": "code",
   "execution_count": 10,
   "id": "romance-launch",
   "metadata": {},
   "outputs": [
    {
     "data": {
      "text/plain": [
       "0    1\n",
       "1    0\n",
       "dtype: int64"
      ]
     },
     "execution_count": 10,
     "metadata": {},
     "output_type": "execute_result"
    }
   ],
   "source": [
    "y_test"
   ]
  },
  {
   "cell_type": "code",
   "execution_count": 11,
   "id": "friendly-retro",
   "metadata": {},
   "outputs": [
    {
     "name": "stdout",
     "output_type": "stream",
     "text": [
      "The rmse of prediction is: 0.5050762722761054\n"
     ]
    }
   ],
   "source": [
    "from sklearn.metrics import mean_squared_error\n",
    "print('The rmse of prediction is:', mean_squared_error(y_test, y_pred) ** 0.5)"
   ]
  },
  {
   "cell_type": "code",
   "execution_count": null,
   "id": "danish-wrapping",
   "metadata": {},
   "outputs": [],
   "source": []
  }
 ],
 "metadata": {
  "kernelspec": {
   "display_name": "Python 3",
   "language": "python",
   "name": "python3"
  },
  "language_info": {
   "codemirror_mode": {
    "name": "ipython",
    "version": 3
   },
   "file_extension": ".py",
   "mimetype": "text/x-python",
   "name": "python",
   "nbconvert_exporter": "python",
   "pygments_lexer": "ipython3",
   "version": "3.8.2"
  }
 },
 "nbformat": 4,
 "nbformat_minor": 5
}
