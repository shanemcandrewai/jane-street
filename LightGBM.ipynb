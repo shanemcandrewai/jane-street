{
 "cells": [
  {
   "cell_type": "markdown",
   "id": "irish-calgary",
   "metadata": {},
   "source": [
    "# Jane Street Market Prediction\n",
    "[Kaggle Jane Street Market Prediction](https://www.kaggle.com/c/jane-street-market-prediction/overview)\n"
   ]
  },
  {
   "cell_type": "raw",
   "id": "organic-communication",
   "metadata": {},
   "source": [
    "!pip install lightgbm"
   ]
  },
  {
   "cell_type": "code",
   "execution_count": 1,
   "id": "crucial-speech",
   "metadata": {},
   "outputs": [
    {
     "data": {
      "text/html": [
       "<style type='text/css'>\n",
       ".datatable table.frame { margin-bottom: 0; }\n",
       ".datatable table.frame thead { border-bottom: none; }\n",
       ".datatable table.frame tr.coltypes td {  color: #FFFFFF;  line-height: 6px;  padding: 0 0.5em;}\n",
       ".datatable .bool    { background: #DDDD99; }\n",
       ".datatable .object  { background: #565656; }\n",
       ".datatable .int     { background: #5D9E5D; }\n",
       ".datatable .float   { background: #4040CC; }\n",
       ".datatable .str     { background: #CC4040; }\n",
       ".datatable .row_index {  background: var(--jp-border-color3);  border-right: 1px solid var(--jp-border-color0);  color: var(--jp-ui-font-color3);  font-size: 9px;}\n",
       ".datatable .frame tr.coltypes .row_index {  background: var(--jp-border-color0);}\n",
       ".datatable th:nth-child(2) { padding-left: 12px; }\n",
       ".datatable .hellipsis {  color: var(--jp-cell-editor-border-color);}\n",
       ".datatable .vellipsis {  background: var(--jp-layout-color0);  color: var(--jp-cell-editor-border-color);}\n",
       ".datatable .na {  color: var(--jp-cell-editor-border-color);  font-size: 80%;}\n",
       ".datatable .footer { font-size: 9px; }\n",
       ".datatable .frame_dimensions {  background: var(--jp-border-color3);  border-top: 1px solid var(--jp-border-color0);  color: var(--jp-ui-font-color3);  display: inline-block;  opacity: 0.6;  padding: 1px 10px 1px 5px;}\n",
       "</style>\n"
      ],
      "text/plain": [
       "<IPython.core.display.HTML object>"
      ]
     },
     "metadata": {},
     "output_type": "display_data"
    }
   ],
   "source": [
    "import pandas as pd\n",
    "import numpy as np\n",
    "import datatable as dt\n",
    "X = dt.fread('jane-street-market-prediction/train.csv').to_pandas()"
   ]
  },
  {
   "cell_type": "code",
   "execution_count": 2,
   "id": "global-symposium",
   "metadata": {},
   "outputs": [],
   "source": [
    "Xt = X[X.date >= 460]\n",
    "yt = np.where((Xt.resp > 0), 1, 0)\n",
    "X = X[(X.date > 85) & (X.date < 460)]\n",
    "y = np.where((X.resp > 0), 1, 0)\n",
    "drop_cols = ['date', 'resp_1', 'resp_2', 'resp_3', 'resp_4', 'resp', 'ts_id']\n",
    "X.drop(drop_cols, axis=1, inplace=True)\n",
    "Xt.drop(drop_cols, axis=1, inplace=True)"
   ]
  },
  {
   "cell_type": "code",
   "execution_count": 3,
   "id": "copyrighted-egyptian",
   "metadata": {},
   "outputs": [],
   "source": [
    "import lightgbm as lgb\n",
    "lgb_train = lgb.Dataset(X, y)\n",
    "lgb_eval = lgb.Dataset(Xt, yt, reference=lgb_train)"
   ]
  },
  {
   "cell_type": "code",
   "execution_count": 4,
   "id": "concrete-reflection",
   "metadata": {},
   "outputs": [],
   "source": [
    "params = {\n",
    "    'boosting_type': 'gbdt',\n",
    "    'objective': 'binary',\n",
    "    'metric': {'binary_logloss', 'auc'},\n",
    "}"
   ]
  },
  {
   "cell_type": "code",
   "execution_count": 5,
   "id": "loaded-framing",
   "metadata": {
    "collapsed": true,
    "jupyter": {
     "outputs_hidden": true
    }
   },
   "outputs": [
    {
     "name": "stdout",
     "output_type": "stream",
     "text": [
      "[LightGBM] [Info] Number of positive: 829802, number of negative: 819562\n",
      "[LightGBM] [Warning] Auto-choosing col-wise multi-threading, the overhead of testing was 2.987766 seconds.\n",
      "You can set `force_col_wise=true` to remove the overhead.\n",
      "[LightGBM] [Info] Total Bins 33153\n",
      "[LightGBM] [Info] Number of data points in the train set: 1649364, number of used features: 131\n",
      "[LightGBM] [Info] [binary:BoostFromScore]: pavg=0.503104 -> initscore=0.012417\n",
      "[LightGBM] [Info] Start training from score 0.012417\n",
      "[1]\tvalid_0's binary_logloss: 0.693037\tvalid_0's auc: 0.517087\n",
      "[2]\tvalid_0's binary_logloss: 0.692858\tvalid_0's auc: 0.519372\n",
      "[3]\tvalid_0's binary_logloss: 0.692748\tvalid_0's auc: 0.520937\n",
      "[4]\tvalid_0's binary_logloss: 0.692654\tvalid_0's auc: 0.522388\n",
      "[5]\tvalid_0's binary_logloss: 0.692535\tvalid_0's auc: 0.522543\n",
      "[6]\tvalid_0's binary_logloss: 0.692403\tvalid_0's auc: 0.52356\n",
      "[7]\tvalid_0's binary_logloss: 0.692269\tvalid_0's auc: 0.525132\n",
      "[8]\tvalid_0's binary_logloss: 0.692162\tvalid_0's auc: 0.525732\n",
      "[9]\tvalid_0's binary_logloss: 0.692114\tvalid_0's auc: 0.525917\n",
      "[10]\tvalid_0's binary_logloss: 0.692061\tvalid_0's auc: 0.526141\n",
      "[11]\tvalid_0's binary_logloss: 0.691963\tvalid_0's auc: 0.526837\n",
      "[12]\tvalid_0's binary_logloss: 0.691938\tvalid_0's auc: 0.526551\n",
      "[13]\tvalid_0's binary_logloss: 0.691945\tvalid_0's auc: 0.526138\n",
      "[14]\tvalid_0's binary_logloss: 0.691883\tvalid_0's auc: 0.52666\n",
      "[15]\tvalid_0's binary_logloss: 0.691918\tvalid_0's auc: 0.526347\n",
      "[16]\tvalid_0's binary_logloss: 0.691896\tvalid_0's auc: 0.526643\n",
      "[17]\tvalid_0's binary_logloss: 0.691915\tvalid_0's auc: 0.526669\n",
      "[18]\tvalid_0's binary_logloss: 0.691869\tvalid_0's auc: 0.527442\n",
      "[19]\tvalid_0's binary_logloss: 0.6918\tvalid_0's auc: 0.527445\n",
      "[20]\tvalid_0's binary_logloss: 0.691811\tvalid_0's auc: 0.527084\n",
      "[21]\tvalid_0's binary_logloss: 0.691777\tvalid_0's auc: 0.527543\n",
      "[22]\tvalid_0's binary_logloss: 0.691786\tvalid_0's auc: 0.527374\n",
      "[23]\tvalid_0's binary_logloss: 0.69175\tvalid_0's auc: 0.527458\n",
      "[24]\tvalid_0's binary_logloss: 0.691728\tvalid_0's auc: 0.527564\n",
      "[25]\tvalid_0's binary_logloss: 0.691785\tvalid_0's auc: 0.526697\n",
      "[26]\tvalid_0's binary_logloss: 0.691775\tvalid_0's auc: 0.527163\n",
      "[27]\tvalid_0's binary_logloss: 0.691733\tvalid_0's auc: 0.527907\n",
      "[28]\tvalid_0's binary_logloss: 0.691693\tvalid_0's auc: 0.528495\n",
      "[29]\tvalid_0's binary_logloss: 0.69171\tvalid_0's auc: 0.528103\n",
      "[30]\tvalid_0's binary_logloss: 0.691669\tvalid_0's auc: 0.52821\n",
      "[31]\tvalid_0's binary_logloss: 0.691662\tvalid_0's auc: 0.52817\n",
      "[32]\tvalid_0's binary_logloss: 0.691677\tvalid_0's auc: 0.527993\n",
      "[33]\tvalid_0's binary_logloss: 0.691654\tvalid_0's auc: 0.528205\n",
      "[34]\tvalid_0's binary_logloss: 0.691673\tvalid_0's auc: 0.529114\n",
      "[35]\tvalid_0's binary_logloss: 0.691648\tvalid_0's auc: 0.529095\n",
      "[36]\tvalid_0's binary_logloss: 0.691721\tvalid_0's auc: 0.529093\n",
      "[37]\tvalid_0's binary_logloss: 0.691648\tvalid_0's auc: 0.530174\n",
      "[38]\tvalid_0's binary_logloss: 0.691644\tvalid_0's auc: 0.530025\n",
      "[39]\tvalid_0's binary_logloss: 0.691632\tvalid_0's auc: 0.529847\n",
      "[40]\tvalid_0's binary_logloss: 0.691548\tvalid_0's auc: 0.530205\n",
      "[41]\tvalid_0's binary_logloss: 0.691564\tvalid_0's auc: 0.530338\n",
      "[42]\tvalid_0's binary_logloss: 0.691522\tvalid_0's auc: 0.530755\n",
      "[43]\tvalid_0's binary_logloss: 0.691512\tvalid_0's auc: 0.530456\n",
      "[44]\tvalid_0's binary_logloss: 0.691516\tvalid_0's auc: 0.53031\n",
      "[45]\tvalid_0's binary_logloss: 0.691521\tvalid_0's auc: 0.530339\n",
      "[46]\tvalid_0's binary_logloss: 0.691515\tvalid_0's auc: 0.530382\n",
      "[47]\tvalid_0's binary_logloss: 0.691518\tvalid_0's auc: 0.530145\n",
      "[48]\tvalid_0's binary_logloss: 0.691491\tvalid_0's auc: 0.530105\n",
      "[49]\tvalid_0's binary_logloss: 0.691466\tvalid_0's auc: 0.530219\n",
      "[50]\tvalid_0's binary_logloss: 0.691408\tvalid_0's auc: 0.530516\n",
      "[51]\tvalid_0's binary_logloss: 0.69139\tvalid_0's auc: 0.530647\n",
      "[52]\tvalid_0's binary_logloss: 0.691401\tvalid_0's auc: 0.5305\n",
      "[53]\tvalid_0's binary_logloss: 0.691395\tvalid_0's auc: 0.530403\n",
      "[54]\tvalid_0's binary_logloss: 0.691382\tvalid_0's auc: 0.530707\n",
      "[55]\tvalid_0's binary_logloss: 0.691366\tvalid_0's auc: 0.530815\n",
      "[56]\tvalid_0's binary_logloss: 0.691421\tvalid_0's auc: 0.530572\n",
      "[57]\tvalid_0's binary_logloss: 0.691434\tvalid_0's auc: 0.530421\n",
      "[58]\tvalid_0's binary_logloss: 0.691435\tvalid_0's auc: 0.530345\n",
      "[59]\tvalid_0's binary_logloss: 0.691434\tvalid_0's auc: 0.530533\n",
      "[60]\tvalid_0's binary_logloss: 0.691439\tvalid_0's auc: 0.530355\n",
      "[61]\tvalid_0's binary_logloss: 0.691421\tvalid_0's auc: 0.530517\n",
      "[62]\tvalid_0's binary_logloss: 0.691415\tvalid_0's auc: 0.530415\n",
      "[63]\tvalid_0's binary_logloss: 0.691406\tvalid_0's auc: 0.530585\n",
      "[64]\tvalid_0's binary_logloss: 0.69142\tvalid_0's auc: 0.531082\n",
      "[65]\tvalid_0's binary_logloss: 0.691433\tvalid_0's auc: 0.530773\n",
      "[66]\tvalid_0's binary_logloss: 0.691397\tvalid_0's auc: 0.531599\n",
      "[67]\tvalid_0's binary_logloss: 0.691376\tvalid_0's auc: 0.531787\n",
      "[68]\tvalid_0's binary_logloss: 0.691384\tvalid_0's auc: 0.531691\n",
      "[69]\tvalid_0's binary_logloss: 0.691429\tvalid_0's auc: 0.531758\n",
      "[70]\tvalid_0's binary_logloss: 0.69142\tvalid_0's auc: 0.531798\n",
      "[71]\tvalid_0's binary_logloss: 0.691416\tvalid_0's auc: 0.531809\n",
      "[72]\tvalid_0's binary_logloss: 0.691375\tvalid_0's auc: 0.532024\n",
      "[73]\tvalid_0's binary_logloss: 0.691349\tvalid_0's auc: 0.532301\n",
      "[74]\tvalid_0's binary_logloss: 0.691285\tvalid_0's auc: 0.53312\n",
      "[75]\tvalid_0's binary_logloss: 0.691261\tvalid_0's auc: 0.533321\n",
      "[76]\tvalid_0's binary_logloss: 0.691296\tvalid_0's auc: 0.533328\n",
      "[77]\tvalid_0's binary_logloss: 0.691275\tvalid_0's auc: 0.533697\n",
      "[78]\tvalid_0's binary_logloss: 0.691282\tvalid_0's auc: 0.533573\n",
      "[79]\tvalid_0's binary_logloss: 0.691289\tvalid_0's auc: 0.533528\n",
      "[80]\tvalid_0's binary_logloss: 0.691244\tvalid_0's auc: 0.533965\n",
      "[81]\tvalid_0's binary_logloss: 0.691277\tvalid_0's auc: 0.533724\n",
      "[82]\tvalid_0's binary_logloss: 0.69131\tvalid_0's auc: 0.533653\n",
      "[83]\tvalid_0's binary_logloss: 0.691319\tvalid_0's auc: 0.533397\n",
      "[84]\tvalid_0's binary_logloss: 0.691305\tvalid_0's auc: 0.533424\n",
      "[85]\tvalid_0's binary_logloss: 0.691264\tvalid_0's auc: 0.533683\n",
      "[86]\tvalid_0's binary_logloss: 0.691277\tvalid_0's auc: 0.533608\n",
      "[87]\tvalid_0's binary_logloss: 0.691278\tvalid_0's auc: 0.533672\n",
      "[88]\tvalid_0's binary_logloss: 0.691207\tvalid_0's auc: 0.534231\n",
      "[89]\tvalid_0's binary_logloss: 0.691185\tvalid_0's auc: 0.534044\n",
      "[90]\tvalid_0's binary_logloss: 0.69119\tvalid_0's auc: 0.533964\n",
      "[91]\tvalid_0's binary_logloss: 0.691188\tvalid_0's auc: 0.533946\n",
      "[92]\tvalid_0's binary_logloss: 0.691182\tvalid_0's auc: 0.53416\n",
      "[93]\tvalid_0's binary_logloss: 0.691184\tvalid_0's auc: 0.534208\n",
      "[94]\tvalid_0's binary_logloss: 0.691217\tvalid_0's auc: 0.534004\n",
      "[95]\tvalid_0's binary_logloss: 0.691218\tvalid_0's auc: 0.534153\n",
      "[96]\tvalid_0's binary_logloss: 0.691245\tvalid_0's auc: 0.534149\n",
      "[97]\tvalid_0's binary_logloss: 0.69125\tvalid_0's auc: 0.534147\n",
      "[98]\tvalid_0's binary_logloss: 0.691279\tvalid_0's auc: 0.534243\n",
      "[99]\tvalid_0's binary_logloss: 0.691279\tvalid_0's auc: 0.534269\n",
      "[100]\tvalid_0's binary_logloss: 0.691308\tvalid_0's auc: 0.53422\n"
     ]
    }
   ],
   "source": [
    "gbm = lgb.train(params,\n",
    "                lgb_train,\n",
    "                valid_sets=lgb_eval)"
   ]
  },
  {
   "cell_type": "raw",
   "id": "permanent-memorial",
   "metadata": {},
   "source": [
    "gbm.save_model('model.txt')"
   ]
  },
  {
   "cell_type": "code",
   "execution_count": 6,
   "id": "critical-taxation",
   "metadata": {},
   "outputs": [],
   "source": [
    "y_pred = gbm.predict(Xt, num_iteration=gbm.best_iteration)"
   ]
  },
  {
   "cell_type": "code",
   "execution_count": 7,
   "id": "boxed-tragedy",
   "metadata": {},
   "outputs": [
    {
     "data": {
      "text/plain": [
       "array([0.49830597, 0.52623212, 0.49772581, ..., 0.49985955, 0.5743741 ,\n",
       "       0.51928774])"
      ]
     },
     "execution_count": 7,
     "metadata": {},
     "output_type": "execute_result"
    }
   ],
   "source": [
    "y_pred"
   ]
  },
  {
   "cell_type": "code",
   "execution_count": 8,
   "id": "surrounded-cycle",
   "metadata": {},
   "outputs": [
    {
     "name": "stdout",
     "output_type": "stream",
     "text": [
      "The rmse of prediction is: 0.499075174426875\n"
     ]
    }
   ],
   "source": [
    "from sklearn.metrics import mean_squared_error\n",
    "print('The rmse of prediction is:', mean_squared_error(yt, y_pred) ** 0.5)"
   ]
  },
  {
   "cell_type": "code",
   "execution_count": 13,
   "id": "iraqi-guyana",
   "metadata": {},
   "outputs": [
    {
     "data": {
      "text/plain": [
       "array([0, 0, 0, 1, 0, 0, 0, 1, 0, 0])"
      ]
     },
     "execution_count": 13,
     "metadata": {},
     "output_type": "execute_result"
    }
   ],
   "source": [
    "y[:10]"
   ]
  },
  {
   "cell_type": "code",
   "execution_count": 14,
   "id": "corporate-offering",
   "metadata": {},
   "outputs": [
    {
     "data": {
      "text/plain": [
       "array([0.49830597, 0.52623212, 0.49772581, 0.50207263, 0.49008112,\n",
       "       0.49510764, 0.49496341, 0.4992098 , 0.49443664, 0.50299461])"
      ]
     },
     "execution_count": 14,
     "metadata": {},
     "output_type": "execute_result"
    }
   ],
   "source": [
    "y_pred[:10]"
   ]
  },
  {
   "cell_type": "code",
   "execution_count": null,
   "id": "certified-product",
   "metadata": {},
   "outputs": [],
   "source": [
    " "
   ]
  }
 ],
 "metadata": {
  "kernelspec": {
   "display_name": "Python 3",
   "language": "python",
   "name": "python3"
  },
  "language_info": {
   "codemirror_mode": {
    "name": "ipython",
    "version": 3
   },
   "file_extension": ".py",
   "mimetype": "text/x-python",
   "name": "python",
   "nbconvert_exporter": "python",
   "pygments_lexer": "ipython3",
   "version": "3.8.2"
  }
 },
 "nbformat": 4,
 "nbformat_minor": 5
}
