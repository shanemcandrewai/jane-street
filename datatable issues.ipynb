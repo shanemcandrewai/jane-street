{
 "cells": [
  {
   "cell_type": "markdown",
   "id": "offensive-klein",
   "metadata": {},
   "source": [
    "# datatable median() test"
   ]
  },
  {
   "cell_type": "code",
   "execution_count": 1,
   "id": "hawaiian-prefix",
   "metadata": {},
   "outputs": [
    {
     "data": {
      "text/html": [
       "<style type='text/css'>\n",
       ".datatable table.frame { margin-bottom: 0; }\n",
       ".datatable table.frame thead { border-bottom: none; }\n",
       ".datatable table.frame tr.coltypes td {  color: #FFFFFF;  line-height: 6px;  padding: 0 0.5em;}\n",
       ".datatable .bool    { background: #DDDD99; }\n",
       ".datatable .object  { background: #565656; }\n",
       ".datatable .int     { background: #5D9E5D; }\n",
       ".datatable .float   { background: #4040CC; }\n",
       ".datatable .str     { background: #CC4040; }\n",
       ".datatable .row_index {  background: var(--jp-border-color3);  border-right: 1px solid var(--jp-border-color0);  color: var(--jp-ui-font-color3);  font-size: 9px;}\n",
       ".datatable .frame tr.coltypes .row_index {  background: var(--jp-border-color0);}\n",
       ".datatable th:nth-child(2) { padding-left: 12px; }\n",
       ".datatable .hellipsis {  color: var(--jp-cell-editor-border-color);}\n",
       ".datatable .vellipsis {  background: var(--jp-layout-color0);  color: var(--jp-cell-editor-border-color);}\n",
       ".datatable .na {  color: var(--jp-cell-editor-border-color);  font-size: 80%;}\n",
       ".datatable .footer { font-size: 9px; }\n",
       ".datatable .frame_dimensions {  background: var(--jp-border-color3);  border-top: 1px solid var(--jp-border-color0);  color: var(--jp-ui-font-color3);  display: inline-block;  opacity: 0.6;  padding: 1px 10px 1px 5px;}\n",
       "</style>\n"
      ],
      "text/plain": [
       "<IPython.core.display.HTML object>"
      ]
     },
     "metadata": {},
     "output_type": "display_data"
    }
   ],
   "source": [
    "import datatable as dt\n",
    "import pandas as pd"
   ]
  },
  {
   "cell_type": "code",
   "execution_count": 2,
   "id": "closed-angel",
   "metadata": {},
   "outputs": [],
   "source": [
    "DT = dt.fread('jane-street-market-prediction/train.csv', columns={'date', 'feature_27'})"
   ]
  },
  {
   "cell_type": "code",
   "execution_count": 3,
   "id": "sunrise-arbor",
   "metadata": {},
   "outputs": [
    {
     "data": {
      "text/plain": [
       "('date', 'feature_27')"
      ]
     },
     "execution_count": 3,
     "metadata": {},
     "output_type": "execute_result"
    }
   ],
   "source": [
    "DT.names"
   ]
  },
  {
   "cell_type": "code",
   "execution_count": 4,
   "id": "spanish-macedonia",
   "metadata": {},
   "outputs": [],
   "source": [
    "DT.to_csv(\"date_f_27.csv\")"
   ]
  },
  {
   "cell_type": "code",
   "execution_count": 3,
   "id": "scientific-galaxy",
   "metadata": {},
   "outputs": [],
   "source": [
    "DT2 = dt.fread(\"date_f_27.jay\")"
   ]
  },
  {
   "cell_type": "code",
   "execution_count": 4,
   "id": "pregnant-shanghai",
   "metadata": {},
   "outputs": [
    {
     "ename": "RuntimeError",
     "evalue": "Invalid data access for a virtual column",
     "output_type": "error",
     "traceback": [
      "\u001b[1;31m---------------------------------------------------------------------------\u001b[0m",
      "\u001b[1;31mRuntimeError\u001b[0m                              Traceback (most recent call last)",
      "\u001b[1;32m<ipython-input-4-b21544b41271>\u001b[0m in \u001b[0;36m<module>\u001b[1;34m\u001b[0m\n\u001b[1;32m----> 1\u001b[1;33m \u001b[0mDT\u001b[0m\u001b[1;33m[\u001b[0m\u001b[1;33m:\u001b[0m\u001b[1;33m,\u001b[0m \u001b[0mdt\u001b[0m\u001b[1;33m.\u001b[0m\u001b[0mmedian\u001b[0m\u001b[1;33m(\u001b[0m\u001b[0mdt\u001b[0m\u001b[1;33m.\u001b[0m\u001b[0mf\u001b[0m\u001b[1;33m.\u001b[0m\u001b[0mfeature_27\u001b[0m\u001b[1;33m)\u001b[0m\u001b[1;33m,\u001b[0m \u001b[0mdt\u001b[0m\u001b[1;33m.\u001b[0m\u001b[0mby\u001b[0m\u001b[1;33m(\u001b[0m\u001b[0mdt\u001b[0m\u001b[1;33m.\u001b[0m\u001b[0mf\u001b[0m\u001b[1;33m.\u001b[0m\u001b[0mdate\u001b[0m\u001b[1;33m)\u001b[0m\u001b[1;33m]\u001b[0m\u001b[1;33m\u001b[0m\u001b[1;33m\u001b[0m\u001b[0m\n\u001b[0m",
      "\u001b[1;31mRuntimeError\u001b[0m: Invalid data access for a virtual column"
     ]
    }
   ],
   "source": [
    "DT[:, dt.median(dt.f.feature_27), dt.by(dt.f.date)]"
   ]
  },
  {
   "cell_type": "code",
   "execution_count": null,
   "id": "fantastic-stage",
   "metadata": {},
   "outputs": [],
   "source": [
    "DT[:, dt.mean(dt.f.feature_27), dt.by(dt.f.date)]"
   ]
  },
  {
   "cell_type": "code",
   "execution_count": null,
   "id": "iraqi-paper",
   "metadata": {},
   "outputs": [],
   "source": [
    "DT[:, dt.sd(dt.f.feature_27), dt.by(dt.f.date)]"
   ]
  },
  {
   "cell_type": "code",
   "execution_count": 4,
   "id": "generic-instruction",
   "metadata": {},
   "outputs": [
    {
     "ename": "RuntimeError",
     "evalue": "Invalid data access for a virtual column",
     "output_type": "error",
     "traceback": [
      "\u001b[0;31m---------------------------------------------------------------------------\u001b[0m",
      "\u001b[0;31mRuntimeError\u001b[0m                              Traceback (most recent call last)",
      "\u001b[0;32m<ipython-input-4-b21544b41271>\u001b[0m in \u001b[0;36m<module>\u001b[0;34m\u001b[0m\n\u001b[0;32m----> 1\u001b[0;31m \u001b[0mDT\u001b[0m\u001b[0;34m[\u001b[0m\u001b[0;34m:\u001b[0m\u001b[0;34m,\u001b[0m \u001b[0mdt\u001b[0m\u001b[0;34m.\u001b[0m\u001b[0mmedian\u001b[0m\u001b[0;34m(\u001b[0m\u001b[0mdt\u001b[0m\u001b[0;34m.\u001b[0m\u001b[0mf\u001b[0m\u001b[0;34m.\u001b[0m\u001b[0mfeature_27\u001b[0m\u001b[0;34m)\u001b[0m\u001b[0;34m,\u001b[0m \u001b[0mdt\u001b[0m\u001b[0;34m.\u001b[0m\u001b[0mby\u001b[0m\u001b[0;34m(\u001b[0m\u001b[0mdt\u001b[0m\u001b[0;34m.\u001b[0m\u001b[0mf\u001b[0m\u001b[0;34m.\u001b[0m\u001b[0mdate\u001b[0m\u001b[0;34m)\u001b[0m\u001b[0;34m]\u001b[0m\u001b[0;34m\u001b[0m\u001b[0;34m\u001b[0m\u001b[0m\n\u001b[0m",
      "\u001b[0;31mRuntimeError\u001b[0m: Invalid data access for a virtual column"
     ]
    }
   ],
   "source": [
    "DT[:, dt.median(dt.f.feature_27), dt.by(dt.f.date)]"
   ]
  },
  {
   "cell_type": "code",
   "execution_count": null,
   "id": "medieval-shirt",
   "metadata": {},
   "outputs": [],
   "source": [
    "dt.fread('tests.csv')"
   ]
  },
  {
   "cell_type": "code",
   "execution_count": null,
   "id": "acting-desire",
   "metadata": {},
   "outputs": [],
   "source": [
    "dt.fread('tests.csv', columns={'col2'})"
   ]
  },
  {
   "cell_type": "code",
   "execution_count": null,
   "id": "familiar-motivation",
   "metadata": {},
   "outputs": [],
   "source": [
    "dt.fread('tests.csv', columns=['col2', 'col1'])"
   ]
  },
  {
   "cell_type": "code",
   "execution_count": null,
   "id": "brown-condition",
   "metadata": {},
   "outputs": [],
   "source": [
    "DT"
   ]
  },
  {
   "cell_type": "code",
   "execution_count": null,
   "id": "italic-orientation",
   "metadata": {},
   "outputs": [],
   "source": [
    "DT[:, dt.sd(dt.f.col2), dt.by(dt.f.col1)]"
   ]
  },
  {
   "cell_type": "code",
   "execution_count": null,
   "id": "cultural-affairs",
   "metadata": {},
   "outputs": [],
   "source": [
    "DT[:, dt.mean(dt.f.col2), dt.by(dt.f.col1)]"
   ]
  },
  {
   "cell_type": "code",
   "execution_count": null,
   "id": "likely-landing",
   "metadata": {},
   "outputs": [],
   "source": [
    "DT[:, dt.median(dt.f.col2), dt.by(dt.f.col1)]"
   ]
  },
  {
   "cell_type": "code",
   "execution_count": null,
   "id": "sunrise-absorption",
   "metadata": {},
   "outputs": [],
   "source": [
    "!pip show datatable"
   ]
  },
  {
   "cell_type": "code",
   "execution_count": null,
   "id": "coupled-basket",
   "metadata": {},
   "outputs": [],
   "source": []
  }
 ],
 "metadata": {
  "kernelspec": {
   "display_name": "Python 3",
   "language": "python",
   "name": "python3"
  },
  "language_info": {
   "codemirror_mode": {
    "name": "ipython",
    "version": 3
   },
   "file_extension": ".py",
   "mimetype": "text/x-python",
   "name": "python",
   "nbconvert_exporter": "python",
   "pygments_lexer": "ipython3",
   "version": "3.8.2"
  }
 },
 "nbformat": 4,
 "nbformat_minor": 5
}
