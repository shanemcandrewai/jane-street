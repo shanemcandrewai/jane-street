{
 "cells": [
  {
   "cell_type": "markdown",
   "id": "thousand-campus",
   "metadata": {},
   "source": [
    "# datatable median() test"
   ]
  },
  {
   "cell_type": "code",
   "execution_count": 35,
   "id": "demonstrated-lying",
   "metadata": {},
   "outputs": [],
   "source": [
    "import datatable as dt\n",
    "import pandas as pd"
   ]
  },
  {
   "cell_type": "code",
   "execution_count": 36,
   "id": "binary-equipment",
   "metadata": {},
   "outputs": [],
   "source": [
    "DT = dt.fread('jane-street-market-prediction/train.csv')"
   ]
  },
  {
   "cell_type": "code",
   "execution_count": 37,
   "id": "encouraging-range",
   "metadata": {
    "collapsed": true,
    "jupyter": {
     "outputs_hidden": true
    }
   },
   "outputs": [
    {
     "data": {
      "text/plain": [
       "('date',\n",
       " 'weight',\n",
       " 'resp_1',\n",
       " 'resp_2',\n",
       " 'resp_3',\n",
       " 'resp_4',\n",
       " 'resp',\n",
       " 'feature_0',\n",
       " 'feature_1',\n",
       " 'feature_2',\n",
       " 'feature_3',\n",
       " 'feature_4',\n",
       " 'feature_5',\n",
       " 'feature_6',\n",
       " 'feature_7',\n",
       " 'feature_8',\n",
       " 'feature_9',\n",
       " 'feature_10',\n",
       " 'feature_11',\n",
       " 'feature_12',\n",
       " 'feature_13',\n",
       " 'feature_14',\n",
       " 'feature_15',\n",
       " 'feature_16',\n",
       " 'feature_17',\n",
       " 'feature_18',\n",
       " 'feature_19',\n",
       " 'feature_20',\n",
       " 'feature_21',\n",
       " 'feature_22',\n",
       " 'feature_23',\n",
       " 'feature_24',\n",
       " 'feature_25',\n",
       " 'feature_26',\n",
       " 'feature_27',\n",
       " 'feature_28',\n",
       " 'feature_29',\n",
       " 'feature_30',\n",
       " 'feature_31',\n",
       " 'feature_32',\n",
       " 'feature_33',\n",
       " 'feature_34',\n",
       " 'feature_35',\n",
       " 'feature_36',\n",
       " 'feature_37',\n",
       " 'feature_38',\n",
       " 'feature_39',\n",
       " 'feature_40',\n",
       " 'feature_41',\n",
       " 'feature_42',\n",
       " 'feature_43',\n",
       " 'feature_44',\n",
       " 'feature_45',\n",
       " 'feature_46',\n",
       " 'feature_47',\n",
       " 'feature_48',\n",
       " 'feature_49',\n",
       " 'feature_50',\n",
       " 'feature_51',\n",
       " 'feature_52',\n",
       " 'feature_53',\n",
       " 'feature_54',\n",
       " 'feature_55',\n",
       " 'feature_56',\n",
       " 'feature_57',\n",
       " 'feature_58',\n",
       " 'feature_59',\n",
       " 'feature_60',\n",
       " 'feature_61',\n",
       " 'feature_62',\n",
       " 'feature_63',\n",
       " 'feature_64',\n",
       " 'feature_65',\n",
       " 'feature_66',\n",
       " 'feature_67',\n",
       " 'feature_68',\n",
       " 'feature_69',\n",
       " 'feature_70',\n",
       " 'feature_71',\n",
       " 'feature_72',\n",
       " 'feature_73',\n",
       " 'feature_74',\n",
       " 'feature_75',\n",
       " 'feature_76',\n",
       " 'feature_77',\n",
       " 'feature_78',\n",
       " 'feature_79',\n",
       " 'feature_80',\n",
       " 'feature_81',\n",
       " 'feature_82',\n",
       " 'feature_83',\n",
       " 'feature_84',\n",
       " 'feature_85',\n",
       " 'feature_86',\n",
       " 'feature_87',\n",
       " 'feature_88',\n",
       " 'feature_89',\n",
       " 'feature_90',\n",
       " 'feature_91',\n",
       " 'feature_92',\n",
       " 'feature_93',\n",
       " 'feature_94',\n",
       " 'feature_95',\n",
       " 'feature_96',\n",
       " 'feature_97',\n",
       " 'feature_98',\n",
       " 'feature_99',\n",
       " 'feature_100',\n",
       " 'feature_101',\n",
       " 'feature_102',\n",
       " 'feature_103',\n",
       " 'feature_104',\n",
       " 'feature_105',\n",
       " 'feature_106',\n",
       " 'feature_107',\n",
       " 'feature_108',\n",
       " 'feature_109',\n",
       " 'feature_110',\n",
       " 'feature_111',\n",
       " 'feature_112',\n",
       " 'feature_113',\n",
       " 'feature_114',\n",
       " 'feature_115',\n",
       " 'feature_116',\n",
       " 'feature_117',\n",
       " 'feature_118',\n",
       " 'feature_119',\n",
       " 'feature_120',\n",
       " 'feature_121',\n",
       " 'feature_122',\n",
       " 'feature_123',\n",
       " 'feature_124',\n",
       " 'feature_125',\n",
       " 'feature_126',\n",
       " 'feature_127',\n",
       " 'feature_128',\n",
       " 'feature_129',\n",
       " 'ts_id')"
      ]
     },
     "execution_count": 37,
     "metadata": {},
     "output_type": "execute_result"
    }
   ],
   "source": [
    "DT.names"
   ]
  },
  {
   "cell_type": "code",
   "execution_count": 38,
   "id": "fresh-occasions",
   "metadata": {
    "collapsed": true,
    "jupyter": {
     "outputs_hidden": true
    }
   },
   "outputs": [
    {
     "data": {
      "text/html": [
       "<div class='datatable'>\n",
       "  <table class='frame'>\n",
       "  <thead>\n",
       "    <tr class='colnames'><td class='row_index'></td><th>date</th><th>feature_27</th></tr>\n",
       "    <tr class='coltypes'><td class='row_index'></td><td class='int' title='int32'>&#x25AA;&#x25AA;&#x25AA;&#x25AA;</td><td class='float' title='float64'>&#x25AA;&#x25AA;&#x25AA;&#x25AA;&#x25AA;&#x25AA;&#x25AA;&#x25AA;</td></tr>\n",
       "  </thead>\n",
       "  <tbody>\n",
       "    <tr><td class='row_index'>0</td><td>0</td><td>0.23867</td></tr>\n",
       "    <tr><td class='row_index'>1</td><td>1</td><td>0.239274</td></tr>\n",
       "    <tr><td class='row_index'>2</td><td>2</td><td>0.271599</td></tr>\n",
       "    <tr><td class='row_index'>3</td><td>3</td><td>0.244345</td></tr>\n",
       "    <tr><td class='row_index'>4</td><td>4</td><td>0.141421</td></tr>\n",
       "    <tr><td class='row_index'>5</td><td>5</td><td>0.217258</td></tr>\n",
       "    <tr><td class='row_index'>6</td><td>6</td><td>0.172206</td></tr>\n",
       "    <tr><td class='row_index'>7</td><td>7</td><td>0.131988</td></tr>\n",
       "    <tr><td class='row_index'>8</td><td>8</td><td>0.0847852</td></tr>\n",
       "    <tr><td class='row_index'>9</td><td>9</td><td>0.208382</td></tr>\n",
       "    <tr><td class='row_index'>10</td><td>10</td><td>0.245346</td></tr>\n",
       "    <tr><td class='row_index'>11</td><td>11</td><td>0.058056</td></tr>\n",
       "    <tr><td class='row_index'>12</td><td>12</td><td>0.11841</td></tr>\n",
       "    <tr><td class='row_index'>13</td><td>13</td><td>0.158368</td></tr>\n",
       "    <tr><td class='row_index'>14</td><td>14</td><td>0.186607</td></tr>\n",
       "    <tr><td class='row_index'>&#x22EE;</td><td class='hellipsis'>&#x22EE;</td><td class='hellipsis'>&#x22EE;</td></tr>\n",
       "    <tr><td class='row_index'>495</td><td>495</td><td>0.185267</td></tr>\n",
       "    <tr><td class='row_index'>496</td><td>496</td><td>0.0498683</td></tr>\n",
       "    <tr><td class='row_index'>497</td><td>497</td><td>0.0817324</td></tr>\n",
       "    <tr><td class='row_index'>498</td><td>498</td><td>0.132248</td></tr>\n",
       "    <tr><td class='row_index'>499</td><td>499</td><td>0.1298</td></tr>\n",
       "  </tbody>\n",
       "  </table>\n",
       "  <div class='footer'>\n",
       "    <div class='frame_dimensions'>500 rows &times; 2 columns</div>\n",
       "  </div>\n",
       "</div>\n"
      ],
      "text/plain": [
       "<Frame#22667383ae0 500x2>"
      ]
     },
     "execution_count": 38,
     "metadata": {},
     "output_type": "execute_result"
    }
   ],
   "source": [
    "DT[:, dt.mean(dt.f.feature_27), dt.by(dt.f.date)]"
   ]
  },
  {
   "cell_type": "code",
   "execution_count": 39,
   "id": "coordinated-shadow",
   "metadata": {
    "collapsed": true,
    "jupyter": {
     "outputs_hidden": true
    }
   },
   "outputs": [
    {
     "data": {
      "text/html": [
       "<div class='datatable'>\n",
       "  <table class='frame'>\n",
       "  <thead>\n",
       "    <tr class='colnames'><td class='row_index'></td><th>date</th><th>feature_27</th></tr>\n",
       "    <tr class='coltypes'><td class='row_index'></td><td class='int' title='int32'>&#x25AA;&#x25AA;&#x25AA;&#x25AA;</td><td class='float' title='float64'>&#x25AA;&#x25AA;&#x25AA;&#x25AA;&#x25AA;&#x25AA;&#x25AA;&#x25AA;</td></tr>\n",
       "  </thead>\n",
       "  <tbody>\n",
       "    <tr><td class='row_index'>0</td><td>0</td><td>1.98419</td></tr>\n",
       "    <tr><td class='row_index'>1</td><td>1</td><td>1.51266</td></tr>\n",
       "    <tr><td class='row_index'>2</td><td>2</td><td>1.3691</td></tr>\n",
       "    <tr><td class='row_index'>3</td><td>3</td><td>1.90308</td></tr>\n",
       "    <tr><td class='row_index'>4</td><td>4</td><td>1.69645</td></tr>\n",
       "    <tr><td class='row_index'>5</td><td>5</td><td>1.41887</td></tr>\n",
       "    <tr><td class='row_index'>6</td><td>6</td><td>1.25045</td></tr>\n",
       "    <tr><td class='row_index'>7</td><td>7</td><td>0.808696</td></tr>\n",
       "    <tr><td class='row_index'>8</td><td>8</td><td>1.47663</td></tr>\n",
       "    <tr><td class='row_index'>9</td><td>9</td><td>1.75675</td></tr>\n",
       "    <tr><td class='row_index'>10</td><td>10</td><td>1.55757</td></tr>\n",
       "    <tr><td class='row_index'>11</td><td>11</td><td>2.76906</td></tr>\n",
       "    <tr><td class='row_index'>12</td><td>12</td><td>1.75227</td></tr>\n",
       "    <tr><td class='row_index'>13</td><td>13</td><td>2.02715</td></tr>\n",
       "    <tr><td class='row_index'>14</td><td>14</td><td>1.97975</td></tr>\n",
       "    <tr><td class='row_index'>&#x22EE;</td><td class='hellipsis'>&#x22EE;</td><td class='hellipsis'>&#x22EE;</td></tr>\n",
       "    <tr><td class='row_index'>495</td><td>495</td><td>1.42143</td></tr>\n",
       "    <tr><td class='row_index'>496</td><td>496</td><td>1.26095</td></tr>\n",
       "    <tr><td class='row_index'>497</td><td>497</td><td>1.52212</td></tr>\n",
       "    <tr><td class='row_index'>498</td><td>498</td><td>0.978178</td></tr>\n",
       "    <tr><td class='row_index'>499</td><td>499</td><td>1.55784</td></tr>\n",
       "  </tbody>\n",
       "  </table>\n",
       "  <div class='footer'>\n",
       "    <div class='frame_dimensions'>500 rows &times; 2 columns</div>\n",
       "  </div>\n",
       "</div>\n"
      ],
      "text/plain": [
       "<Frame#22667383390 500x2>"
      ]
     },
     "execution_count": 39,
     "metadata": {},
     "output_type": "execute_result"
    }
   ],
   "source": [
    "DT[:, dt.sd(dt.f.feature_27), dt.by(dt.f.date)]"
   ]
  },
  {
   "cell_type": "code",
   "execution_count": 40,
   "id": "front-merchant",
   "metadata": {},
   "outputs": [
    {
     "ename": "RuntimeError",
     "evalue": "Invalid data access for a virtual column",
     "output_type": "error",
     "traceback": [
      "\u001b[1;31m---------------------------------------------------------------------------\u001b[0m",
      "\u001b[1;31mRuntimeError\u001b[0m                              Traceback (most recent call last)",
      "\u001b[1;32m<ipython-input-40-b21544b41271>\u001b[0m in \u001b[0;36m<module>\u001b[1;34m\u001b[0m\n\u001b[1;32m----> 1\u001b[1;33m \u001b[0mDT\u001b[0m\u001b[1;33m[\u001b[0m\u001b[1;33m:\u001b[0m\u001b[1;33m,\u001b[0m \u001b[0mdt\u001b[0m\u001b[1;33m.\u001b[0m\u001b[0mmedian\u001b[0m\u001b[1;33m(\u001b[0m\u001b[0mdt\u001b[0m\u001b[1;33m.\u001b[0m\u001b[0mf\u001b[0m\u001b[1;33m.\u001b[0m\u001b[0mfeature_27\u001b[0m\u001b[1;33m)\u001b[0m\u001b[1;33m,\u001b[0m \u001b[0mdt\u001b[0m\u001b[1;33m.\u001b[0m\u001b[0mby\u001b[0m\u001b[1;33m(\u001b[0m\u001b[0mdt\u001b[0m\u001b[1;33m.\u001b[0m\u001b[0mf\u001b[0m\u001b[1;33m.\u001b[0m\u001b[0mdate\u001b[0m\u001b[1;33m)\u001b[0m\u001b[1;33m]\u001b[0m\u001b[1;33m\u001b[0m\u001b[1;33m\u001b[0m\u001b[0m\n\u001b[0m",
      "\u001b[1;31mRuntimeError\u001b[0m: Invalid data access for a virtual column"
     ]
    }
   ],
   "source": [
    "DT[:, dt.median(dt.f.feature_27), dt.by(dt.f.date)]"
   ]
  },
  {
   "cell_type": "code",
   "execution_count": 27,
   "id": "inner-reward",
   "metadata": {},
   "outputs": [
    {
     "data": {
      "text/html": [
       "<div class='datatable'>\n",
       "  <table class='frame'>\n",
       "  <thead>\n",
       "    <tr class='colnames'><td class='row_index'></td><th>col1</th><th>col2</th></tr>\n",
       "    <tr class='coltypes'><td class='row_index'></td><td class='int' title='int32'>&#x25AA;&#x25AA;&#x25AA;&#x25AA;</td><td class='int' title='int32'>&#x25AA;&#x25AA;&#x25AA;&#x25AA;</td></tr>\n",
       "  </thead>\n",
       "  <tbody>\n",
       "    <tr><td class='row_index'>0</td><td>2</td><td>1</td></tr>\n",
       "    <tr><td class='row_index'>1</td><td>2</td><td>4</td></tr>\n",
       "    <tr><td class='row_index'>2</td><td>2</td><td>5</td></tr>\n",
       "    <tr><td class='row_index'>3</td><td>3</td><td>7</td></tr>\n",
       "    <tr><td class='row_index'>4</td><td>3</td><td>8</td></tr>\n",
       "    <tr><td class='row_index'>5</td><td>3</td><td>0</td></tr>\n",
       "    <tr><td class='row_index'>6</td><td>3</td><td><span class=na>NA</span></td></tr>\n",
       "  </tbody>\n",
       "  </table>\n",
       "  <div class='footer'>\n",
       "    <div class='frame_dimensions'>7 rows &times; 2 columns</div>\n",
       "  </div>\n",
       "</div>\n"
      ],
      "text/plain": [
       "<Frame#22667361ed0 7x2>"
      ]
     },
     "execution_count": 27,
     "metadata": {},
     "output_type": "execute_result"
    }
   ],
   "source": [
    "dt.fread('tests.csv')"
   ]
  },
  {
   "cell_type": "code",
   "execution_count": 28,
   "id": "fuzzy-cosmetic",
   "metadata": {},
   "outputs": [
    {
     "ename": "ValueError",
     "evalue": "Input contains 2 columns, whereas columns parameter specifies only 1 column",
     "output_type": "error",
     "traceback": [
      "\u001b[1;31m---------------------------------------------------------------------------\u001b[0m",
      "\u001b[1;31mValueError\u001b[0m                                Traceback (most recent call last)",
      "\u001b[1;32m<ipython-input-28-32b459f469c6>\u001b[0m in \u001b[0;36m<module>\u001b[1;34m\u001b[0m\n\u001b[1;32m----> 1\u001b[1;33m \u001b[0mdt\u001b[0m\u001b[1;33m.\u001b[0m\u001b[0mfread\u001b[0m\u001b[1;33m(\u001b[0m\u001b[1;34m'tests.csv'\u001b[0m\u001b[1;33m,\u001b[0m \u001b[0mcolumns\u001b[0m\u001b[1;33m=\u001b[0m\u001b[1;33m[\u001b[0m\u001b[1;34m'col2'\u001b[0m\u001b[1;33m]\u001b[0m\u001b[1;33m)\u001b[0m\u001b[1;33m\u001b[0m\u001b[1;33m\u001b[0m\u001b[0m\n\u001b[0m",
      "\u001b[1;32mc:\\users\\deskt\\dev\\venv\\3.8\\lib\\site-packages\\datatable\\utils\\fread.py\u001b[0m in \u001b[0;36m_override_columns\u001b[1;34m(colspec, coldescs)\u001b[0m\n\u001b[0;32m    380\u001b[0m         \u001b[1;32mreturn\u001b[0m \u001b[0m_apply_columns_set\u001b[0m\u001b[1;33m(\u001b[0m\u001b[0mcolspec\u001b[0m\u001b[1;33m,\u001b[0m \u001b[0mcoldescs\u001b[0m\u001b[1;33m)\u001b[0m\u001b[1;33m\u001b[0m\u001b[1;33m\u001b[0m\u001b[0m\n\u001b[0;32m    381\u001b[0m     \u001b[1;32mif\u001b[0m \u001b[0misinstance\u001b[0m\u001b[1;33m(\u001b[0m\u001b[0mcolspec\u001b[0m\u001b[1;33m,\u001b[0m \u001b[1;33m(\u001b[0m\u001b[0mlist\u001b[0m\u001b[1;33m,\u001b[0m \u001b[0mtuple\u001b[0m\u001b[1;33m)\u001b[0m\u001b[1;33m)\u001b[0m\u001b[1;33m:\u001b[0m\u001b[1;33m\u001b[0m\u001b[1;33m\u001b[0m\u001b[0m\n\u001b[1;32m--> 382\u001b[1;33m         \u001b[1;32mreturn\u001b[0m \u001b[0m_apply_columns_list\u001b[0m\u001b[1;33m(\u001b[0m\u001b[0mcolspec\u001b[0m\u001b[1;33m,\u001b[0m \u001b[0mcoldescs\u001b[0m\u001b[1;33m)\u001b[0m\u001b[1;33m\u001b[0m\u001b[1;33m\u001b[0m\u001b[0m\n\u001b[0m\u001b[0;32m    383\u001b[0m     \u001b[1;32mif\u001b[0m \u001b[0misinstance\u001b[0m\u001b[1;33m(\u001b[0m\u001b[0mcolspec\u001b[0m\u001b[1;33m,\u001b[0m \u001b[0mdict\u001b[0m\u001b[1;33m)\u001b[0m\u001b[1;33m:\u001b[0m\u001b[1;33m\u001b[0m\u001b[1;33m\u001b[0m\u001b[0m\n\u001b[0;32m    384\u001b[0m         \u001b[1;32mreturn\u001b[0m \u001b[0m_apply_columns_dict\u001b[0m\u001b[1;33m(\u001b[0m\u001b[0mcolspec\u001b[0m\u001b[1;33m,\u001b[0m \u001b[0mcoldescs\u001b[0m\u001b[1;33m)\u001b[0m\u001b[1;33m\u001b[0m\u001b[1;33m\u001b[0m\u001b[0m\n",
      "\u001b[1;32mc:\\users\\deskt\\dev\\venv\\3.8\\lib\\site-packages\\datatable\\utils\\fread.py\u001b[0m in \u001b[0;36m_apply_columns_list\u001b[1;34m(collist, colsdesc)\u001b[0m\n\u001b[0;32m    440\u001b[0m     \u001b[0mnn\u001b[0m \u001b[1;33m=\u001b[0m \u001b[0mlen\u001b[0m\u001b[1;33m(\u001b[0m\u001b[0mcollist\u001b[0m\u001b[1;33m)\u001b[0m\u001b[1;33m\u001b[0m\u001b[1;33m\u001b[0m\u001b[0m\n\u001b[0;32m    441\u001b[0m     \u001b[1;32mif\u001b[0m \u001b[0mn\u001b[0m \u001b[1;33m!=\u001b[0m \u001b[0mnn\u001b[0m\u001b[1;33m:\u001b[0m\u001b[1;33m\u001b[0m\u001b[1;33m\u001b[0m\u001b[0m\n\u001b[1;32m--> 442\u001b[1;33m         raise ValueError(\"Input contains %s, whereas `columns` \"\n\u001b[0m\u001b[0;32m    443\u001b[0m                          \u001b[1;34m\"parameter specifies only %s\"\u001b[0m\u001b[1;33m\u001b[0m\u001b[1;33m\u001b[0m\u001b[0m\n\u001b[0;32m    444\u001b[0m                          % (plural(n, \"column\"), plural(nn, \"column\")))\n",
      "\u001b[1;31mValueError\u001b[0m: Input contains 2 columns, whereas columns parameter specifies only 1 column"
     ]
    }
   ],
   "source": [
    "dt.fread('tests.csv', columns=['col2'])"
   ]
  },
  {
   "cell_type": "code",
   "execution_count": 30,
   "id": "precise-despite",
   "metadata": {},
   "outputs": [
    {
     "data": {
      "text/html": [
       "<div class='datatable'>\n",
       "  <table class='frame'>\n",
       "  <thead>\n",
       "    <tr class='colnames'><td class='row_index'></td><th>col2</th><th>col1</th></tr>\n",
       "    <tr class='coltypes'><td class='row_index'></td><td class='int' title='int32'>&#x25AA;&#x25AA;&#x25AA;&#x25AA;</td><td class='int' title='int32'>&#x25AA;&#x25AA;&#x25AA;&#x25AA;</td></tr>\n",
       "  </thead>\n",
       "  <tbody>\n",
       "    <tr><td class='row_index'>0</td><td>2</td><td>1</td></tr>\n",
       "    <tr><td class='row_index'>1</td><td>2</td><td>4</td></tr>\n",
       "    <tr><td class='row_index'>2</td><td>2</td><td>5</td></tr>\n",
       "    <tr><td class='row_index'>3</td><td>3</td><td>7</td></tr>\n",
       "    <tr><td class='row_index'>4</td><td>3</td><td>8</td></tr>\n",
       "    <tr><td class='row_index'>5</td><td>3</td><td>0</td></tr>\n",
       "    <tr><td class='row_index'>6</td><td>3</td><td><span class=na>NA</span></td></tr>\n",
       "  </tbody>\n",
       "  </table>\n",
       "  <div class='footer'>\n",
       "    <div class='frame_dimensions'>7 rows &times; 2 columns</div>\n",
       "  </div>\n",
       "</div>\n"
      ],
      "text/plain": [
       "<Frame#22667361ea0 7x2>"
      ]
     },
     "execution_count": 30,
     "metadata": {},
     "output_type": "execute_result"
    }
   ],
   "source": [
    "dt.fread('tests.csv', columns=['col2', 'col1'])"
   ]
  },
  {
   "cell_type": "code",
   "execution_count": 25,
   "id": "suitable-interval",
   "metadata": {},
   "outputs": [
    {
     "data": {
      "text/html": [
       "<div class='datatable'>\n",
       "  <table class='frame'>\n",
       "  <thead>\n",
       "    <tr class='colnames'><td class='row_index'></td><th>col2</th><th>col1</th></tr>\n",
       "    <tr class='coltypes'><td class='row_index'></td><td class='int' title='int32'>&#x25AA;&#x25AA;&#x25AA;&#x25AA;</td><td class='int' title='int32'>&#x25AA;&#x25AA;&#x25AA;&#x25AA;</td></tr>\n",
       "  </thead>\n",
       "  <tbody>\n",
       "    <tr><td class='row_index'>0</td><td>2</td><td>1</td></tr>\n",
       "    <tr><td class='row_index'>1</td><td>2</td><td>4</td></tr>\n",
       "    <tr><td class='row_index'>2</td><td>2</td><td>5</td></tr>\n",
       "    <tr><td class='row_index'>3</td><td>3</td><td>7</td></tr>\n",
       "    <tr><td class='row_index'>4</td><td>3</td><td>8</td></tr>\n",
       "    <tr><td class='row_index'>5</td><td>3</td><td>0</td></tr>\n",
       "    <tr><td class='row_index'>6</td><td>3</td><td><span class=na>NA</span></td></tr>\n",
       "  </tbody>\n",
       "  </table>\n",
       "  <div class='footer'>\n",
       "    <div class='frame_dimensions'>7 rows &times; 2 columns</div>\n",
       "  </div>\n",
       "</div>\n"
      ],
      "text/plain": [
       "<Frame#22667361360 7x2>"
      ]
     },
     "execution_count": 25,
     "metadata": {},
     "output_type": "execute_result"
    }
   ],
   "source": [
    "DT"
   ]
  },
  {
   "cell_type": "code",
   "execution_count": 16,
   "id": "inner-albania",
   "metadata": {},
   "outputs": [
    {
     "data": {
      "text/html": [
       "<div class='datatable'>\n",
       "  <table class='frame'>\n",
       "  <thead>\n",
       "    <tr class='colnames'><td class='row_index'></td><th>col1</th><th>col2</th></tr>\n",
       "    <tr class='coltypes'><td class='row_index'></td><td class='int' title='int32'>&#x25AA;&#x25AA;&#x25AA;&#x25AA;</td><td class='float' title='float64'>&#x25AA;&#x25AA;&#x25AA;&#x25AA;&#x25AA;&#x25AA;&#x25AA;&#x25AA;</td></tr>\n",
       "  </thead>\n",
       "  <tbody>\n",
       "    <tr><td class='row_index'>0</td><td>2</td><td>2.08167</td></tr>\n",
       "    <tr><td class='row_index'>1</td><td>3</td><td>4.3589</td></tr>\n",
       "  </tbody>\n",
       "  </table>\n",
       "  <div class='footer'>\n",
       "    <div class='frame_dimensions'>2 rows &times; 2 columns</div>\n",
       "  </div>\n",
       "</div>\n"
      ],
      "text/plain": [
       "<Frame#22667361810 2x2>"
      ]
     },
     "execution_count": 16,
     "metadata": {},
     "output_type": "execute_result"
    }
   ],
   "source": [
    "DT[:, dt.sd(dt.f.col2), dt.by(dt.f.col1)]"
   ]
  },
  {
   "cell_type": "code",
   "execution_count": 31,
   "id": "separate-nelson",
   "metadata": {},
   "outputs": [
    {
     "data": {
      "text/html": [
       "<div class='datatable'>\n",
       "  <table class='frame'>\n",
       "  <thead>\n",
       "    <tr class='colnames'><td class='row_index'></td><th>col1</th><th>col2</th></tr>\n",
       "    <tr class='coltypes'><td class='row_index'></td><td class='int' title='int32'>&#x25AA;&#x25AA;&#x25AA;&#x25AA;</td><td class='float' title='float64'>&#x25AA;&#x25AA;&#x25AA;&#x25AA;&#x25AA;&#x25AA;&#x25AA;&#x25AA;</td></tr>\n",
       "  </thead>\n",
       "  <tbody>\n",
       "    <tr><td class='row_index'>0</td><td><span class=na>NA</span></td><td>3</td></tr>\n",
       "    <tr><td class='row_index'>1</td><td>0</td><td>3</td></tr>\n",
       "    <tr><td class='row_index'>2</td><td>1</td><td>2</td></tr>\n",
       "    <tr><td class='row_index'>3</td><td>4</td><td>2</td></tr>\n",
       "    <tr><td class='row_index'>4</td><td>5</td><td>2</td></tr>\n",
       "    <tr><td class='row_index'>5</td><td>7</td><td>3</td></tr>\n",
       "    <tr><td class='row_index'>6</td><td>8</td><td>3</td></tr>\n",
       "  </tbody>\n",
       "  </table>\n",
       "  <div class='footer'>\n",
       "    <div class='frame_dimensions'>7 rows &times; 2 columns</div>\n",
       "  </div>\n",
       "</div>\n"
      ],
      "text/plain": [
       "<Frame#22667383180 7x2>"
      ]
     },
     "execution_count": 31,
     "metadata": {},
     "output_type": "execute_result"
    }
   ],
   "source": [
    "DT[:, dt.mean(dt.f.col2), dt.by(dt.f.col1)]"
   ]
  },
  {
   "cell_type": "code",
   "execution_count": 32,
   "id": "persistent-restoration",
   "metadata": {},
   "outputs": [
    {
     "data": {
      "text/html": [
       "<div class='datatable'>\n",
       "  <table class='frame'>\n",
       "  <thead>\n",
       "    <tr class='colnames'><td class='row_index'></td><th>col1</th><th>col2</th></tr>\n",
       "    <tr class='coltypes'><td class='row_index'></td><td class='int' title='int32'>&#x25AA;&#x25AA;&#x25AA;&#x25AA;</td><td class='float' title='float64'>&#x25AA;&#x25AA;&#x25AA;&#x25AA;&#x25AA;&#x25AA;&#x25AA;&#x25AA;</td></tr>\n",
       "  </thead>\n",
       "  <tbody>\n",
       "    <tr><td class='row_index'>0</td><td><span class=na>NA</span></td><td>3</td></tr>\n",
       "    <tr><td class='row_index'>1</td><td>0</td><td>3</td></tr>\n",
       "    <tr><td class='row_index'>2</td><td>1</td><td>2</td></tr>\n",
       "    <tr><td class='row_index'>3</td><td>4</td><td>2</td></tr>\n",
       "    <tr><td class='row_index'>4</td><td>5</td><td>2</td></tr>\n",
       "    <tr><td class='row_index'>5</td><td>7</td><td>3</td></tr>\n",
       "    <tr><td class='row_index'>6</td><td>8</td><td>3</td></tr>\n",
       "  </tbody>\n",
       "  </table>\n",
       "  <div class='footer'>\n",
       "    <div class='frame_dimensions'>7 rows &times; 2 columns</div>\n",
       "  </div>\n",
       "</div>\n"
      ],
      "text/plain": [
       "<Frame#22667383210 7x2>"
      ]
     },
     "execution_count": 32,
     "metadata": {},
     "output_type": "execute_result"
    }
   ],
   "source": [
    "DT[:, dt.median(dt.f.col2), dt.by(dt.f.col1)]"
   ]
  },
  {
   "cell_type": "code",
   "execution_count": 26,
   "id": "ecological-glory",
   "metadata": {},
   "outputs": [
    {
     "name": "stdout",
     "output_type": "stream",
     "text": [
      "Name: datatable\n",
      "Version: 0.11.1\n",
      "Summary: Python library for fast multi-threaded data manipulation and munging.\n",
      "Home-page: https://github.com/h2oai/datatable\n",
      "Author: Pasha Stetsenko\n",
      "Author-email: pasha.stetsenko@h2o.ai\n",
      "License: Mozilla Public License v2.0\n",
      "Location: c:\\users\\deskt\\dev\\venv\\3.8\\lib\\site-packages\n",
      "Requires: \n",
      "Required-by: \n"
     ]
    }
   ],
   "source": [
    "!pip show datatable"
   ]
  },
  {
   "cell_type": "code",
   "execution_count": null,
   "id": "located-license",
   "metadata": {},
   "outputs": [],
   "source": []
  }
 ],
 "metadata": {
  "kernelspec": {
   "display_name": "Python 3",
   "language": "python",
   "name": "python3"
  },
  "language_info": {
   "codemirror_mode": {
    "name": "ipython",
    "version": 3
   },
   "file_extension": ".py",
   "mimetype": "text/x-python",
   "name": "python",
   "nbconvert_exporter": "python",
   "pygments_lexer": "ipython3",
   "version": "3.8.2"
  }
 },
 "nbformat": 4,
 "nbformat_minor": 5
}
