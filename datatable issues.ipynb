{
 "cells": [
  {
   "cell_type": "markdown",
   "id": "retired-revision",
   "metadata": {},
   "source": [
    "# datatable median() test"
   ]
  },
  {
   "cell_type": "code",
   "execution_count": 1,
   "id": "bulgarian-junction",
   "metadata": {},
   "outputs": [
    {
     "data": {
      "text/html": [
       "<style type='text/css'>\n",
       ".datatable table.frame { margin-bottom: 0; }\n",
       ".datatable table.frame thead { border-bottom: none; }\n",
       ".datatable table.frame tr.coltypes td {  color: #FFFFFF;  line-height: 6px;  padding: 0 0.5em;}\n",
       ".datatable .bool    { background: #DDDD99; }\n",
       ".datatable .object  { background: #565656; }\n",
       ".datatable .int     { background: #5D9E5D; }\n",
       ".datatable .float   { background: #4040CC; }\n",
       ".datatable .str     { background: #CC4040; }\n",
       ".datatable .row_index {  background: var(--jp-border-color3);  border-right: 1px solid var(--jp-border-color0);  color: var(--jp-ui-font-color3);  font-size: 9px;}\n",
       ".datatable .frame tr.coltypes .row_index {  background: var(--jp-border-color0);}\n",
       ".datatable th:nth-child(2) { padding-left: 12px; }\n",
       ".datatable .hellipsis {  color: var(--jp-cell-editor-border-color);}\n",
       ".datatable .vellipsis {  background: var(--jp-layout-color0);  color: var(--jp-cell-editor-border-color);}\n",
       ".datatable .na {  color: var(--jp-cell-editor-border-color);  font-size: 80%;}\n",
       ".datatable .footer { font-size: 9px; }\n",
       ".datatable .frame_dimensions {  background: var(--jp-border-color3);  border-top: 1px solid var(--jp-border-color0);  color: var(--jp-ui-font-color3);  display: inline-block;  opacity: 0.6;  padding: 1px 10px 1px 5px;}\n",
       "</style>\n"
      ],
      "text/plain": [
       "<IPython.core.display.HTML object>"
      ]
     },
     "metadata": {},
     "output_type": "display_data"
    }
   ],
   "source": [
    "import datatable as dt\n",
    "import pandas as pd"
   ]
  },
  {
   "cell_type": "code",
   "execution_count": 2,
   "id": "opened-assets",
   "metadata": {},
   "outputs": [],
   "source": [
    "DT = dt.fread('jane-street-market-prediction/train.csv', columns={'date', 'feature_27'})"
   ]
  },
  {
   "cell_type": "code",
   "execution_count": 3,
   "id": "surgical-baking",
   "metadata": {},
   "outputs": [
    {
     "data": {
      "text/plain": [
       "('date', 'feature_27')"
      ]
     },
     "execution_count": 3,
     "metadata": {},
     "output_type": "execute_result"
    }
   ],
   "source": [
    "DT.names"
   ]
  },
  {
   "cell_type": "code",
   "execution_count": 4,
   "id": "allied-hardware",
   "metadata": {},
   "outputs": [],
   "source": [
    "DT.to_csv(\"date_f_27.csv\")"
   ]
  },
  {
   "cell_type": "code",
   "execution_count": 3,
   "id": "armed-boulder",
   "metadata": {},
   "outputs": [],
   "source": [
    "DT2 = dt.fread(\"date_f_27.jay\")"
   ]
  },
  {
   "cell_type": "code",
   "execution_count": 4,
   "id": "olympic-frequency",
   "metadata": {},
   "outputs": [
    {
     "data": {
      "text/html": [
       "<div class='datatable'>\n",
       "  <table class='frame'>\n",
       "  <thead>\n",
       "    <tr class='colnames'><td class='row_index'></td><th>date</th><th>feature_27</th></tr>\n",
       "    <tr class='coltypes'><td class='row_index'></td><td class='int' title='int32'>&#x25AA;&#x25AA;&#x25AA;&#x25AA;</td><td class='float' title='float64'>&#x25AA;&#x25AA;&#x25AA;&#x25AA;&#x25AA;&#x25AA;&#x25AA;&#x25AA;</td></tr>\n",
       "  </thead>\n",
       "  <tbody>\n",
       "    <tr><td class='row_index'>0</td><td>0</td><td>&minus;0.000839503</td></tr>\n",
       "    <tr><td class='row_index'>1</td><td>1</td><td>0.153842</td></tr>\n",
       "    <tr><td class='row_index'>2</td><td>2</td><td>&minus;0.0885827</td></tr>\n",
       "    <tr><td class='row_index'>3</td><td>3</td><td>0.0707013</td></tr>\n",
       "    <tr><td class='row_index'>4</td><td>4</td><td>&minus;0.0575367</td></tr>\n",
       "    <tr><td class='row_index'>5</td><td>5</td><td>0.0698088</td></tr>\n",
       "    <tr><td class='row_index'>6</td><td>6</td><td>&minus;0.0100738</td></tr>\n",
       "    <tr><td class='row_index'>7</td><td>7</td><td>0.127352</td></tr>\n",
       "    <tr><td class='row_index'>8</td><td>8</td><td>&minus;0.0408148</td></tr>\n",
       "    <tr><td class='row_index'>9</td><td>9</td><td>0.094382</td></tr>\n",
       "    <tr><td class='row_index'>10</td><td>10</td><td>0.125086</td></tr>\n",
       "    <tr><td class='row_index'>11</td><td>11</td><td>&minus;0.020986</td></tr>\n",
       "    <tr><td class='row_index'>12</td><td>12</td><td>&minus;0.129292</td></tr>\n",
       "    <tr><td class='row_index'>13</td><td>13</td><td>&minus;0.0457962</td></tr>\n",
       "    <tr><td class='row_index'>14</td><td>14</td><td>0.100389</td></tr>\n",
       "    <tr><td class='row_index'>&#x22EE;</td><td class='hellipsis'>&#x22EE;</td><td class='hellipsis'>&#x22EE;</td></tr>\n",
       "    <tr><td class='row_index'>495</td><td>495</td><td>0.147665</td></tr>\n",
       "    <tr><td class='row_index'>496</td><td>496</td><td>&minus;0.0284345</td></tr>\n",
       "    <tr><td class='row_index'>497</td><td>497</td><td>&minus;0.0179392</td></tr>\n",
       "    <tr><td class='row_index'>498</td><td>498</td><td>&minus;0.0114319</td></tr>\n",
       "    <tr><td class='row_index'>499</td><td>499</td><td>0.102722</td></tr>\n",
       "  </tbody>\n",
       "  </table>\n",
       "  <div class='footer'>\n",
       "    <div class='frame_dimensions'>500 rows &times; 2 columns</div>\n",
       "  </div>\n",
       "</div>\n"
      ],
      "text/plain": [
       "<Frame#7fa5ba843d80 500x2>"
      ]
     },
     "execution_count": 4,
     "metadata": {},
     "output_type": "execute_result"
    }
   ],
   "source": [
    "DT2[:, dt.median(dt.f.feature_27), dt.by(dt.f.date)]"
   ]
  },
  {
   "cell_type": "code",
   "execution_count": null,
   "id": "hungarian-building",
   "metadata": {},
   "outputs": [],
   "source": [
    "DT[:, dt.mean(dt.f.feature_27), dt.by(dt.f.date)]"
   ]
  },
  {
   "cell_type": "code",
   "execution_count": null,
   "id": "living-photography",
   "metadata": {},
   "outputs": [],
   "source": [
    "DT[:, dt.sd(dt.f.feature_27), dt.by(dt.f.date)]"
   ]
  },
  {
   "cell_type": "code",
   "execution_count": 4,
   "id": "fifth-victory",
   "metadata": {},
   "outputs": [
    {
     "ename": "RuntimeError",
     "evalue": "Invalid data access for a virtual column",
     "output_type": "error",
     "traceback": [
      "\u001b[0;31m---------------------------------------------------------------------------\u001b[0m",
      "\u001b[0;31mRuntimeError\u001b[0m                              Traceback (most recent call last)",
      "\u001b[0;32m<ipython-input-4-b21544b41271>\u001b[0m in \u001b[0;36m<module>\u001b[0;34m\u001b[0m\n\u001b[0;32m----> 1\u001b[0;31m \u001b[0mDT\u001b[0m\u001b[0;34m[\u001b[0m\u001b[0;34m:\u001b[0m\u001b[0;34m,\u001b[0m \u001b[0mdt\u001b[0m\u001b[0;34m.\u001b[0m\u001b[0mmedian\u001b[0m\u001b[0;34m(\u001b[0m\u001b[0mdt\u001b[0m\u001b[0;34m.\u001b[0m\u001b[0mf\u001b[0m\u001b[0;34m.\u001b[0m\u001b[0mfeature_27\u001b[0m\u001b[0;34m)\u001b[0m\u001b[0;34m,\u001b[0m \u001b[0mdt\u001b[0m\u001b[0;34m.\u001b[0m\u001b[0mby\u001b[0m\u001b[0;34m(\u001b[0m\u001b[0mdt\u001b[0m\u001b[0;34m.\u001b[0m\u001b[0mf\u001b[0m\u001b[0;34m.\u001b[0m\u001b[0mdate\u001b[0m\u001b[0;34m)\u001b[0m\u001b[0;34m]\u001b[0m\u001b[0;34m\u001b[0m\u001b[0;34m\u001b[0m\u001b[0m\n\u001b[0m",
      "\u001b[0;31mRuntimeError\u001b[0m: Invalid data access for a virtual column"
     ]
    }
   ],
   "source": [
    "DT[:, dt.median(dt.f.feature_27), dt.by(dt.f.date)]"
   ]
  },
  {
   "cell_type": "code",
   "execution_count": null,
   "id": "cardiovascular-estate",
   "metadata": {},
   "outputs": [],
   "source": [
    "dt.fread('tests.csv')"
   ]
  },
  {
   "cell_type": "code",
   "execution_count": null,
   "id": "therapeutic-match",
   "metadata": {},
   "outputs": [],
   "source": [
    "dt.fread('tests.csv', columns={'col2'})"
   ]
  },
  {
   "cell_type": "code",
   "execution_count": null,
   "id": "basic-hours",
   "metadata": {},
   "outputs": [],
   "source": [
    "dt.fread('tests.csv', columns=['col2', 'col1'])"
   ]
  },
  {
   "cell_type": "code",
   "execution_count": null,
   "id": "chemical-insert",
   "metadata": {},
   "outputs": [],
   "source": [
    "DT"
   ]
  },
  {
   "cell_type": "code",
   "execution_count": null,
   "id": "protecting-island",
   "metadata": {},
   "outputs": [],
   "source": [
    "DT[:, dt.sd(dt.f.col2), dt.by(dt.f.col1)]"
   ]
  },
  {
   "cell_type": "code",
   "execution_count": null,
   "id": "incredible-theater",
   "metadata": {},
   "outputs": [],
   "source": [
    "DT[:, dt.mean(dt.f.col2), dt.by(dt.f.col1)]"
   ]
  },
  {
   "cell_type": "code",
   "execution_count": null,
   "id": "fifty-specialist",
   "metadata": {},
   "outputs": [],
   "source": [
    "DT[:, dt.median(dt.f.col2), dt.by(dt.f.col1)]"
   ]
  },
  {
   "cell_type": "code",
   "execution_count": null,
   "id": "brave-winning",
   "metadata": {},
   "outputs": [],
   "source": [
    "!pip show datatable"
   ]
  },
  {
   "cell_type": "code",
   "execution_count": null,
   "id": "impossible-animal",
   "metadata": {},
   "outputs": [],
   "source": []
  }
 ],
 "metadata": {
  "kernelspec": {
   "display_name": "Python 3",
   "language": "python",
   "name": "python3"
  },
  "language_info": {
   "codemirror_mode": {
    "name": "ipython",
    "version": 3
   },
   "file_extension": ".py",
   "mimetype": "text/x-python",
   "name": "python",
   "nbconvert_exporter": "python",
   "pygments_lexer": "ipython3",
   "version": "3.8.7"
  }
 },
 "nbformat": 4,
 "nbformat_minor": 5
}
